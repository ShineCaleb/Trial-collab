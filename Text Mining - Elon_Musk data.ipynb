{
 "cells": [
  {
   "cell_type": "markdown",
   "id": "c3f48d05",
   "metadata": {},
   "source": [
    "# Text Mining Assignement"
   ]
  },
  {
   "cell_type": "markdown",
   "id": "cc380efd",
   "metadata": {},
   "source": [
    "### Data Set : Elon_musk"
   ]
  },
  {
   "cell_type": "markdown",
   "id": "d5a4a552",
   "metadata": {},
   "source": [
    "# 1. Import Necessary libraries"
   ]
  },
  {
   "cell_type": "code",
   "execution_count": 1,
   "id": "bf4b6886",
   "metadata": {
    "ExecuteTime": {
     "end_time": "2022-12-12T09:52:59.043368Z",
     "start_time": "2022-12-12T09:50:34.195124Z"
    }
   },
   "outputs": [],
   "source": [
    "import pandas as pd\n",
    "import numpy as np\n",
    "\n",
    "import seaborn as sns\n",
    "from matplotlib import pyplot as plt\n",
    "from matplotlib.pyplot import imread\n",
    "\n",
    "import warnings\n",
    "warnings.filterwarnings('ignore')"
   ]
  },
  {
   "cell_type": "markdown",
   "id": "6e78092a",
   "metadata": {},
   "source": [
    "# 2. Import Data"
   ]
  },
  {
   "cell_type": "code",
   "execution_count": 2,
   "id": "193143d7",
   "metadata": {
    "ExecuteTime": {
     "end_time": "2022-12-12T09:52:59.541723Z",
     "start_time": "2022-12-12T09:52:59.096467Z"
    }
   },
   "outputs": [
    {
     "data": {
      "text/html": [
       "<div>\n",
       "<style scoped>\n",
       "    .dataframe tbody tr th:only-of-type {\n",
       "        vertical-align: middle;\n",
       "    }\n",
       "\n",
       "    .dataframe tbody tr th {\n",
       "        vertical-align: top;\n",
       "    }\n",
       "\n",
       "    .dataframe thead th {\n",
       "        text-align: right;\n",
       "    }\n",
       "</style>\n",
       "<table border=\"1\" class=\"dataframe\">\n",
       "  <thead>\n",
       "    <tr style=\"text-align: right;\">\n",
       "      <th></th>\n",
       "      <th>Unnamed: 0</th>\n",
       "      <th>Text</th>\n",
       "    </tr>\n",
       "  </thead>\n",
       "  <tbody>\n",
       "    <tr>\n",
       "      <th>0</th>\n",
       "      <td>1</td>\n",
       "      <td>@kunalb11 Iím an alien</td>\n",
       "    </tr>\n",
       "    <tr>\n",
       "      <th>1</th>\n",
       "      <td>2</td>\n",
       "      <td>@ID_AA_Carmack Ray tracing on Cyberpunk with H...</td>\n",
       "    </tr>\n",
       "    <tr>\n",
       "      <th>2</th>\n",
       "      <td>3</td>\n",
       "      <td>@joerogan @Spotify Great interview!</td>\n",
       "    </tr>\n",
       "    <tr>\n",
       "      <th>3</th>\n",
       "      <td>4</td>\n",
       "      <td>@gtera27 Doge is underestimated</td>\n",
       "    </tr>\n",
       "    <tr>\n",
       "      <th>4</th>\n",
       "      <td>5</td>\n",
       "      <td>@teslacn Congratulations Tesla China for amazi...</td>\n",
       "    </tr>\n",
       "    <tr>\n",
       "      <th>...</th>\n",
       "      <td>...</td>\n",
       "      <td>...</td>\n",
       "    </tr>\n",
       "    <tr>\n",
       "      <th>1994</th>\n",
       "      <td>1995</td>\n",
       "      <td>@flcnhvy True, it sounds so surreal, but the n...</td>\n",
       "    </tr>\n",
       "    <tr>\n",
       "      <th>1995</th>\n",
       "      <td>1996</td>\n",
       "      <td>@PPathole Make sure to read ur terms &amp;amp; con...</td>\n",
       "    </tr>\n",
       "    <tr>\n",
       "      <th>1996</th>\n",
       "      <td>1997</td>\n",
       "      <td>@TeslaGong @PPathole Samwise Gamgee</td>\n",
       "    </tr>\n",
       "    <tr>\n",
       "      <th>1997</th>\n",
       "      <td>1998</td>\n",
       "      <td>@PPathole Altho Dumb and Dumber is &lt;U+0001F525...</td>\n",
       "    </tr>\n",
       "    <tr>\n",
       "      <th>1998</th>\n",
       "      <td>1999</td>\n",
       "      <td>Progress update August 28</td>\n",
       "    </tr>\n",
       "  </tbody>\n",
       "</table>\n",
       "<p>1999 rows × 2 columns</p>\n",
       "</div>"
      ],
      "text/plain": [
       "      Unnamed: 0                                               Text\n",
       "0              1                             @kunalb11 Iím an alien\n",
       "1              2  @ID_AA_Carmack Ray tracing on Cyberpunk with H...\n",
       "2              3                @joerogan @Spotify Great interview!\n",
       "3              4                    @gtera27 Doge is underestimated\n",
       "4              5  @teslacn Congratulations Tesla China for amazi...\n",
       "...          ...                                                ...\n",
       "1994        1995  @flcnhvy True, it sounds so surreal, but the n...\n",
       "1995        1996  @PPathole Make sure to read ur terms &amp; con...\n",
       "1996        1997                @TeslaGong @PPathole Samwise Gamgee\n",
       "1997        1998  @PPathole Altho Dumb and Dumber is <U+0001F525...\n",
       "1998        1999                          Progress update August 28\n",
       "\n",
       "[1999 rows x 2 columns]"
      ]
     },
     "execution_count": 2,
     "metadata": {},
     "output_type": "execute_result"
    }
   ],
   "source": [
    "tweets = pd.read_csv(\"Elon_musk.csv\",encoding = 'mac_roman',error_bad_lines = False)\n",
    "tweets"
   ]
  },
  {
   "cell_type": "code",
   "execution_count": 3,
   "id": "3d865910",
   "metadata": {
    "ExecuteTime": {
     "end_time": "2022-12-12T09:52:59.603183Z",
     "start_time": "2022-12-12T09:52:59.577329Z"
    }
   },
   "outputs": [
    {
     "data": {
      "text/html": [
       "<div>\n",
       "<style scoped>\n",
       "    .dataframe tbody tr th:only-of-type {\n",
       "        vertical-align: middle;\n",
       "    }\n",
       "\n",
       "    .dataframe tbody tr th {\n",
       "        vertical-align: top;\n",
       "    }\n",
       "\n",
       "    .dataframe thead th {\n",
       "        text-align: right;\n",
       "    }\n",
       "</style>\n",
       "<table border=\"1\" class=\"dataframe\">\n",
       "  <thead>\n",
       "    <tr style=\"text-align: right;\">\n",
       "      <th></th>\n",
       "      <th>Unnamed: 0</th>\n",
       "      <th>Text</th>\n",
       "    </tr>\n",
       "  </thead>\n",
       "  <tbody>\n",
       "    <tr>\n",
       "      <th>0</th>\n",
       "      <td>1</td>\n",
       "      <td>@kunalb11 Iím an alien</td>\n",
       "    </tr>\n",
       "    <tr>\n",
       "      <th>1</th>\n",
       "      <td>2</td>\n",
       "      <td>@ID_AA_Carmack Ray tracing on Cyberpunk with H...</td>\n",
       "    </tr>\n",
       "    <tr>\n",
       "      <th>2</th>\n",
       "      <td>3</td>\n",
       "      <td>@joerogan @Spotify Great interview!</td>\n",
       "    </tr>\n",
       "    <tr>\n",
       "      <th>3</th>\n",
       "      <td>4</td>\n",
       "      <td>@gtera27 Doge is underestimated</td>\n",
       "    </tr>\n",
       "    <tr>\n",
       "      <th>4</th>\n",
       "      <td>5</td>\n",
       "      <td>@teslacn Congratulations Tesla China for amazi...</td>\n",
       "    </tr>\n",
       "    <tr>\n",
       "      <th>...</th>\n",
       "      <td>...</td>\n",
       "      <td>...</td>\n",
       "    </tr>\n",
       "    <tr>\n",
       "      <th>95</th>\n",
       "      <td>96</td>\n",
       "      <td>Doge</td>\n",
       "    </tr>\n",
       "    <tr>\n",
       "      <th>96</th>\n",
       "      <td>97</td>\n",
       "      <td>https://t.co/vviUzWhodT</td>\n",
       "    </tr>\n",
       "    <tr>\n",
       "      <th>97</th>\n",
       "      <td>98</td>\n",
       "      <td>@Erdayastronaut High seas &amp;amp; wind</td>\n",
       "    </tr>\n",
       "    <tr>\n",
       "      <th>98</th>\n",
       "      <td>99</td>\n",
       "      <td>This was a tough one https://t.co/beY7peFpCj</td>\n",
       "    </tr>\n",
       "    <tr>\n",
       "      <th>99</th>\n",
       "      <td>100</td>\n",
       "      <td>RT @SpaceX: Watch Falcon 9 launch 60 Starlink ...</td>\n",
       "    </tr>\n",
       "  </tbody>\n",
       "</table>\n",
       "<p>100 rows × 2 columns</p>\n",
       "</div>"
      ],
      "text/plain": [
       "    Unnamed: 0                                               Text\n",
       "0            1                             @kunalb11 Iím an alien\n",
       "1            2  @ID_AA_Carmack Ray tracing on Cyberpunk with H...\n",
       "2            3                @joerogan @Spotify Great interview!\n",
       "3            4                    @gtera27 Doge is underestimated\n",
       "4            5  @teslacn Congratulations Tesla China for amazi...\n",
       "..         ...                                                ...\n",
       "95          96                                               Doge\n",
       "96          97                            https://t.co/vviUzWhodT\n",
       "97          98               @Erdayastronaut High seas &amp; wind\n",
       "98          99       This was a tough one https://t.co/beY7peFpCj\n",
       "99         100  RT @SpaceX: Watch Falcon 9 launch 60 Starlink ...\n",
       "\n",
       "[100 rows x 2 columns]"
      ]
     },
     "execution_count": 3,
     "metadata": {},
     "output_type": "execute_result"
    }
   ],
   "source": [
    "top_tweets = tweets.head(100)\n",
    "top_tweets"
   ]
  },
  {
   "cell_type": "markdown",
   "id": "4631ff31",
   "metadata": {},
   "source": [
    "# 3. Text Preprocessing"
   ]
  },
  {
   "cell_type": "markdown",
   "id": "3b361440",
   "metadata": {},
   "source": [
    "### STEP 1 = Remove empty strings and both leading & trailing characters :"
   ]
  },
  {
   "cell_type": "code",
   "execution_count": 4,
   "id": "40522a1e",
   "metadata": {
    "ExecuteTime": {
     "end_time": "2022-12-12T09:53:00.053695Z",
     "start_time": "2022-12-12T09:52:59.636607Z"
    }
   },
   "outputs": [
    {
     "data": {
      "text/plain": [
       "['@kunalb11 Iím an alien',\n",
       " '@ID_AA_Carmack Ray tracing on Cyberpunk with HDR is next-level. Have you tried it?',\n",
       " '@joerogan @Spotify Great interview!',\n",
       " '@gtera27 Doge is underestimated',\n",
       " '@teslacn Congratulations Tesla China for amazing execution last year. Now on to the next for even more!!',\n",
       " 'Happy New Year of the Ox! https://t.co/9WFKMYu2oj',\n",
       " 'Frodo was the underdoge,\\nAll thought he would fail,\\nHimself most of all. https://t.co/zGxJFDzzrM',\n",
       " '@OwenSparks_ @flcnhvy @anonyx10 Haha thanks :)',\n",
       " '@flcnhvy @anonyx10 Indeed! Tweets definitely do not represent real-world time allocation.',\n",
       " 'The most entertaining outcome is the most likely']"
      ]
     },
     "execution_count": 4,
     "metadata": {},
     "output_type": "execute_result"
    }
   ],
   "source": [
    "top_tweets = [Text.strip() for Text in top_tweets.Text] \n",
    "top_tweets = [Text for Text in top_tweets if Text] \n",
    "\n",
    "top_tweets[0:10]"
   ]
  },
  {
   "cell_type": "markdown",
   "id": "8a79ef2b",
   "metadata": {},
   "source": [
    "### STEP 2 = Joining list into one String / Text :"
   ]
  },
  {
   "cell_type": "code",
   "execution_count": 5,
   "id": "2284ee9e",
   "metadata": {
    "ExecuteTime": {
     "end_time": "2022-12-12T09:53:00.233570Z",
     "start_time": "2022-12-12T09:53:00.093310Z"
    },
    "scrolled": false
   },
   "outputs": [
    {
     "data": {
      "text/plain": [
       "'@kunalb11 Iím an alien@ID_AA_Carmack Ray tracing on Cyberpunk with HDR is next-level. Have you tried it?@joerogan @Spotify Great interview!@gtera27 Doge is underestimated@teslacn Congratulations Tesla China for amazing execution last year. Now on to the next for even more!!Happy New Year of the Ox! https://t.co/9WFKMYu2ojFrodo was the underdoge,\\nAll thought he would fail,\\nHimself most of all. https://t.co/zGxJFDzzrM@OwenSparks_ @flcnhvy @anonyx10 Haha thanks :)@flcnhvy @anonyx10 Indeed! Tweets definitely do not represent real-world time allocation.The most entertaining outcome is the most likely@GiveDirectly Just sent someJust agree to do Clubhouse with @kanyewesthttps://t.co/3rWE9uHSTS@geoffkeighley @UnrealEngine Itís getting realBought some Dogecoin for lil X, so he can be a toddler hodler@JoshManMode He definitely has issues, but the sentencing seems a bit high@freewalletorg Thanks for fixing@freewalletorg Please unlock my account@AstroJordy <U+0001F923><U+0001F923>This is true power haha https://t.co/Fc9uhQSd7O@freewalletorg Any crypto wallet that wonít give you your private keys should be avoided at all costs@freewalletorg Your app sucksRT @SpaceX: NASA has selected Falcon Heavy to launch the first two elements of the lunar Gateway together on one mission! https://t.co/3pWtÖ@ajtourville Yes@BLKMDL3 @RationalEtienne @Adamklotz_ Once we can predict cash flow reasonably well, Starlink will IPO@RationalEtienne @Adamklotz_ Starlink is a staggeringly difficult technical &amp; economic endeavor. However, if we donÖ https://t.co/9Z8Ac6skqx@RationalEtienne @Adamklotz_ SpaceX needs to pass through a deep chasm of negative cash flow over the next year orÖ https://t.co/7J1c92hdjl@ID_AA_Carmack Lowest cost per ton of carbon sequestered, net of value of any product made. \\n\\nMust be scalable to gÖ https://t.co/XMyI7qWSgw@Adamklotz_ Itís meant to be the same price in all countries. Only difference should be taxes &amp; shipping.@tobyliiiiiiiiii This is intended for Earth, but there may be some ideas that apply to Mars too@CryptoShrikar @CoinDesk @Tesla @Dan_Z_Palmer <U+0001F923><U+0001F923>XPrize team will manage the $100M carbon capture prize https://t.co/fSw5IanL0r@SRuhle Everyone at Tesla receives stock. \\n\\nMy comp is all stock/options, which I do not take off the table. \\n\\nThatís what youíre missing.Back to work I go Ö@CapybaraSurfer @MattWallace888 Does seem a bit high@itsALLrisky Doge appears to be inflationary, but is not meaningfully so (fixed # of coins per unit time), whereasÖ https://t.co/4UH4rARC6T@MichaelGalanin @kevinmgill Wow@Erdayastronaut @michaelhodapp_ 1. Orbital launch tower that can stack\\n2. Enough Raptors for orbit booster\\n3. Improve ship &amp; booster mass@michaelhodapp_ Back to work tonight!– is for –ogecoin! Instructional video.\\nhttps://t.co/UEEocOfcTbThe people have spoken Ö https://t.co/x41oVMzTGo@Nivetha_7_42 @lexfridman So cute <U+0001F495>@UniverCurious Extremely misleading image, as doesnít reflect true time cost to people or rain &amp; pain<U+0001F3B6> Who let the Doge out <U+0001F3B6>Hodl the rainforests!!So Ö itís finally come to this Ö https://t.co/Gf0Rg2QOaF@itsALLrisky Itís the most fun crypto!@JoshRoomsburg @SnoopDogg @genesimmons Its simplicity is its genius@astro_g_dogg @SpaceX Yup@Jbuttermost @Dogecoinrich <U+0001F923><U+0001F923>@wapodavenport True@Dogecoinrich <U+0001F923><U+0001F923>@flcnhvy @AstroJordy Not that easy. This is two decades of intense work. Have to look at old notes, emails, texts.@AstroJordy YesLessons learnedOf Earth and MarsTime to tell the story of Tesla &amp; SpaceX@TheOnion Have you read @TheBabylonBee? Itís great!!The Second Last Kingdom https://t.co/Je4EI88HmV@DumDin7 @Grimezsz Havenít heard that name in years Ö@Grimezsz DogecakeYOLT\\n\\nhttps://t.co/cnOf9yjpF1@Kristennetten Thatís Damian@Kristennetten Yeah@OwenSparks_ SureThe great thing about restaurants is that you get to hang out with strangers! - SJMThe future currency of Earth@redlineshifter Just a scratchMuch wow!@RationalEtienne <U+0001F5A4>@wonderofscience Destiny@RenataKonkoly @Teslarati @woodhaus2 Franz was essential@Erdayastronaut @josh_bickett @ajtourville @SpaceX That said, the ship landing burn has a clear solution. My greateÖ https://t.co/e5Wikiugkz@Adamklotz_ @Erdayastronaut @josh_bickett @ajtourville @SpaceX Will still use hot gas maneuvering (RCS) thrusters,Ö https://t.co/vsO9h4Ioed@Erdayastronaut @josh_bickett @ajtourville @SpaceX Higher Isp too@Erdayastronaut @josh_bickett @ajtourville @SpaceX Intuitively, it would seem so, but turbopump-fed Raptors have muÖ https://t.co/lBTG1sIBuC@brendan2908 @NASASpaceflight YesRT @SpaceX: Falcon 9 will launch @NASAís SPHEREx mission ñ which will collect data on more than 300 million galaxies and explore how the unÖRT @SpaceX: Falcon 9 launches 60 Starlink satellites to orbit ñ mission from pad 39A on deck https://t.co/71cuCBgPNX@mikko @Darudevil Itís true!@josh_bickett @ajtourville @Erdayastronaut @SpaceX Yeah. By default, engine with least lever arm would shut down if all 3 are good.@ajtourville @Erdayastronaut @SpaceX Yes, but engines have a min throttle point where there is flameout risk, so laÖ https://t.co/ThniYsSnWn@Adamklotz_ @Erdayastronaut @SpaceX Yes@Erdayastronaut @SpaceX It was foolish of us not to start 3 engines &amp; immediately shut down 1, as 2 are needed to landI am become meme,\\nDestroyer of shorts@commander_cruz Might actually happenSandstorm is a masterpiece@MadOverlord We were too dumbNext time, we try pull *up* method https://t.co/J1M7WHLRDRLow-key LokiNo highs, no lows, only DogeNo need to be a gigachad to ownDogecoin is the peopleís cryptour welcome https://t.co/e2KF57KLxb@HuobiGlobal The most entertaining outcome is the most likelyDogehttps://t.co/vviUzWhodT@Erdayastronaut High seas &amp; windThis was a tough one https://t.co/beY7peFpCjRT @SpaceX: Watch Falcon 9 launch 60 Starlink satellites <U+2192> https://t.co/bJFjLCzWdK  https://t.co/Ln95rEesbW'"
      ]
     },
     "execution_count": 5,
     "metadata": {},
     "output_type": "execute_result"
    }
   ],
   "source": [
    "tweets_join = ''.join(top_tweets)\n",
    "tweets_join"
   ]
  },
  {
   "cell_type": "markdown",
   "id": "f112a436",
   "metadata": {},
   "source": [
    "### STEP 3 = Remove twitter usernames handles from text (@usernames) :"
   ]
  },
  {
   "cell_type": "code",
   "execution_count": 6,
   "id": "31b3f7d0",
   "metadata": {
    "ExecuteTime": {
     "end_time": "2022-12-12T09:53:31.979753Z",
     "start_time": "2022-12-12T09:53:00.276948Z"
    }
   },
   "outputs": [],
   "source": [
    "from nltk.tokenize import TweetTokenizer"
   ]
  },
  {
   "cell_type": "code",
   "execution_count": 7,
   "id": "b9d35f6b",
   "metadata": {
    "ExecuteTime": {
     "end_time": "2022-12-12T09:53:32.061394Z",
     "start_time": "2022-12-12T09:53:32.018514Z"
    }
   },
   "outputs": [
    {
     "name": "stdout",
     "output_type": "stream",
     "text": [
      "['Iím', 'an', 'alien', '@ID_AA_Carmack', 'Ray', 'tracing', 'on', 'Cyberpunk', 'with', 'HDR', 'is', 'next-level', '.', 'Have', 'you', 'tried', 'it', '?', 'Great', 'interview', '!', '@gtera27', 'Doge', 'is', 'underestimated', '@teslacn', 'Congratulations', 'Tesla', 'China', 'for', 'amazing', 'execution', 'last', 'year', '.', 'Now', 'on', 'to', 'the', 'next', 'for', 'even', 'more', '!', '!', 'Happy', 'New', 'Year', 'of', 'the', 'Ox', '!', 'https://t.co/9WFKMYu2ojFrodo', 'was', 'the', 'underdoge', ',', 'All', 'thought', 'he', 'would', 'fail', ',', 'Himself', 'most', 'of', 'all', '.', 'https://t.co/zGxJFDzzrM@OwenSparks_', 'Haha', 'thanks', ':)', 'Indeed', '!', 'Tweets', 'definitely', 'do', 'not', 'represent', 'real-world', 'time', 'allocation.The', 'most', 'entertaining', 'outcome', 'is', 'the', 'most', 'likely', '@GiveDirectly', 'Just', 'sent', 'someJust', 'agree', 'to', 'do', 'Clubhouse', 'with', ':/', '/', 't.co/3rWE9uHSTS@geoffkeighley', 'Itís', 'getting', 'realBought', 'some', 'Dogecoin', 'for', 'lil', 'X', ',', 'so', 'he', 'can', 'be', 'a', 'toddler', 'hodler', '@JoshManMode', 'He', 'definitely', 'has', 'issues', ',', 'but', 'the', 'sentencing', 'seems', 'a', 'bit', 'high', '@freewalletorg', 'Thanks', 'for', 'fixing', '@freewalletorg', 'Please', 'unlock', 'my', 'account', '@AstroJordy', '<U+0001F923>', '<U+0001F923>', 'This', 'is', 'true', 'power', 'haha', 'https://t.co/Fc9uhQSd7O@freewalletorg', 'Any', 'crypto', 'wallet', 'that', 'wonít', 'give', 'you', 'your', 'private', 'keys', 'should', 'be', 'avoided', 'at', 'all', 'costs', '@freewalletorg', 'Your', 'app', 'sucksRT', ':', 'NASA', 'has', 'selected', 'Falcon', 'Heavy', 'to', 'launch', 'the', 'first', 'two', 'elements', 'of', 'the', 'lunar', 'Gateway', 'together', 'on', 'one', 'mission', '!', 'https://t.co/3pWtÖ', 'Yes', '@BLKMDL3', 'Once', 'we', 'can', 'predict', 'cash', 'flow', 'reasonably', 'well', ',', 'Starlink', 'will', 'IPO', '@RationalEtienne', 'Starlink', 'is', 'a', 'staggeringly', 'difficult', 'technical', '&', 'economic', 'endeavor', '.', 'However', ',', 'if', 'we', 'donÖ', 'https://t.co/9Z8Ac6skqx@RationalEtienne', 'SpaceX', 'needs', 'to', 'pass', 'through', 'a', 'deep', 'chasm', 'of', 'negative', 'cash', 'flow', 'over', 'the', 'next', 'year', 'orÖ', 'https://t.co/7J1c92hdjl@ID_AA_Carmack', 'Lowest', 'cost', 'per', 'ton', 'of', 'carbon', 'sequestered', ',', 'net', 'of', 'value', 'of', 'any', 'product', 'made', '.', 'Must', 'be', 'scalable', 'to', 'gÖ', 'https://t.co/XMyI7qWSgw@Adamklotz_', 'Itís', 'meant', 'to', 'be', 'the', 'same', 'price', 'in', 'all', 'countries', '.', 'Only', 'difference', 'should', 'be', 'taxes', '&', 'shipping', '.', 'This', 'is', 'intended', 'for', 'Earth', ',', 'but', 'there', 'may', 'be', 'some', 'ideas', 'that', 'apply', 'to', 'Mars', 'too', '@CryptoShrikar', '<U+0001F923>', '<U+0001F923>', 'XPrize', 'team', 'will', 'manage', 'the', '$', '100M', 'carbon', 'capture', 'prize', 'https://t.co/fSw5IanL0r@SRuhle', 'Everyone', 'at', 'Tesla', 'receives', 'stock', '.', 'My', 'comp', 'is', 'all', 'stock', '/', 'options', ',', 'which', 'I', 'do', 'not', 'take', 'off', 'the', 'table', '.', 'Thatís', 'what', 'youíre', 'missing.Back', 'to', 'work', 'I', 'go', 'Ö', 'Does', 'seem', 'a', 'bit', 'high', '@itsALLrisky', 'Doge', 'appears', 'to', 'be', 'inflationary', ',', 'but', 'is', 'not', 'meaningfully', 'so', '(', 'fixed', '#', 'of', 'coins', 'per', 'unit', 'time', ')', ',', 'whereasÖ', 'https://t.co/4UH4rARC6T@MichaelGalanin', 'Wow', '@Erdayastronaut', '1', '.', 'Orbital', 'launch', 'tower', 'that', 'can', 'stack', '2', '.', 'Enough', 'Raptors', 'for', 'orbit', 'booster', '3', '.', 'Improve', 'ship', '&', 'booster', 'mass', '@michaelhodapp_', 'Back', 'to', 'work', 'tonight', '!', '–', 'is', 'for', '–', 'ogecoin', '!', 'Instructional', 'video', '.', 'https://t.co/UEEocOfcTbThe', 'people', 'have', 'spoken', 'Ö', 'https://t.co/x41oVMzTGo@Nivetha_7_42', 'So', 'cute', '<U+0001F495>', 'Extremely', 'misleading', 'image', ',', 'as', 'doesnít', 'reflect', 'true', 'time', 'cost', 'to', 'people', 'or', 'rain', '&', 'pain', '<U+0001F3B6>', 'Who', 'let', 'the', 'Doge', 'out', '<U+0001F3B6>', 'Hodl', 'the', 'rainforests', '!', '!', 'So', 'Ö', 'itís', 'finally', 'come', 'to', 'this', 'Ö', 'https://t.co/Gf0Rg2QOaF@itsALLrisky', 'Itís', 'the', 'most', 'fun', 'crypto', '!', '@JoshRoomsburg', 'Its', 'simplicity', 'is', 'its', 'genius', '@astro_g_dogg', 'Yup', '@Jbuttermost', '<U+0001F923>', '<U+0001F923>', 'True', '@Dogecoinrich', '<U+0001F923>', '<U+0001F923>', 'Not', 'that', 'easy', '.', 'This', 'is', 'two', 'decades', 'of', 'intense', 'work', '.', 'Have', 'to', 'look', 'at', 'old', 'notes', ',', 'emails', ',', 'texts', '.', 'YesLessons', 'learnedOf', 'Earth', 'and', 'MarsTime', 'to', 'tell', 'the', 'story', 'of', 'Tesla', '&', 'SpaceX', '@TheOnion', 'Have', 'you', 'read', '?', 'Itís', 'great', '!', '!', 'The', 'Second', 'Last', 'Kingdom', 'https://t.co/Je4EI88HmV@DumDin7', 'Havenít', 'heard', 'that', 'name', 'in', 'years', 'Ö', 'DogecakeYOLT', 'https://t.co/cnOf9yjpF1@Kristennetten', 'Thatís', 'Damian', '@Kristennetten', 'Yeah', '@OwenSparks_', 'SureThe', 'great', 'thing', 'about', 'restaurants', 'is', 'that', 'you', 'get', 'to', 'hang', 'out', 'with', 'strangers', '!', '-', 'SJMThe', 'future', 'currency', 'of', 'Earth', '@redlineshifter', 'Just', 'a', 'scratchMuch', 'wow', '!', '@RationalEtienne', '<U+0001F5A4>', 'Destiny', '@RenataKonkoly', 'Franz', 'was', 'essential', '@Erdayastronaut', 'That', 'said', ',', 'the', 'ship', 'landing', 'burn', 'has', 'a', 'clear', 'solution', '.', 'My', 'greateÖ', 'https://t.co/e5Wikiugkz@Adamklotz_', 'Will', 'still', 'use', 'hot', 'gas', 'maneuvering', '(', 'RCS', ')', 'thrusters', ',', 'Ö', 'https://t.co/vsO9h4Ioed@Erdayastronaut', 'Higher', 'Isp', 'too', '@Erdayastronaut', 'Intuitively', ',', 'it', 'would', 'seem', 'so', ',', 'but', 'turbopump-fed', 'Raptors', 'have', 'muÖ', 'https://t.co/lBTG1sIBuC@brendan2908', 'YesRT', ':', 'Falcon', '9', 'will', 'launch', 'ís', 'SPHEREx', 'mission', 'ñ', 'which', 'will', 'collect', 'data', 'on', 'more', 'than', '300', 'million', 'galaxies', 'and', 'explore', 'how', 'the', 'unÖRT', ':', 'Falcon', '9', 'launches', '60', 'Starlink', 'satellites', 'to', 'orbit', 'ñ', 'mission', 'from', 'pad', '39A', 'on', 'deck', 'https://t.co/71cuCBgPNX@mikko', 'Itís', 'true', '!', '@josh_bickett', 'Yeah', '.', 'By', 'default', ',', 'engine', 'with', 'least', 'lever', 'arm', 'would', 'shut', 'down', 'if', 'all', '3', 'are', 'good', '.', 'Yes', ',', 'but', 'engines', 'have', 'a', 'min', 'throttle', 'point', 'where', 'there', 'is', 'flameout', 'risk', ',', 'so', 'laÖ', 'https://t.co/ThniYsSnWn@Adamklotz_', 'Yes', '@Erdayastronaut', 'It', 'was', 'foolish', 'of', 'us', 'not', 'to', 'start', '3', 'engines', '&', 'immediately', 'shut', 'down', '1', ',', 'as', '2', 'are', 'needed', 'to', 'landI', 'am', 'become', 'meme', ',', 'Destroyer', 'of', 'shorts', '@commander_cruz', 'Might', 'actually', 'happenSandstorm', 'is', 'a', 'masterpiece', '@MadOverlord', 'We', 'were', 'too', 'dumbNext', 'time', ',', 'we', 'try', 'pull', '*', 'up', '*', 'method', 'https://t.co/J1M7WHLRDRLow-key', 'LokiNo', 'highs', ',', 'no', 'lows', ',', 'only', 'DogeNo', 'need', 'to', 'be', 'a', 'gigachad', 'to', 'ownDogecoin', 'is', 'the', 'peopleís', 'cryptour', 'welcome', 'https://t.co/e2KF57KLxb@HuobiGlobal', 'The', 'most', 'entertaining', 'outcome', 'is', 'the', 'most', 'likelyDogehttps', ':/', '/', 't.co/vviUzWhodT@Erdayastronaut', 'High', 'seas', '&', 'windThis', 'was', 'a', 'tough', 'one', 'https://t.co/beY7peFpCjRT', ':', 'Watch', 'Falcon', '9', 'launch', '60', 'Starlink', 'satellites', '<U+2192>', 'https://t.co/bJFjLCzWdK', 'https://t.co/Ln95rEesbW']\n"
     ]
    }
   ],
   "source": [
    "tokenizer = TweetTokenizer(strip_handles = True)\n",
    "\n",
    "tweets_tokenizer = tokenizer.tokenize(tweets_join)\n",
    "print(tweets_tokenizer)"
   ]
  },
  {
   "cell_type": "markdown",
   "id": "66ee6837",
   "metadata": {},
   "source": [
    "### STEP 4 =  Again joining a list into one String / Text :"
   ]
  },
  {
   "cell_type": "code",
   "execution_count": 8,
   "id": "d0d3864b",
   "metadata": {
    "ExecuteTime": {
     "end_time": "2022-12-12T09:53:32.171093Z",
     "start_time": "2022-12-12T09:53:32.097300Z"
    }
   },
   "outputs": [
    {
     "data": {
      "text/plain": [
       "'Iím an alien @ID_AA_Carmack Ray tracing on Cyberpunk with HDR is next-level . Have you tried it ? Great interview ! @gtera27 Doge is underestimated @teslacn Congratulations Tesla China for amazing execution last year . Now on to the next for even more ! ! Happy New Year of the Ox ! https://t.co/9WFKMYu2ojFrodo was the underdoge , All thought he would fail , Himself most of all . https://t.co/zGxJFDzzrM@OwenSparks_ Haha thanks :) Indeed ! Tweets definitely do not represent real-world time allocation.The most entertaining outcome is the most likely @GiveDirectly Just sent someJust agree to do Clubhouse with :/ / t.co/3rWE9uHSTS@geoffkeighley Itís getting realBought some Dogecoin for lil X , so he can be a toddler hodler @JoshManMode He definitely has issues , but the sentencing seems a bit high @freewalletorg Thanks for fixing @freewalletorg Please unlock my account @AstroJordy <U+0001F923> <U+0001F923> This is true power haha https://t.co/Fc9uhQSd7O@freewalletorg Any crypto wallet that wonít give you your private keys should be avoided at all costs @freewalletorg Your app sucksRT : NASA has selected Falcon Heavy to launch the first two elements of the lunar Gateway together on one mission ! https://t.co/3pWtÖ Yes @BLKMDL3 Once we can predict cash flow reasonably well , Starlink will IPO @RationalEtienne Starlink is a staggeringly difficult technical & economic endeavor . However , if we donÖ https://t.co/9Z8Ac6skqx@RationalEtienne SpaceX needs to pass through a deep chasm of negative cash flow over the next year orÖ https://t.co/7J1c92hdjl@ID_AA_Carmack Lowest cost per ton of carbon sequestered , net of value of any product made . Must be scalable to gÖ https://t.co/XMyI7qWSgw@Adamklotz_ Itís meant to be the same price in all countries . Only difference should be taxes & shipping . This is intended for Earth , but there may be some ideas that apply to Mars too @CryptoShrikar <U+0001F923> <U+0001F923> XPrize team will manage the $ 100M carbon capture prize https://t.co/fSw5IanL0r@SRuhle Everyone at Tesla receives stock . My comp is all stock / options , which I do not take off the table . Thatís what youíre missing.Back to work I go Ö Does seem a bit high @itsALLrisky Doge appears to be inflationary , but is not meaningfully so ( fixed # of coins per unit time ) , whereasÖ https://t.co/4UH4rARC6T@MichaelGalanin Wow @Erdayastronaut 1 . Orbital launch tower that can stack 2 . Enough Raptors for orbit booster 3 . Improve ship & booster mass @michaelhodapp_ Back to work tonight ! – is for – ogecoin ! Instructional video . https://t.co/UEEocOfcTbThe people have spoken Ö https://t.co/x41oVMzTGo@Nivetha_7_42 So cute <U+0001F495> Extremely misleading image , as doesnít reflect true time cost to people or rain & pain <U+0001F3B6> Who let the Doge out <U+0001F3B6> Hodl the rainforests ! ! So Ö itís finally come to this Ö https://t.co/Gf0Rg2QOaF@itsALLrisky Itís the most fun crypto ! @JoshRoomsburg Its simplicity is its genius @astro_g_dogg Yup @Jbuttermost <U+0001F923> <U+0001F923> True @Dogecoinrich <U+0001F923> <U+0001F923> Not that easy . This is two decades of intense work . Have to look at old notes , emails , texts . YesLessons learnedOf Earth and MarsTime to tell the story of Tesla & SpaceX @TheOnion Have you read ? Itís great ! ! The Second Last Kingdom https://t.co/Je4EI88HmV@DumDin7 Havenít heard that name in years Ö DogecakeYOLT https://t.co/cnOf9yjpF1@Kristennetten Thatís Damian @Kristennetten Yeah @OwenSparks_ SureThe great thing about restaurants is that you get to hang out with strangers ! - SJMThe future currency of Earth @redlineshifter Just a scratchMuch wow ! @RationalEtienne <U+0001F5A4> Destiny @RenataKonkoly Franz was essential @Erdayastronaut That said , the ship landing burn has a clear solution . My greateÖ https://t.co/e5Wikiugkz@Adamklotz_ Will still use hot gas maneuvering ( RCS ) thrusters , Ö https://t.co/vsO9h4Ioed@Erdayastronaut Higher Isp too @Erdayastronaut Intuitively , it would seem so , but turbopump-fed Raptors have muÖ https://t.co/lBTG1sIBuC@brendan2908 YesRT : Falcon 9 will launch ís SPHEREx mission ñ which will collect data on more than 300 million galaxies and explore how the unÖRT : Falcon 9 launches 60 Starlink satellites to orbit ñ mission from pad 39A on deck https://t.co/71cuCBgPNX@mikko Itís true ! @josh_bickett Yeah . By default , engine with least lever arm would shut down if all 3 are good . Yes , but engines have a min throttle point where there is flameout risk , so laÖ https://t.co/ThniYsSnWn@Adamklotz_ Yes @Erdayastronaut It was foolish of us not to start 3 engines & immediately shut down 1 , as 2 are needed to landI am become meme , Destroyer of shorts @commander_cruz Might actually happenSandstorm is a masterpiece @MadOverlord We were too dumbNext time , we try pull * up * method https://t.co/J1M7WHLRDRLow-key LokiNo highs , no lows , only DogeNo need to be a gigachad to ownDogecoin is the peopleís cryptour welcome https://t.co/e2KF57KLxb@HuobiGlobal The most entertaining outcome is the most likelyDogehttps :/ / t.co/vviUzWhodT@Erdayastronaut High seas & windThis was a tough one https://t.co/beY7peFpCjRT : Watch Falcon 9 launch 60 Starlink satellites <U+2192> https://t.co/bJFjLCzWdK https://t.co/Ln95rEesbW'"
      ]
     },
     "execution_count": 8,
     "metadata": {},
     "output_type": "execute_result"
    }
   ],
   "source": [
    "tweets_tokenizer_join = ' '.join(tweets_tokenizer)\n",
    "tweets_tokenizer_join"
   ]
  },
  {
   "cell_type": "markdown",
   "id": "ab09caf6",
   "metadata": {},
   "source": [
    "### STEP 5 = Removing Punctuations :"
   ]
  },
  {
   "cell_type": "code",
   "execution_count": 9,
   "id": "c85c3fb4",
   "metadata": {
    "ExecuteTime": {
     "end_time": "2022-12-12T09:53:32.282638Z",
     "start_time": "2022-12-12T09:53:32.205998Z"
    }
   },
   "outputs": [],
   "source": [
    "import string"
   ]
  },
  {
   "cell_type": "code",
   "execution_count": 10,
   "id": "e955043e",
   "metadata": {
    "ExecuteTime": {
     "end_time": "2022-12-12T09:53:32.435907Z",
     "start_time": "2022-12-12T09:53:32.317655Z"
    }
   },
   "outputs": [
    {
     "data": {
      "text/plain": [
       "'Iím an alien IDAACarmack Ray tracing on Cyberpunk with HDR is nextlevel  Have you tried it  Great interview  gtera27 Doge is underestimated teslacn Congratulations Tesla China for amazing execution last year  Now on to the next for even more   Happy New Year of the Ox  httpstco9WFKMYu2ojFrodo was the underdoge  All thought he would fail  Himself most of all  httpstcozGxJFDzzrMOwenSparks Haha thanks  Indeed  Tweets definitely do not represent realworld time allocationThe most entertaining outcome is the most likely GiveDirectly Just sent someJust agree to do Clubhouse with   tco3rWE9uHSTSgeoffkeighley Itís getting realBought some Dogecoin for lil X  so he can be a toddler hodler JoshManMode He definitely has issues  but the sentencing seems a bit high freewalletorg Thanks for fixing freewalletorg Please unlock my account AstroJordy U0001F923 U0001F923 This is true power haha httpstcoFc9uhQSd7Ofreewalletorg Any crypto wallet that wonít give you your private keys should be avoided at all costs freewalletorg Your app sucksRT  NASA has selected Falcon Heavy to launch the first two elements of the lunar Gateway together on one mission  httpstco3pWtÖ Yes BLKMDL3 Once we can predict cash flow reasonably well  Starlink will IPO RationalEtienne Starlink is a staggeringly difficult technical  economic endeavor  However  if we donÖ httpstco9Z8Ac6skqxRationalEtienne SpaceX needs to pass through a deep chasm of negative cash flow over the next year orÖ httpstco7J1c92hdjlIDAACarmack Lowest cost per ton of carbon sequestered  net of value of any product made  Must be scalable to gÖ httpstcoXMyI7qWSgwAdamklotz Itís meant to be the same price in all countries  Only difference should be taxes  shipping  This is intended for Earth  but there may be some ideas that apply to Mars too CryptoShrikar U0001F923 U0001F923 XPrize team will manage the  100M carbon capture prize httpstcofSw5IanL0rSRuhle Everyone at Tesla receives stock  My comp is all stock  options  which I do not take off the table  Thatís what youíre missingBack to work I go Ö Does seem a bit high itsALLrisky Doge appears to be inflationary  but is not meaningfully so  fixed  of coins per unit time   whereasÖ httpstco4UH4rARC6TMichaelGalanin Wow Erdayastronaut 1  Orbital launch tower that can stack 2  Enough Raptors for orbit booster 3  Improve ship  booster mass michaelhodapp Back to work tonight  – is for – ogecoin  Instructional video  httpstcoUEEocOfcTbThe people have spoken Ö httpstcox41oVMzTGoNivetha742 So cute U0001F495 Extremely misleading image  as doesnít reflect true time cost to people or rain  pain U0001F3B6 Who let the Doge out U0001F3B6 Hodl the rainforests   So Ö itís finally come to this Ö httpstcoGf0Rg2QOaFitsALLrisky Itís the most fun crypto  JoshRoomsburg Its simplicity is its genius astrogdogg Yup Jbuttermost U0001F923 U0001F923 True Dogecoinrich U0001F923 U0001F923 Not that easy  This is two decades of intense work  Have to look at old notes  emails  texts  YesLessons learnedOf Earth and MarsTime to tell the story of Tesla  SpaceX TheOnion Have you read  Itís great   The Second Last Kingdom httpstcoJe4EI88HmVDumDin7 Havenít heard that name in years Ö DogecakeYOLT httpstcocnOf9yjpF1Kristennetten Thatís Damian Kristennetten Yeah OwenSparks SureThe great thing about restaurants is that you get to hang out with strangers   SJMThe future currency of Earth redlineshifter Just a scratchMuch wow  RationalEtienne U0001F5A4 Destiny RenataKonkoly Franz was essential Erdayastronaut That said  the ship landing burn has a clear solution  My greateÖ httpstcoe5WikiugkzAdamklotz Will still use hot gas maneuvering  RCS  thrusters  Ö httpstcovsO9h4IoedErdayastronaut Higher Isp too Erdayastronaut Intuitively  it would seem so  but turbopumpfed Raptors have muÖ httpstcolBTG1sIBuCbrendan2908 YesRT  Falcon 9 will launch ís SPHEREx mission ñ which will collect data on more than 300 million galaxies and explore how the unÖRT  Falcon 9 launches 60 Starlink satellites to orbit ñ mission from pad 39A on deck httpstco71cuCBgPNXmikko Itís true  joshbickett Yeah  By default  engine with least lever arm would shut down if all 3 are good  Yes  but engines have a min throttle point where there is flameout risk  so laÖ httpstcoThniYsSnWnAdamklotz Yes Erdayastronaut It was foolish of us not to start 3 engines  immediately shut down 1  as 2 are needed to landI am become meme  Destroyer of shorts commandercruz Might actually happenSandstorm is a masterpiece MadOverlord We were too dumbNext time  we try pull  up  method httpstcoJ1M7WHLRDRLowkey LokiNo highs  no lows  only DogeNo need to be a gigachad to ownDogecoin is the peopleís cryptour welcome httpstcoe2KF57KLxbHuobiGlobal The most entertaining outcome is the most likelyDogehttps   tcovviUzWhodTErdayastronaut High seas  windThis was a tough one httpstcobeY7peFpCjRT  Watch Falcon 9 launch 60 Starlink satellites U2192 httpstcobJFjLCzWdK httpstcoLn95rEesbW'"
      ]
     },
     "execution_count": 10,
     "metadata": {},
     "output_type": "execute_result"
    }
   ],
   "source": [
    "tweets_punc_remove = tweets_tokenizer_join.translate(str.maketrans('','',string.punctuation))\n",
    "tweets_punc_remove"
   ]
  },
  {
   "cell_type": "markdown",
   "id": "6959ab89",
   "metadata": {},
   "source": [
    "### STEP 6 = Removing 'https' / 'url' within text :"
   ]
  },
  {
   "cell_type": "code",
   "execution_count": 11,
   "id": "814e3dc4",
   "metadata": {
    "ExecuteTime": {
     "end_time": "2022-12-12T09:53:32.529959Z",
     "start_time": "2022-12-12T09:53:32.470774Z"
    }
   },
   "outputs": [],
   "source": [
    "import re"
   ]
  },
  {
   "cell_type": "code",
   "execution_count": 12,
   "id": "b58d002d",
   "metadata": {
    "ExecuteTime": {
     "end_time": "2022-12-12T09:53:32.654597Z",
     "start_time": "2022-12-12T09:53:32.571117Z"
    }
   },
   "outputs": [
    {
     "data": {
      "text/plain": [
       "'Iím an alien IDAACarmack Ray tracing on Cyberpunk with HDR is nextlevel  Have you tried it  Great interview  gtera27 Doge is underestimated teslacn Congratulations Tesla China for amazing execution last year  Now on to the next for even more   Happy New Year of the Ox   was the underdoge  All thought he would fail  Himself most of all   Haha thanks  Indeed  Tweets definitely do not represent realworld time allocationThe most entertaining outcome is the most likely GiveDirectly Just sent someJust agree to do Clubhouse with   tco3rWE9uHSTSgeoffkeighley Itís getting realBought some Dogecoin for lil X  so he can be a toddler hodler JoshManMode He definitely has issues  but the sentencing seems a bit high freewalletorg Thanks for fixing freewalletorg Please unlock my account AstroJordy U0001F923 U0001F923 This is true power haha  Any crypto wallet that wonít give you your private keys should be avoided at all costs freewalletorg Your app sucksRT  NASA has selected Falcon Heavy to launch the first two elements of the lunar Gateway together on one mission   Yes BLKMDL3 Once we can predict cash flow reasonably well  Starlink will IPO RationalEtienne Starlink is a staggeringly difficult technical  economic endeavor  However  if we donÖ  SpaceX needs to pass through a deep chasm of negative cash flow over the next year orÖ  Lowest cost per ton of carbon sequestered  net of value of any product made  Must be scalable to gÖ  Itís meant to be the same price in all countries  Only difference should be taxes  shipping  This is intended for Earth  but there may be some ideas that apply to Mars too CryptoShrikar U0001F923 U0001F923 XPrize team will manage the  100M carbon capture prize  Everyone at Tesla receives stock  My comp is all stock  options  which I do not take off the table  Thatís what youíre missingBack to work I go Ö Does seem a bit high itsALLrisky Doge appears to be inflationary  but is not meaningfully so  fixed  of coins per unit time   whereasÖ  Wow Erdayastronaut 1  Orbital launch tower that can stack 2  Enough Raptors for orbit booster 3  Improve ship  booster mass michaelhodapp Back to work tonight  – is for – ogecoin  Instructional video   people have spoken Ö  So cute U0001F495 Extremely misleading image  as doesnít reflect true time cost to people or rain  pain U0001F3B6 Who let the Doge out U0001F3B6 Hodl the rainforests   So Ö itís finally come to this Ö  Itís the most fun crypto  JoshRoomsburg Its simplicity is its genius astrogdogg Yup Jbuttermost U0001F923 U0001F923 True Dogecoinrich U0001F923 U0001F923 Not that easy  This is two decades of intense work  Have to look at old notes  emails  texts  YesLessons learnedOf Earth and MarsTime to tell the story of Tesla  SpaceX TheOnion Have you read  Itís great   The Second Last Kingdom  Havenít heard that name in years Ö DogecakeYOLT  Thatís Damian Kristennetten Yeah OwenSparks SureThe great thing about restaurants is that you get to hang out with strangers   SJMThe future currency of Earth redlineshifter Just a scratchMuch wow  RationalEtienne U0001F5A4 Destiny RenataKonkoly Franz was essential Erdayastronaut That said  the ship landing burn has a clear solution  My greateÖ  Will still use hot gas maneuvering  RCS  thrusters  Ö  Higher Isp too Erdayastronaut Intuitively  it would seem so  but turbopumpfed Raptors have muÖ  YesRT  Falcon 9 will launch ís SPHEREx mission ñ which will collect data on more than 300 million galaxies and explore how the unÖRT  Falcon 9 launches 60 Starlink satellites to orbit ñ mission from pad 39A on deck  Itís true  joshbickett Yeah  By default  engine with least lever arm would shut down if all 3 are good  Yes  but engines have a min throttle point where there is flameout risk  so laÖ  Yes Erdayastronaut It was foolish of us not to start 3 engines  immediately shut down 1  as 2 are needed to landI am become meme  Destroyer of shorts commandercruz Might actually happenSandstorm is a masterpiece MadOverlord We were too dumbNext time  we try pull  up  method  LokiNo highs  no lows  only DogeNo need to be a gigachad to ownDogecoin is the peopleís cryptour welcome  The most entertaining outcome is the most likelyDoge   tcovviUzWhodTErdayastronaut High seas  windThis was a tough one   Watch Falcon 9 launch 60 Starlink satellites U2192  '"
      ]
     },
     "execution_count": 12,
     "metadata": {},
     "output_type": "execute_result"
    }
   ],
   "source": [
    "tweets_url_remove = re.sub(r'http\\S+', '', tweets_punc_remove)\n",
    "tweets_url_remove"
   ]
  },
  {
   "cell_type": "markdown",
   "id": "37ae5130",
   "metadata": {},
   "source": [
    "### STEP 7 = Splitting a sentence into a Words / Tokens :"
   ]
  },
  {
   "cell_type": "code",
   "execution_count": 13,
   "id": "e9b57c9e",
   "metadata": {
    "ExecuteTime": {
     "end_time": "2022-12-12T09:53:32.826666Z",
     "start_time": "2022-12-12T09:53:32.694491Z"
    }
   },
   "outputs": [],
   "source": [
    "from nltk.tokenize import word_tokenize"
   ]
  },
  {
   "cell_type": "code",
   "execution_count": 14,
   "id": "c29f7367",
   "metadata": {
    "ExecuteTime": {
     "end_time": "2022-12-12T09:53:33.014800Z",
     "start_time": "2022-12-12T09:53:32.861538Z"
    }
   },
   "outputs": [
    {
     "name": "stdout",
     "output_type": "stream",
     "text": [
      "['Iím', 'an', 'alien', 'IDAACarmack', 'Ray', 'tracing', 'on', 'Cyberpunk', 'with', 'HDR', 'is', 'nextlevel', 'Have', 'you', 'tried', 'it', 'Great', 'interview', 'gtera27', 'Doge', 'is', 'underestimated', 'teslacn', 'Congratulations', 'Tesla', 'China', 'for', 'amazing', 'execution', 'last', 'year', 'Now', 'on', 'to', 'the', 'next', 'for', 'even', 'more', 'Happy', 'New', 'Year', 'of', 'the', 'Ox', 'was', 'the', 'underdoge', 'All', 'thought', 'he', 'would', 'fail', 'Himself', 'most', 'of', 'all', 'Haha', 'thanks', 'Indeed', 'Tweets', 'definitely', 'do', 'not', 'represent', 'realworld', 'time', 'allocationThe', 'most', 'entertaining', 'outcome', 'is', 'the', 'most', 'likely', 'GiveDirectly', 'Just', 'sent', 'someJust', 'agree', 'to', 'do', 'Clubhouse', 'with', 'tco3rWE9uHSTSgeoffkeighley', 'Itís', 'getting', 'realBought', 'some', 'Dogecoin', 'for', 'lil', 'X', 'so', 'he', 'can', 'be', 'a', 'toddler', 'hodler', 'JoshManMode', 'He', 'definitely', 'has', 'issues', 'but', 'the', 'sentencing', 'seems', 'a', 'bit', 'high', 'freewalletorg', 'Thanks', 'for', 'fixing', 'freewalletorg', 'Please', 'unlock', 'my', 'account', 'AstroJordy', 'U0001F923', 'U0001F923', 'This', 'is', 'true', 'power', 'haha', 'Any', 'crypto', 'wallet', 'that', 'wonít', 'give', 'you', 'your', 'private', 'keys', 'should', 'be', 'avoided', 'at', 'all', 'costs', 'freewalletorg', 'Your', 'app', 'sucksRT', 'NASA', 'has', 'selected', 'Falcon', 'Heavy', 'to', 'launch', 'the', 'first', 'two', 'elements', 'of', 'the', 'lunar', 'Gateway', 'together', 'on', 'one', 'mission', 'Yes', 'BLKMDL3', 'Once', 'we', 'can', 'predict', 'cash', 'flow', 'reasonably', 'well', 'Starlink', 'will', 'IPO', 'RationalEtienne', 'Starlink', 'is', 'a', 'staggeringly', 'difficult', 'technical', 'economic', 'endeavor', 'However', 'if', 'we', 'donÖ', 'SpaceX', 'needs', 'to', 'pass', 'through', 'a', 'deep', 'chasm', 'of', 'negative', 'cash', 'flow', 'over', 'the', 'next', 'year', 'orÖ', 'Lowest', 'cost', 'per', 'ton', 'of', 'carbon', 'sequestered', 'net', 'of', 'value', 'of', 'any', 'product', 'made', 'Must', 'be', 'scalable', 'to', 'gÖ', 'Itís', 'meant', 'to', 'be', 'the', 'same', 'price', 'in', 'all', 'countries', 'Only', 'difference', 'should', 'be', 'taxes', 'shipping', 'This', 'is', 'intended', 'for', 'Earth', 'but', 'there', 'may', 'be', 'some', 'ideas', 'that', 'apply', 'to', 'Mars', 'too', 'CryptoShrikar', 'U0001F923', 'U0001F923', 'XPrize', 'team', 'will', 'manage', 'the', '100M', 'carbon', 'capture', 'prize', 'Everyone', 'at', 'Tesla', 'receives', 'stock', 'My', 'comp', 'is', 'all', 'stock', 'options', 'which', 'I', 'do', 'not', 'take', 'off', 'the', 'table', 'Thatís', 'what', 'youíre', 'missingBack', 'to', 'work', 'I', 'go', 'Ö', 'Does', 'seem', 'a', 'bit', 'high', 'itsALLrisky', 'Doge', 'appears', 'to', 'be', 'inflationary', 'but', 'is', 'not', 'meaningfully', 'so', 'fixed', 'of', 'coins', 'per', 'unit', 'time', 'whereasÖ', 'Wow', 'Erdayastronaut', '1', 'Orbital', 'launch', 'tower', 'that', 'can', 'stack', '2', 'Enough', 'Raptors', 'for', 'orbit', 'booster', '3', 'Improve', 'ship', 'booster', 'mass', 'michaelhodapp', 'Back', 'to', 'work', 'tonight', '–', 'is', 'for', '–', 'ogecoin', 'Instructional', 'video', 'people', 'have', 'spoken', 'Ö', 'So', 'cute', 'U0001F495', 'Extremely', 'misleading', 'image', 'as', 'doesnít', 'reflect', 'true', 'time', 'cost', 'to', 'people', 'or', 'rain', 'pain', 'U0001F3B6', 'Who', 'let', 'the', 'Doge', 'out', 'U0001F3B6', 'Hodl', 'the', 'rainforests', 'So', 'Ö', 'itís', 'finally', 'come', 'to', 'this', 'Ö', 'Itís', 'the', 'most', 'fun', 'crypto', 'JoshRoomsburg', 'Its', 'simplicity', 'is', 'its', 'genius', 'astrogdogg', 'Yup', 'Jbuttermost', 'U0001F923', 'U0001F923', 'True', 'Dogecoinrich', 'U0001F923', 'U0001F923', 'Not', 'that', 'easy', 'This', 'is', 'two', 'decades', 'of', 'intense', 'work', 'Have', 'to', 'look', 'at', 'old', 'notes', 'emails', 'texts', 'YesLessons', 'learnedOf', 'Earth', 'and', 'MarsTime', 'to', 'tell', 'the', 'story', 'of', 'Tesla', 'SpaceX', 'TheOnion', 'Have', 'you', 'read', 'Itís', 'great', 'The', 'Second', 'Last', 'Kingdom', 'Havenít', 'heard', 'that', 'name', 'in', 'years', 'Ö', 'DogecakeYOLT', 'Thatís', 'Damian', 'Kristennetten', 'Yeah', 'OwenSparks', 'SureThe', 'great', 'thing', 'about', 'restaurants', 'is', 'that', 'you', 'get', 'to', 'hang', 'out', 'with', 'strangers', 'SJMThe', 'future', 'currency', 'of', 'Earth', 'redlineshifter', 'Just', 'a', 'scratchMuch', 'wow', 'RationalEtienne', 'U0001F5A4', 'Destiny', 'RenataKonkoly', 'Franz', 'was', 'essential', 'Erdayastronaut', 'That', 'said', 'the', 'ship', 'landing', 'burn', 'has', 'a', 'clear', 'solution', 'My', 'greateÖ', 'Will', 'still', 'use', 'hot', 'gas', 'maneuvering', 'RCS', 'thrusters', 'Ö', 'Higher', 'Isp', 'too', 'Erdayastronaut', 'Intuitively', 'it', 'would', 'seem', 'so', 'but', 'turbopumpfed', 'Raptors', 'have', 'muÖ', 'YesRT', 'Falcon', '9', 'will', 'launch', 'ís', 'SPHEREx', 'mission', 'ñ', 'which', 'will', 'collect', 'data', 'on', 'more', 'than', '300', 'million', 'galaxies', 'and', 'explore', 'how', 'the', 'unÖRT', 'Falcon', '9', 'launches', '60', 'Starlink', 'satellites', 'to', 'orbit', 'ñ', 'mission', 'from', 'pad', '39A', 'on', 'deck', 'Itís', 'true', 'joshbickett', 'Yeah', 'By', 'default', 'engine', 'with', 'least', 'lever', 'arm', 'would', 'shut', 'down', 'if', 'all', '3', 'are', 'good', 'Yes', 'but', 'engines', 'have', 'a', 'min', 'throttle', 'point', 'where', 'there', 'is', 'flameout', 'risk', 'so', 'laÖ', 'Yes', 'Erdayastronaut', 'It', 'was', 'foolish', 'of', 'us', 'not', 'to', 'start', '3', 'engines', 'immediately', 'shut', 'down', '1', 'as', '2', 'are', 'needed', 'to', 'landI', 'am', 'become', 'meme', 'Destroyer', 'of', 'shorts', 'commandercruz', 'Might', 'actually', 'happenSandstorm', 'is', 'a', 'masterpiece', 'MadOverlord', 'We', 'were', 'too', 'dumbNext', 'time', 'we', 'try', 'pull', 'up', 'method', 'LokiNo', 'highs', 'no', 'lows', 'only', 'DogeNo', 'need', 'to', 'be', 'a', 'gigachad', 'to', 'ownDogecoin', 'is', 'the', 'peopleís', 'cryptour', 'welcome', 'The', 'most', 'entertaining', 'outcome', 'is', 'the', 'most', 'likelyDoge', 'tcovviUzWhodTErdayastronaut', 'High', 'seas', 'windThis', 'was', 'a', 'tough', 'one', 'Watch', 'Falcon', '9', 'launch', '60', 'Starlink', 'satellites', 'U2192']\n"
     ]
    }
   ],
   "source": [
    "tweet_words = word_tokenize(tweets_url_remove , language = 'english', preserve_line = True)\n",
    "print(tweet_words)"
   ]
  },
  {
   "cell_type": "markdown",
   "id": "2cd5834a",
   "metadata": {},
   "source": [
    "### STEP 8 = Tokenization :"
   ]
  },
  {
   "cell_type": "code",
   "execution_count": 15,
   "id": "e6f18788",
   "metadata": {
    "ExecuteTime": {
     "end_time": "2022-12-12T09:53:33.251805Z",
     "start_time": "2022-12-12T09:53:33.051702Z"
    }
   },
   "outputs": [],
   "source": [
    "import nltk"
   ]
  },
  {
   "cell_type": "code",
   "execution_count": 16,
   "id": "a617fc3b",
   "metadata": {
    "ExecuteTime": {
     "end_time": "2022-12-12T09:54:57.794840Z",
     "start_time": "2022-12-12T09:53:33.288333Z"
    }
   },
   "outputs": [
    {
     "name": "stderr",
     "output_type": "stream",
     "text": [
      "[nltk_data] Error loading punkt: <urlopen error [WinError 10060] A\n",
      "[nltk_data]     connection attempt failed because the connected party\n",
      "[nltk_data]     did not properly respond after a period of time, or\n",
      "[nltk_data]     established connection failed because connected host\n",
      "[nltk_data]     has failed to respond>\n",
      "[nltk_data] Error loading stopwords: <urlopen error [WinError 10060] A\n",
      "[nltk_data]     connection attempt failed because the connected party\n",
      "[nltk_data]     did not properly respond after a period of time, or\n",
      "[nltk_data]     established connection failed because connected host\n",
      "[nltk_data]     has failed to respond>\n"
     ]
    },
    {
     "data": {
      "text/plain": [
       "False"
      ]
     },
     "execution_count": 16,
     "metadata": {},
     "output_type": "execute_result"
    }
   ],
   "source": [
    "nltk.download('punkt')\n",
    "nltk.download('stopwords')"
   ]
  },
  {
   "cell_type": "code",
   "execution_count": 17,
   "id": "ba4bd66b",
   "metadata": {
    "ExecuteTime": {
     "end_time": "2022-12-12T09:54:57.840445Z",
     "start_time": "2022-12-12T09:54:57.828498Z"
    }
   },
   "outputs": [
    {
     "data": {
      "text/plain": [
       "697"
      ]
     },
     "execution_count": 17,
     "metadata": {},
     "output_type": "execute_result"
    }
   ],
   "source": [
    "# Tokens count\n",
    "len(tweet_words)"
   ]
  },
  {
   "cell_type": "markdown",
   "id": "0965691d",
   "metadata": {},
   "source": [
    "### STEP 9 = Removing Stop Words :"
   ]
  },
  {
   "cell_type": "code",
   "execution_count": 18,
   "id": "13c3a295",
   "metadata": {
    "ExecuteTime": {
     "end_time": "2022-12-12T09:54:59.302665Z",
     "start_time": "2022-12-12T09:54:57.880137Z"
    }
   },
   "outputs": [],
   "source": [
    "from wordcloud import WordCloud, STOPWORDS, ImageColorGenerator\n",
    "from nltk.corpus import stopwords"
   ]
  },
  {
   "cell_type": "code",
   "execution_count": 19,
   "id": "ab131e1d",
   "metadata": {
    "ExecuteTime": {
     "end_time": "2022-12-12T09:54:59.568310Z",
     "start_time": "2022-12-12T09:54:59.384232Z"
    }
   },
   "outputs": [
    {
     "name": "stdout",
     "output_type": "stream",
     "text": [
      "['Iím', 'alien', 'IDAACarmack', 'Ray', 'tracing', 'Cyberpunk', 'HDR', 'nextlevel', 'Have', 'tried', 'Great', 'interview', 'gtera27', 'Doge', 'underestimated', 'teslacn', 'Congratulations', 'Tesla', 'China', 'amazing', 'execution', 'last', 'year', 'Now', 'next', 'even', 'Happy', 'New', 'Year', 'Ox', 'underdoge', 'All', 'thought', 'would', 'fail', 'Himself', 'Haha', 'thanks', 'Indeed', 'Tweets', 'definitely', 'represent', 'realworld', 'time', 'allocationThe', 'entertaining', 'outcome', 'likely', 'GiveDirectly', 'Just', 'sent', 'someJust', 'agree', 'Clubhouse', 'tco3rWE9uHSTSgeoffkeighley', 'Itís', 'getting', 'realBought', 'Dogecoin', 'lil', 'X', 'toddler', 'hodler', 'JoshManMode', 'He', 'definitely', 'issues', 'sentencing', 'seems', 'bit', 'high', 'freewalletorg', 'Thanks', 'fixing', 'freewalletorg', 'Please', 'unlock', 'account', 'AstroJordy', 'This', 'true', 'power', 'Any', 'crypto', 'wallet', 'wonít', 'give', 'private', 'keys', 'avoided', 'costs', 'freewalletorg', 'Your', 'app', 'sucksRT', 'NASA', 'selected', 'Falcon', 'Heavy', 'launch', 'first', 'two', 'elements', 'lunar', 'Gateway', 'together', 'one', 'mission', 'BLKMDL3', 'Once', 'predict', 'cash', 'flow', 'reasonably', 'well', 'Starlink', 'IPO', 'RationalEtienne', 'Starlink', 'staggeringly', 'difficult', 'technical', 'economic', 'endeavor', 'However', 'donÖ', 'SpaceX', 'needs', 'pass', 'deep', 'chasm', 'negative', 'cash', 'flow', 'next', 'year', 'Lowest', 'cost', 'per', 'ton', 'carbon', 'sequestered', 'net', 'value', 'product', 'made', 'Must', 'scalable', 'gÖ', 'Itís', 'meant', 'price', 'countries', 'Only', 'difference', 'taxes', 'shipping', 'This', 'intended', 'Earth', 'may', 'ideas', 'apply', 'Mars', 'CryptoShrikar', 'XPrize', 'team', 'manage', '100M', 'carbon', 'capture', 'prize', 'Everyone', 'Tesla', 'receives', 'stock', 'My', 'comp', 'stock', 'options', 'take', 'table', 'Thatís', 'youíre', 'missingBack', 'work', 'go', 'Does', 'seem', 'bit', 'high', 'itsALLrisky', 'Doge', 'appears', 'inflationary', 'meaningfully', 'fixed', 'coins', 'per', 'unit', 'time', 'whereasÖ', 'Wow', 'Erdayastronaut', '1', 'Orbital', 'launch', 'tower', 'stack', '2', 'Enough', 'Raptors', 'orbit', 'booster', '3', 'Improve', 'ship', 'booster', 'mass', 'michaelhodapp', 'Back', 'work', 'tonight', '–', '–', 'ogecoin', 'Instructional', 'video', 'people', 'spoken', 'So', 'cute', 'U0001F495', 'Extremely', 'misleading', 'image', 'doesnít', 'reflect', 'true', 'time', 'cost', 'people', 'rain', 'pain', 'U0001F3B6', 'Who', 'let', 'Doge', 'U0001F3B6', 'Hodl', 'rainforests', 'So', 'itís', 'finally', 'come', 'Itís', 'fun', 'crypto', 'JoshRoomsburg', 'Its', 'simplicity', 'genius', 'astrogdogg', 'Yup', 'Jbuttermost', 'True', 'Dogecoinrich', 'Not', 'easy', 'This', 'two', 'decades', 'intense', 'work', 'Have', 'look', 'old', 'notes', 'emails', 'texts', 'YesLessons', 'learnedOf', 'Earth', 'MarsTime', 'tell', 'story', 'Tesla', 'SpaceX', 'TheOnion', 'Have', 'read', 'Itís', 'great', 'The', 'Second', 'Last', 'Kingdom', 'Havenít', 'heard', 'name', 'years', 'DogecakeYOLT', 'Thatís', 'Damian', 'Kristennetten', 'Yeah', 'OwenSparks', 'SureThe', 'great', 'thing', 'restaurants', 'get', 'hang', 'strangers', 'SJMThe', 'future', 'currency', 'Earth', 'redlineshifter', 'Just', 'scratchMuch', 'wow', 'RationalEtienne', 'U0001F5A4', 'Destiny', 'RenataKonkoly', 'Franz', 'essential', 'Erdayastronaut', 'That', 'said', 'ship', 'landing', 'burn', 'clear', 'solution', 'My', 'greateÖ', 'Will', 'still', 'use', 'hot', 'gas', 'maneuvering', 'RCS', 'thrusters', 'Higher', 'Isp', 'Erdayastronaut', 'Intuitively', 'would', 'seem', 'turbopumpfed', 'Raptors', 'muÖ', 'YesRT', 'Falcon', '9', 'launch', 'ís', 'SPHEREx', 'mission', 'ñ', 'collect', 'data', '300', 'million', 'galaxies', 'explore', 'unÖRT', 'Falcon', '9', 'launches', '60', 'Starlink', 'satellites', 'orbit', 'ñ', 'mission', 'pad', '39A', 'deck', 'Itís', 'true', 'joshbickett', 'Yeah', 'By', 'default', 'engine', 'least', 'lever', 'arm', 'would', 'shut', '3', 'good', 'engines', 'min', 'throttle', 'point', 'flameout', 'risk', 'laÖ', 'Erdayastronaut', 'It', 'foolish', 'us', 'start', '3', 'engines', 'immediately', 'shut', '1', '2', 'needed', 'landI', 'become', 'meme', 'Destroyer', 'shorts', 'commandercruz', 'Might', 'actually', 'happenSandstorm', 'masterpiece', 'MadOverlord', 'We', 'dumbNext', 'time', 'try', 'pull', 'method', 'LokiNo', 'highs', 'lows', 'DogeNo', 'need', 'gigachad', 'ownDogecoin', 'peopleís', 'cryptour', 'welcome', 'The', 'entertaining', 'outcome', 'likelyDoge', 'tcovviUzWhodTErdayastronaut', 'High', 'seas', 'windThis', 'tough', 'one', 'Watch', 'Falcon', '9', 'launch', '60', 'Starlink', 'satellites', 'U2192']\n"
     ]
    }
   ],
   "source": [
    "tweet_stopwords = stopwords.words('english')\n",
    "\n",
    "SW_list = ['\\x92','rt','ye','yeah','haha','Yes','U0001F923','I','Ö','orÖ']\n",
    "tweet_stopwords.extend(SW_list)\n",
    "\n",
    "tweet_no_stopwords = [words for words in tweet_words if words not in tweet_stopwords]\n",
    "print(tweet_no_stopwords)"
   ]
  },
  {
   "cell_type": "markdown",
   "id": "c52f71af",
   "metadata": {},
   "source": [
    "### STEP 10 = Normalizing the data :"
   ]
  },
  {
   "cell_type": "code",
   "execution_count": 20,
   "id": "1b8256b0",
   "metadata": {
    "ExecuteTime": {
     "end_time": "2022-12-12T09:54:59.616184Z",
     "start_time": "2022-12-12T09:54:59.605209Z"
    }
   },
   "outputs": [
    {
     "name": "stdout",
     "output_type": "stream",
     "text": [
      "['first', 'two', 'elements', 'lunar', 'gateway', 'together', 'one', 'mission', 'blkmdl3', 'once', 'predict', 'cash', 'flow', 'reasonably', 'well', 'starlink', 'ipo', 'rationaletienne', 'starlink', 'staggeringly', 'difficult', 'technical', 'economic', 'endeavor', 'however', 'donö', 'spacex', 'needs', 'pass', 'deep', 'chasm', 'negative', 'cash', 'flow', 'next', 'year', 'lowest', 'cost', 'per', 'ton', 'carbon', 'sequestered', 'net', 'value', 'product', 'made', 'must', 'scalable', 'gö', 'itís', 'meant', 'price', 'countries', 'only', 'difference', 'taxes', 'shipping', 'this', 'intended', 'earth', 'may', 'ideas', 'apply', 'mars', 'cryptoshrikar', 'xprize', 'team', 'manage', '100m', 'carbon', 'capture', 'prize', 'everyone', 'tesla', 'receives', 'stock', 'my', 'comp', 'stock', 'options', 'take', 'table', 'thatís', 'youíre', 'missingback', 'work', 'go', 'does', 'seem', 'bit', 'high', 'itsallrisky', 'doge', 'appears', 'inflationary', 'meaningfully', 'fixed', 'coins', 'per', 'unit']\n"
     ]
    }
   ],
   "source": [
    "tweet_lower_words = [Text.lower() for Text in tweet_no_stopwords]\n",
    "print(tweet_lower_words[100:200])"
   ]
  },
  {
   "cell_type": "markdown",
   "id": "bd833214",
   "metadata": {},
   "source": [
    "### STEP 11 =  Stemming the data :"
   ]
  },
  {
   "cell_type": "code",
   "execution_count": 21,
   "id": "72d0d24b",
   "metadata": {
    "ExecuteTime": {
     "end_time": "2022-12-12T09:55:00.036902Z",
     "start_time": "2022-12-12T09:54:59.652082Z"
    }
   },
   "outputs": [],
   "source": [
    "from nltk.stem import PorterStemmer"
   ]
  },
  {
   "cell_type": "code",
   "execution_count": 22,
   "id": "798b18de",
   "metadata": {
    "ExecuteTime": {
     "end_time": "2022-12-12T09:55:00.146821Z",
     "start_time": "2022-12-12T09:55:00.070763Z"
    }
   },
   "outputs": [
    {
     "name": "stdout",
     "output_type": "stream",
     "text": [
      "['first', 'two', 'element', 'lunar', 'gateway', 'togeth', 'one', 'mission', 'blkmdl3', 'onc', 'predict', 'cash', 'flow', 'reason', 'well', 'starlink', 'ipo', 'rationaletienn', 'starlink', 'staggeringli', 'difficult', 'technic', 'econom', 'endeavor', 'howev', 'donö', 'spacex', 'need', 'pass', 'deep', 'chasm', 'neg', 'cash', 'flow', 'next', 'year', 'lowest', 'cost', 'per', 'ton', 'carbon', 'sequest', 'net', 'valu', 'product', 'made', 'must', 'scalabl', 'gö', 'ití', 'meant', 'price', 'countri', 'onli', 'differ', 'tax', 'ship', 'thi', 'intend', 'earth', 'may', 'idea', 'appli', 'mar', 'cryptoshrikar', 'xprize', 'team', 'manag', '100m', 'carbon', 'captur', 'prize', 'everyon', 'tesla', 'receiv', 'stock', 'my', 'comp', 'stock', 'option', 'take', 'tabl', 'thatí', 'youír', 'missingback', 'work', 'go', 'doe', 'seem', 'bit', 'high', 'itsallriski', 'doge', 'appear', 'inflationari', 'meaning', 'fix', 'coin', 'per', 'unit']\n"
     ]
    }
   ],
   "source": [
    "ps = PorterStemmer()\n",
    "\n",
    "tweet_stemmed = [ps.stem(word) for word in tweet_lower_words]\n",
    "print(tweet_stemmed[100:200])"
   ]
  },
  {
   "cell_type": "markdown",
   "id": "678544a2",
   "metadata": {},
   "source": [
    "### STEP 12 =  Lemmatization :"
   ]
  },
  {
   "cell_type": "code",
   "execution_count": 23,
   "id": "8f9cf53d",
   "metadata": {
    "ExecuteTime": {
     "end_time": "2022-12-12T09:57:10.503287Z",
     "start_time": "2022-12-12T09:55:00.183727Z"
    }
   },
   "outputs": [],
   "source": [
    "import spacy"
   ]
  },
  {
   "cell_type": "code",
   "execution_count": 24,
   "id": "6fd6c6a8",
   "metadata": {
    "ExecuteTime": {
     "end_time": "2022-12-12T09:58:15.594128Z",
     "start_time": "2022-12-12T09:57:10.568222Z"
    }
   },
   "outputs": [
    {
     "name": "stderr",
     "output_type": "stream",
     "text": [
      "2022-12-12 15:27:13.499839: W tensorflow/stream_executor/platform/default/dso_loader.cc:64] Could not load dynamic library 'cudart64_110.dll'; dlerror: cudart64_110.dll not found\n",
      "2022-12-12 15:27:13.499934: I tensorflow/stream_executor/cuda/cudart_stub.cc:29] Ignore above cudart dlerror if you do not have a GPU set up on your machine.\n",
      "2022-12-12 15:27:20.066211: W tensorflow/stream_executor/platform/default/dso_loader.cc:64] Could not load dynamic library 'cudart64_110.dll'; dlerror: cudart64_110.dll not found\n",
      "2022-12-12 15:27:20.069424: W tensorflow/stream_executor/platform/default/dso_loader.cc:64] Could not load dynamic library 'cublas64_11.dll'; dlerror: cublas64_11.dll not found\n",
      "2022-12-12 15:27:20.072586: W tensorflow/stream_executor/platform/default/dso_loader.cc:64] Could not load dynamic library 'cublasLt64_11.dll'; dlerror: cublasLt64_11.dll not found\n",
      "2022-12-12 15:27:20.075710: W tensorflow/stream_executor/platform/default/dso_loader.cc:64] Could not load dynamic library 'cufft64_10.dll'; dlerror: cufft64_10.dll not found\n",
      "2022-12-12 15:27:20.078892: W tensorflow/stream_executor/platform/default/dso_loader.cc:64] Could not load dynamic library 'curand64_10.dll'; dlerror: curand64_10.dll not found\n",
      "2022-12-12 15:27:20.082069: W tensorflow/stream_executor/platform/default/dso_loader.cc:64] Could not load dynamic library 'cusolver64_11.dll'; dlerror: cusolver64_11.dll not found\n",
      "2022-12-12 15:27:20.085219: W tensorflow/stream_executor/platform/default/dso_loader.cc:64] Could not load dynamic library 'cusparse64_11.dll'; dlerror: cusparse64_11.dll not found\n",
      "2022-12-12 15:27:20.088381: W tensorflow/stream_executor/platform/default/dso_loader.cc:64] Could not load dynamic library 'cudnn64_8.dll'; dlerror: cudnn64_8.dll not found\n",
      "2022-12-12 15:27:20.088424: W tensorflow/core/common_runtime/gpu/gpu_device.cc:1934] Cannot dlopen some GPU libraries. Please make sure the missing libraries mentioned above are installed properly if you would like to use GPU. Follow the guide at https://www.tensorflow.org/install/gpu for how to download and setup the required libraries for your platform.\n",
      "Skipping registering GPU devices...\n",
      "Traceback (most recent call last):\n",
      "  File \"C:\\Users\\SHUBHA\\anaconda3\\lib\\site-packages\\urllib3\\connection.py\", line 169, in _new_conn\n",
      "    conn = connection.create_connection(\n",
      "  File \"C:\\Users\\SHUBHA\\anaconda3\\lib\\site-packages\\urllib3\\util\\connection.py\", line 96, in create_connection\n",
      "    raise err\n",
      "  File \"C:\\Users\\SHUBHA\\anaconda3\\lib\\site-packages\\urllib3\\util\\connection.py\", line 86, in create_connection\n",
      "    sock.connect(sa)\n",
      "TimeoutError: [WinError 10060] A connection attempt failed because the connected party did not properly respond after a period of time, or established connection failed because connected host has failed to respond\n",
      "\n",
      "During handling of the above exception, another exception occurred:\n",
      "\n",
      "Traceback (most recent call last):\n",
      "  File \"C:\\Users\\SHUBHA\\anaconda3\\lib\\site-packages\\urllib3\\connectionpool.py\", line 699, in urlopen\n",
      "    httplib_response = self._make_request(\n",
      "  File \"C:\\Users\\SHUBHA\\anaconda3\\lib\\site-packages\\urllib3\\connectionpool.py\", line 382, in _make_request\n",
      "    self._validate_conn(conn)\n",
      "  File \"C:\\Users\\SHUBHA\\anaconda3\\lib\\site-packages\\urllib3\\connectionpool.py\", line 1010, in _validate_conn\n",
      "    conn.connect()\n",
      "  File \"C:\\Users\\SHUBHA\\anaconda3\\lib\\site-packages\\urllib3\\connection.py\", line 353, in connect\n",
      "    conn = self._new_conn()\n",
      "  File \"C:\\Users\\SHUBHA\\anaconda3\\lib\\site-packages\\urllib3\\connection.py\", line 181, in _new_conn\n",
      "    raise NewConnectionError(\n",
      "urllib3.exceptions.NewConnectionError: <urllib3.connection.HTTPSConnection object at 0x00000255CE85A8B0>: Failed to establish a new connection: [WinError 10060] A connection attempt failed because the connected party did not properly respond after a period of time, or established connection failed because connected host has failed to respond\n",
      "\n",
      "During handling of the above exception, another exception occurred:\n",
      "\n",
      "Traceback (most recent call last):\n",
      "  File \"C:\\Users\\SHUBHA\\anaconda3\\lib\\site-packages\\requests\\adapters.py\", line 439, in send\n",
      "    resp = conn.urlopen(\n",
      "  File \"C:\\Users\\SHUBHA\\anaconda3\\lib\\site-packages\\urllib3\\connectionpool.py\", line 755, in urlopen\n",
      "    retries = retries.increment(\n",
      "  File \"C:\\Users\\SHUBHA\\anaconda3\\lib\\site-packages\\urllib3\\util\\retry.py\", line 574, in increment\n",
      "    raise MaxRetryError(_pool, url, error or ResponseError(cause))\n",
      "urllib3.exceptions.MaxRetryError: HTTPSConnectionPool(host='raw.githubusercontent.com', port=443): Max retries exceeded with url: /explosion/spacy-models/master/compatibility.json (Caused by NewConnectionError('<urllib3.connection.HTTPSConnection object at 0x00000255CE85A8B0>: Failed to establish a new connection: [WinError 10060] A connection attempt failed because the connected party did not properly respond after a period of time, or established connection failed because connected host has failed to respond'))\n",
      "\n",
      "During handling of the above exception, another exception occurred:\n",
      "\n",
      "Traceback (most recent call last):\n",
      "  File \"C:\\Users\\SHUBHA\\anaconda3\\lib\\runpy.py\", line 194, in _run_module_as_main\n",
      "    return _run_code(code, main_globals, None,\n",
      "  File \"C:\\Users\\SHUBHA\\anaconda3\\lib\\runpy.py\", line 87, in _run_code\n",
      "    exec(code, run_globals)\n",
      "  File \"C:\\Users\\SHUBHA\\anaconda3\\lib\\site-packages\\spacy\\__main__.py\", line 4, in <module>\n",
      "    setup_cli()\n",
      "  File \"C:\\Users\\SHUBHA\\anaconda3\\lib\\site-packages\\spacy\\cli\\_util.py\", line 71, in setup_cli\n",
      "    command(prog_name=COMMAND)\n",
      "  File \"C:\\Users\\SHUBHA\\anaconda3\\lib\\site-packages\\click\\core.py\", line 1130, in __call__\n",
      "    return self.main(*args, **kwargs)\n",
      "  File \"C:\\Users\\SHUBHA\\anaconda3\\lib\\site-packages\\click\\core.py\", line 1055, in main\n",
      "    rv = self.invoke(ctx)\n",
      "  File \"C:\\Users\\SHUBHA\\anaconda3\\lib\\site-packages\\click\\core.py\", line 1657, in invoke\n",
      "    return _process_result(sub_ctx.command.invoke(sub_ctx))\n",
      "  File \"C:\\Users\\SHUBHA\\anaconda3\\lib\\site-packages\\click\\core.py\", line 1404, in invoke\n",
      "    return ctx.invoke(self.callback, **ctx.params)\n",
      "  File \"C:\\Users\\SHUBHA\\anaconda3\\lib\\site-packages\\click\\core.py\", line 760, in invoke\n",
      "    return __callback(*args, **kwargs)\n",
      "  File \"C:\\Users\\SHUBHA\\anaconda3\\lib\\site-packages\\typer\\main.py\", line 532, in wrapper\n",
      "    return callback(**use_params)  # type: ignore\n",
      "  File \"C:\\Users\\SHUBHA\\anaconda3\\lib\\site-packages\\spacy\\cli\\download.py\", line 36, in download_cli\n",
      "    download(model, direct, sdist, *ctx.args)\n",
      "  File \"C:\\Users\\SHUBHA\\anaconda3\\lib\\site-packages\\spacy\\cli\\download.py\", line 70, in download\n",
      "    compatibility = get_compatibility()\n",
      "  File \"C:\\Users\\SHUBHA\\anaconda3\\lib\\site-packages\\spacy\\cli\\download.py\", line 97, in get_compatibility\n",
      "    r = requests.get(about.__compatibility__)\n",
      "  File \"C:\\Users\\SHUBHA\\anaconda3\\lib\\site-packages\\requests\\api.py\", line 76, in get\n",
      "    return request('get', url, params=params, **kwargs)\n",
      "  File \"C:\\Users\\SHUBHA\\anaconda3\\lib\\site-packages\\requests\\api.py\", line 61, in request\n",
      "    return session.request(method=method, url=url, **kwargs)\n",
      "  File \"C:\\Users\\SHUBHA\\anaconda3\\lib\\site-packages\\requests\\sessions.py\", line 542, in request\n",
      "    resp = self.send(prep, **send_kwargs)\n",
      "  File \"C:\\Users\\SHUBHA\\anaconda3\\lib\\site-packages\\requests\\sessions.py\", line 655, in send\n",
      "    r = adapter.send(request, **kwargs)\n",
      "  File \"C:\\Users\\SHUBHA\\anaconda3\\lib\\site-packages\\requests\\adapters.py\", line 516, in send\n",
      "    raise ConnectionError(e, request=request)\n",
      "requests.exceptions.ConnectionError: HTTPSConnectionPool(host='raw.githubusercontent.com', port=443): Max retries exceeded with url: /explosion/spacy-models/master/compatibility.json (Caused by NewConnectionError('<urllib3.connection.HTTPSConnection object at 0x00000255CE85A8B0>: Failed to establish a new connection: [WinError 10060] A connection attempt failed because the connected party did not properly respond after a period of time, or established connection failed because connected host has failed to respond'))\n"
     ]
    }
   ],
   "source": [
    "import spacy\n",
    "!python -m spacy download en_core_web_sm \n",
    "from spacy import displacy\n",
    "    \n",
    "nlp = spacy.load(\"en_core_web_sm\")"
   ]
  },
  {
   "cell_type": "code",
   "execution_count": 25,
   "id": "55974b45",
   "metadata": {
    "ExecuteTime": {
     "end_time": "2022-12-12T09:58:18.931736Z",
     "start_time": "2022-12-12T09:58:15.628413Z"
    }
   },
   "outputs": [
    {
     "name": "stdout",
     "output_type": "stream",
     "text": [
      "iím alien idaacarmack ray tracing cyberpunk hdr nextlevel have tried great interview gtera27 doge underestimated teslacn congratulations tesla china amazing execution last year now next even happy new year ox underdoge all thought would fail himself haha thanks indeed tweets definitely represent realworld time allocationthe entertaining outcome likely givedirectly just sent somejust agree clubhouse tco3rwe9uhstsgeoffkeighley itís getting realbought dogecoin lil x toddler hodler joshmanmode he definitely issues sentencing seems bit high freewalletorg thanks fixing freewalletorg please unlock account astrojordy this true power any crypto wallet wonít give private keys avoided costs freewalletorg your app sucksrt nasa selected falcon heavy launch first two elements lunar gateway together one mission blkmdl3 once predict cash flow reasonably well starlink ipo rationaletienne starlink staggeringly difficult technical economic endeavor however donö spacex needs pass deep chasm negative cash flow next year lowest cost per ton carbon sequestered net value product made must scalable gö itís meant price countries only difference taxes shipping this intended earth may ideas apply mars cryptoshrikar xprize team manage 100m carbon capture prize everyone tesla receives stock my comp stock options take table thatís youíre missingback work go does seem bit high itsallrisky doge appears inflationary meaningfully fixed coins per unit time whereasö wow erdayastronaut 1 orbital launch tower stack 2 enough raptors orbit booster 3 improve ship booster mass michaelhodapp back work tonight – – ogecoin instructional video people spoken so cute u0001f495 extremely misleading image doesnít reflect true time cost people rain pain u0001f3b6 who let doge u0001f3b6 hodl rainforests so itís finally come itís fun crypto joshroomsburg its simplicity genius astrogdogg yup jbuttermost true dogecoinrich not easy this two decades intense work have look old notes emails texts yeslessons learnedof earth marstime tell story tesla spacex theonion have read itís great the second last kingdom havenít heard name years dogecakeyolt thatís damian kristennetten yeah owensparks surethe great thing restaurants get hang strangers sjmthe future currency earth redlineshifter just scratchmuch wow rationaletienne u0001f5a4 destiny renatakonkoly franz essential erdayastronaut that said ship landing burn clear solution my greateö will still use hot gas maneuvering rcs thrusters higher isp erdayastronaut intuitively would seem turbopumpfed raptors muö yesrt falcon 9 launch ís spherex mission ñ collect data 300 million galaxies explore unört falcon 9 launches 60 starlink satellites orbit ñ mission pad 39a deck itís true joshbickett yeah by default engine least lever arm would shut 3 good engines min throttle point flameout risk laö erdayastronaut it foolish us start 3 engines immediately shut 1 2 needed landi become meme destroyer shorts commandercruz might actually happensandstorm masterpiece madoverlord we dumbnext time try pull method lokino highs lows dogeno need gigachad owndogecoin peopleís cryptour welcome the entertaining outcome likelydoge tcovviuzwhodterdayastronaut high seas windthis tough one watch falcon 9 launch 60 starlink satellites u2192\n"
     ]
    }
   ],
   "source": [
    "nlp = spacy.load('en_core_web_sm')\n",
    "df = nlp(' '.join(tweet_lower_words))\n",
    "print(df)"
   ]
  },
  {
   "cell_type": "code",
   "execution_count": 26,
   "id": "ea9531fe",
   "metadata": {
    "ExecuteTime": {
     "end_time": "2022-12-12T09:58:18.977611Z",
     "start_time": "2022-12-12T09:58:18.967672Z"
    }
   },
   "outputs": [
    {
     "name": "stdout",
     "output_type": "stream",
     "text": [
      "['iím', 'alien', 'idaacarmack', 'ray', 'trace', 'cyberpunk', 'hdr', 'nextlevel', 'have', 'try', 'great', 'interview', 'gtera27', 'doge', 'underestimate', 'teslacn', 'congratulations', 'tesla', 'china', 'amazing', 'execution', 'last', 'year', 'now', 'next', 'even', 'happy', 'new', 'year', 'ox', 'underdoge', 'all', 'think', 'would', 'fail', 'himself', 'haha', 'thank', 'indeed', 'tweet', 'definitely', 'represent', 'realworld', 'time', 'allocationthe', 'entertaining', 'outcome', 'likely', 'givedirectly', 'just', 'send', 'somejust', 'agree', 'clubhouse', 'tco3rwe9uhstsgeoffkeighley', 'itís', 'getting', 'realbought', 'dogecoin', 'lil', 'x', 'toddler', 'hodler', 'joshmanmode', 'he', 'definitely', 'issue', 'sentencing', 'seem', 'bit', 'high', 'freewalletorg', 'thank', 'fix', 'freewalletorg', 'please', 'unlock', 'account', 'astrojordy', 'this', 'true', 'power', 'any', 'crypto', 'wallet', 'wonít', 'give', 'private', 'key', 'avoid', 'cost', 'freewalletorg', 'your', 'app', 'sucksrt', 'nasa', 'select', 'falcon', 'heavy', 'launch', 'first', 'two', 'element', 'lunar', 'gateway', 'together', 'one', 'mission', 'blkmdl3', 'once', 'predict', 'cash', 'flow', 'reasonably', 'well', 'starlink', 'ipo', 'rationaletienne', 'starlink', 'staggeringly', 'difficult', 'technical', 'economic', 'endeavor', 'however', 'donö', 'spacex', 'need', 'pass', 'deep', 'chasm', 'negative', 'cash', 'flow', 'next', 'year', 'low', 'cost', 'per', 'ton', 'carbon', 'sequester', 'net', 'value', 'product', 'make', 'must', 'scalable', 'gö', 'itís', 'mean', 'price', 'country', 'only', 'difference', 'taxis', 'ship', 'this', 'intend', 'earth', 'may', 'idea', 'apply', 'mars', 'cryptoshrikar', 'xprize', 'team', 'manage', '100', 'm', 'carbon', 'capture', 'prize', 'everyone', 'tesla', 'receive', 'stock', 'my', 'comp', 'stock', 'option', 'take', 'table', 'thatís', 'youíre', 'missingback', 'work', 'go', 'do', 'seem', 'bit', 'high', 'itsallrisky', 'doge', 'appear', 'inflationary', 'meaningfully', 'fix', 'coin', 'per', 'unit', 'time', 'whereasö', 'wow', 'erdayastronaut', '1', 'orbital', 'launch', 'tower', 'stack', '2', 'enough', 'raptor', 'orbit', 'booster', '3', 'improve', 'ship', 'booster', 'mass', 'michaelhodapp', 'back', 'work', 'tonight', '–', '–', 'ogecoin', 'instructional', 'video', 'people', 'speak', 'so', 'cute', 'u0001f495', 'extremely', 'misleading', 'image', 'doesnít', 'reflect', 'true', 'time', 'cost', 'people', 'rain', 'pain', 'u0001f3b6', 'who', 'let', 'doge', 'u0001f3b6', 'hodl', 'rainforest', 'so', 'itís', 'finally', 'come', 'itís', 'fun', 'crypto', 'joshroomsburg', 'its', 'simplicity', 'genius', 'astrogdogg', 'yup', 'jbuttermost', 'true', 'dogecoinrich', 'not', 'easy', 'this', 'two', 'decade', 'intense', 'work', 'have', 'look', 'old', 'note', 'email', 'texts', 'yeslesson', 'learnedof', 'earth', 'marstime', 'tell', 'story', 'tesla', 'spacex', 'theonion', 'have', 'read', 'itís', 'great', 'the', 'second', 'last', 'kingdom', 'havenít', 'hear', 'name', 'year', 'dogecakeyolt', 'thatís', 'damian', 'kristennetten', 'yeah', 'owenspark', 'surethe', 'great', 'thing', 'restaurant', 'get', 'hang', 'stranger', 'sjmthe', 'future', 'currency', 'earth', 'redlineshifter', 'just', 'scratchmuch', 'wow', 'rationaletienne', 'u0001f5a4', 'destiny', 'renatakonkoly', 'franz', 'essential', 'erdayastronaut', 'that', 'say', 'ship', 'landing', 'burn', 'clear', 'solution', 'my', 'greateö', 'will', 'still', 'use', 'hot', 'gas', 'maneuvering', 'rcs', 'thruster', 'high', 'isp', 'erdayastronaut', 'intuitively', 'would', 'seem', 'turbopumpfed', 'raptor', 'muö', 'yesrt', 'falcon', '9', 'launch', 'ís', 'spherex', 'mission', 'ñ', 'collect', 'datum', '300', 'million', 'galaxy', 'explore', 'unört', 'falcon', '9', 'launch', '60', 'starlink', 'satellite', 'orbit', 'ñ', 'mission', 'pad', '39a', 'deck', 'itís', 'true', 'joshbickett', 'yeah', 'by', 'default', 'engine', 'least', 'lever', 'arm', 'would', 'shut', '3', 'good', 'engine', 'min', 'throttle', 'point', 'flameout', 'risk', 'laö', 'erdayastronaut', 'it', 'foolish', 'we', 'start', '3', 'engine', 'immediately', 'shut', '1', '2', 'need', 'landi', 'become', 'meme', 'destroyer', 'short', 'commandercruz', 'might', 'actually', 'happensandstorm', 'masterpiece', 'madoverlord', 'we', 'dumbnext', 'time', 'try', 'pull', 'method', 'lokino', 'high', 'low', 'dogeno', 'need', 'gigachad', 'owndogecoin', 'peopleís', 'cryptour', 'welcome', 'the', 'entertaining', 'outcome', 'likelydoge', 'tcovviuzwhodterdayastronaut', 'high', 'sea', 'windthis', 'tough', 'one', 'watch', 'falcon', '9', 'launch', '60', 'starlink', 'satellite', 'u2192']\n"
     ]
    }
   ],
   "source": [
    "lemmas = [token.lemma_ for token in df]\n",
    "print(lemmas)"
   ]
  },
  {
   "cell_type": "code",
   "execution_count": 27,
   "id": "7c443514",
   "metadata": {
    "ExecuteTime": {
     "end_time": "2022-12-12T09:58:19.233917Z",
     "start_time": "2022-12-12T09:58:19.011521Z"
    }
   },
   "outputs": [
    {
     "data": {
      "text/plain": [
       "'iím alien idaacarmack ray trace cyberpunk hdr nextlevel have try great interview gtera27 doge underestimate teslacn congratulations tesla china amazing execution last year now next even happy new year ox underdoge all think would fail himself haha thank indeed tweet definitely represent realworld time allocationthe entertaining outcome likely givedirectly just send somejust agree clubhouse tco3rwe9uhstsgeoffkeighley itís getting realbought dogecoin lil x toddler hodler joshmanmode he definitely issue sentencing seem bit high freewalletorg thank fix freewalletorg please unlock account astrojordy this true power any crypto wallet wonít give private key avoid cost freewalletorg your app sucksrt nasa select falcon heavy launch first two element lunar gateway together one mission blkmdl3 once predict cash flow reasonably well starlink ipo rationaletienne starlink staggeringly difficult technical economic endeavor however donö spacex need pass deep chasm negative cash flow next year low cost per ton carbon sequester net value product make must scalable gö itís mean price country only difference taxis ship this intend earth may idea apply mars cryptoshrikar xprize team manage 100 m carbon capture prize everyone tesla receive stock my comp stock option take table thatís youíre missingback work go do seem bit high itsallrisky doge appear inflationary meaningfully fix coin per unit time whereasö wow erdayastronaut 1 orbital launch tower stack 2 enough raptor orbit booster 3 improve ship booster mass michaelhodapp back work tonight – – ogecoin instructional video people speak so cute u0001f495 extremely misleading image doesnít reflect true time cost people rain pain u0001f3b6 who let doge u0001f3b6 hodl rainforest so itís finally come itís fun crypto joshroomsburg its simplicity genius astrogdogg yup jbuttermost true dogecoinrich not easy this two decade intense work have look old note email texts yeslesson learnedof earth marstime tell story tesla spacex theonion have read itís great the second last kingdom havenít hear name year dogecakeyolt thatís damian kristennetten yeah owenspark surethe great thing restaurant get hang stranger sjmthe future currency earth redlineshifter just scratchmuch wow rationaletienne u0001f5a4 destiny renatakonkoly franz essential erdayastronaut that say ship landing burn clear solution my greateö will still use hot gas maneuvering rcs thruster high isp erdayastronaut intuitively would seem turbopumpfed raptor muö yesrt falcon 9 launch ís spherex mission ñ collect datum 300 million galaxy explore unört falcon 9 launch 60 starlink satellite orbit ñ mission pad 39a deck itís true joshbickett yeah by default engine least lever arm would shut 3 good engine min throttle point flameout risk laö erdayastronaut it foolish we start 3 engine immediately shut 1 2 need landi become meme destroyer short commandercruz might actually happensandstorm masterpiece madoverlord we dumbnext time try pull method lokino high low dogeno need gigachad owndogecoin peopleís cryptour welcome the entertaining outcome likelydoge tcovviuzwhodterdayastronaut high sea windthis tough one watch falcon 9 launch 60 starlink satellite u2192'"
      ]
     },
     "execution_count": 27,
     "metadata": {},
     "output_type": "execute_result"
    }
   ],
   "source": [
    "clean_tweets = ' '.join(lemmas)\n",
    "clean_tweets"
   ]
  },
  {
   "cell_type": "markdown",
   "id": "83017cf5",
   "metadata": {},
   "source": [
    "##### "
   ]
  },
  {
   "cell_type": "markdown",
   "id": "92cc61f6",
   "metadata": {},
   "source": [
    "# 4. Feature Extaction"
   ]
  },
  {
   "cell_type": "markdown",
   "id": "da628b6a",
   "metadata": {},
   "source": [
    "### STEP 1 = Using CountVectorizer :"
   ]
  },
  {
   "cell_type": "code",
   "execution_count": 28,
   "id": "05eab8b1",
   "metadata": {
    "ExecuteTime": {
     "end_time": "2022-12-12T09:58:19.340739Z",
     "start_time": "2022-12-12T09:58:19.267563Z"
    }
   },
   "outputs": [],
   "source": [
    "from sklearn.feature_extraction.text import CountVectorizer"
   ]
  },
  {
   "cell_type": "code",
   "execution_count": 29,
   "id": "549f55e1",
   "metadata": {
    "ExecuteTime": {
     "end_time": "2022-12-12T09:58:19.634774Z",
     "start_time": "2022-12-12T09:58:19.390040Z"
    }
   },
   "outputs": [],
   "source": [
    "cv = CountVectorizer()\n",
    "\n",
    "tweets_cv = cv.fit_transform(lemmas)"
   ]
  },
  {
   "cell_type": "code",
   "execution_count": 30,
   "id": "8444ba9e",
   "metadata": {
    "ExecuteTime": {
     "end_time": "2022-12-12T09:58:19.713319Z",
     "start_time": "2022-12-12T09:58:19.701312Z"
    }
   },
   "outputs": [
    {
     "name": "stdout",
     "output_type": "stream",
     "text": [
      "{'iím': 145, 'alien': 7, 'idaacarmack': 126, 'ray': 235, 'trace': 308, 'cyberpunk': 46, 'hdr': 116, 'nextlevel': 200, 'have': 114, 'try': 310, 'great': 106, 'interview': 136, 'gtera27': 108, 'doge': 60, 'underestimate': 319, 'teslacn': 289, 'congratulations': 38, 'tesla': 288, 'china': 30, 'amazing': 10, 'execution': 80, 'last': 156, 'year': 341, 'now': 203, 'next': 199, 'even': 78, 'happy': 113, 'new': 198, 'ox': 215, 'underdoge': 318, 'all': 8, 'think': 297, 'would': 337, 'fail': 83, 'himself': 121, 'haha': 110, 'thank': 291, 'indeed': 131, 'tweet': 312, 'definitely': 53, 'represent': 245, 'realworld': 239, 'time': 301, 'allocationthe': 9, 'entertaining': 75, 'outcome': 212, 'likely': 163, 'givedirectly': 103, 'just': 150, 'send': 256, 'somejust': 266, 'agree': 6, 'clubhouse': 32, 'tco3rwe9uhstsgeoffkeighley': 283, 'itís': 144, 'getting': 100, 'realbought': 238, 'dogecoin': 62, 'lil': 165, 'toddler': 302, 'hodler': 123, 'joshmanmode': 148, 'he': 117, 'issue': 140, 'sentencing': 257, 'seem': 254, 'bit': 21, 'high': 120, 'freewalletorg': 92, 'fix': 87, 'please': 222, 'unlock': 321, 'account': 4, 'astrojordy': 17, 'this': 298, 'true': 309, 'power': 224, 'any': 11, 'crypto': 41, 'wallet': 326, 'wonít': 335, 'give': 102, 'private': 227, 'key': 151, 'avoid': 18, 'cost': 39, 'your': 344, 'app': 12, 'sucksrt': 278, 'nasa': 194, 'select': 255, 'falcon': 84, 'heavy': 119, 'launch': 157, 'first': 86, 'two': 313, 'element': 70, 'lunar': 169, 'gateway': 97, 'together': 303, 'one': 207, 'mission': 189, 'blkmdl3': 22, 'once': 206, 'predict': 225, 'cash': 28, 'flow': 89, 'reasonably': 240, 'well': 330, 'starlink': 272, 'ipo': 138, 'rationaletienne': 234, 'staggeringly': 271, 'difficult': 57, 'technical': 286, 'economic': 69, 'endeavor': 72, 'however': 125, 'donö': 65, 'spacex': 267, 'need': 195, 'pass': 218, 'deep': 51, 'chasm': 29, 'negative': 196, 'low': 168, 'per': 221, 'ton': 304, 'carbon': 27, 'sequester': 258, 'net': 197, 'value': 324, 'product': 229, 'make': 171, 'must': 190, 'scalable': 250, 'gö': 109, 'mean': 179, 'price': 226, 'country': 40, 'only': 208, 'difference': 56, 'taxis': 282, 'ship': 259, 'intend': 134, 'earth': 67, 'may': 178, 'idea': 127, 'apply': 14, 'mars': 174, 'cryptoshrikar': 42, 'xprize': 339, 'team': 285, 'manage': 172, '100': 0, 'capture': 26, 'prize': 228, 'everyone': 79, 'receive': 241, 'stock': 275, 'my': 192, 'comp': 37, 'option': 209, 'take': 281, 'table': 280, 'thatís': 293, 'youíre': 345, 'missingback': 188, 'work': 336, 'go': 104, 'do': 58, 'itsallrisky': 143, 'appear': 13, 'inflationary': 132, 'meaningfully': 180, 'coin': 33, 'unit': 320, 'whereasö': 331, 'wow': 338, 'erdayastronaut': 76, 'orbital': 211, 'tower': 307, 'stack': 270, 'enough': 74, 'raptor': 233, 'orbit': 210, 'booster': 23, 'improve': 130, 'mass': 176, 'michaelhodapp': 183, 'back': 19, 'tonight': 305, 'ogecoin': 204, 'instructional': 133, 'video': 325, 'people': 219, 'speak': 268, 'so': 264, 'cute': 45, 'u0001f495': 315, 'extremely': 82, 'misleading': 187, 'image': 128, 'doesnít': 59, 'reflect': 243, 'rain': 231, 'pain': 217, 'u0001f3b6': 314, 'who': 332, 'let': 161, 'hodl': 122, 'rainforest': 232, 'finally': 85, 'come': 35, 'fun': 93, 'joshroomsburg': 149, 'its': 142, 'simplicity': 262, 'genius': 98, 'astrogdogg': 16, 'yup': 346, 'jbuttermost': 146, 'dogecoinrich': 63, 'not': 201, 'easy': 68, 'decade': 49, 'intense': 135, 'look': 167, 'old': 205, 'note': 202, 'email': 71, 'texts': 290, 'yeslesson': 342, 'learnedof': 159, 'marstime': 175, 'tell': 287, 'story': 276, 'theonion': 295, 'read': 237, 'the': 294, 'second': 253, 'kingdom': 152, 'havenít': 115, 'hear': 118, 'name': 193, 'dogecakeyolt': 61, 'damian': 47, 'kristennetten': 153, 'yeah': 340, 'owenspark': 213, 'surethe': 279, 'thing': 296, 'restaurant': 246, 'get': 99, 'hang': 111, 'stranger': 277, 'sjmthe': 263, 'future': 94, 'currency': 44, 'redlineshifter': 242, 'scratchmuch': 251, 'u0001f5a4': 316, 'destiny': 54, 'renatakonkoly': 244, 'franz': 91, 'essential': 77, 'that': 292, 'say': 249, 'landing': 155, 'burn': 24, 'clear': 31, 'solution': 265, 'greateö': 107, 'will': 333, 'still': 274, 'use': 323, 'hot': 124, 'gas': 96, 'maneuvering': 173, 'rcs': 236, 'thruster': 300, 'isp': 139, 'intuitively': 137, 'turbopumpfed': 311, 'muö': 191, 'yesrt': 343, 'ís': 347, 'spherex': 269, 'collect': 34, 'datum': 48, '300': 1, 'million': 185, 'galaxy': 95, 'explore': 81, 'unört': 322, '60': 3, 'satellite': 248, 'pad': 216, '39a': 2, 'deck': 50, 'joshbickett': 147, 'by': 25, 'default': 52, 'engine': 73, 'least': 160, 'lever': 162, 'arm': 15, 'shut': 261, 'good': 105, 'min': 186, 'throttle': 299, 'point': 223, 'flameout': 88, 'risk': 247, 'laö': 158, 'it': 141, 'foolish': 90, 'we': 328, 'start': 273, 'immediately': 129, 'landi': 154, 'become': 20, 'meme': 181, 'destroyer': 55, 'short': 260, 'commandercruz': 36, 'might': 184, 'actually': 5, 'happensandstorm': 112, 'masterpiece': 177, 'madoverlord': 170, 'dumbnext': 66, 'pull': 230, 'method': 182, 'lokino': 166, 'dogeno': 64, 'gigachad': 101, 'owndogecoin': 214, 'peopleís': 220, 'cryptour': 43, 'welcome': 329, 'likelydoge': 164, 'tcovviuzwhodterdayastronaut': 284, 'sea': 252, 'windthis': 334, 'tough': 306, 'watch': 327, 'u2192': 317}\n"
     ]
    }
   ],
   "source": [
    "print(cv.vocabulary_)"
   ]
  },
  {
   "cell_type": "code",
   "execution_count": 31,
   "id": "afc20d00",
   "metadata": {
    "ExecuteTime": {
     "end_time": "2022-12-12T09:58:19.821936Z",
     "start_time": "2022-12-12T09:58:19.749705Z"
    }
   },
   "outputs": [
    {
     "name": "stdout",
     "output_type": "stream",
     "text": [
      "['getting', 'gigachad', 'give', 'givedirectly', 'go', 'good', 'great', 'greateö', 'gtera27', 'gö', 'haha', 'hang', 'happensandstorm', 'happy', 'have', 'havenít', 'hdr', 'he', 'hear', 'heavy', 'high', 'himself', 'hodl', 'hodler', 'hot', 'however', 'idaacarmack', 'idea', 'image', 'immediately', 'improve', 'indeed', 'inflationary', 'instructional', 'intend', 'intense', 'interview', 'intuitively', 'ipo', 'isp', 'issue', 'it', 'its', 'itsallrisky', 'itís', 'iím', 'jbuttermost', 'joshbickett', 'joshmanmode', 'joshroomsburg', 'just', 'key', 'kingdom', 'kristennetten', 'landi', 'landing', 'last', 'launch', 'laö', 'learnedof', 'least', 'let', 'lever', 'likely', 'likelydoge', 'lil', 'lokino', 'look', 'low', 'lunar', 'madoverlord', 'make', 'manage', 'maneuvering', 'mars', 'marstime', 'mass', 'masterpiece', 'may', 'mean', 'meaningfully', 'meme', 'method', 'michaelhodapp', 'might', 'million', 'min', 'misleading', 'missingback', 'mission', 'must', 'muö', 'my', 'name', 'nasa', 'need', 'negative', 'net', 'new', 'next']\n"
     ]
    }
   ],
   "source": [
    "print(cv.get_feature_names()[100:200])"
   ]
  },
  {
   "cell_type": "code",
   "execution_count": 32,
   "id": "751f5477",
   "metadata": {
    "ExecuteTime": {
     "end_time": "2022-12-12T09:58:20.272276Z",
     "start_time": "2022-12-12T09:58:19.857835Z"
    }
   },
   "outputs": [
    {
     "name": "stdout",
     "output_type": "stream",
     "text": [
      "[[0 0 0 ... 0 0 0]\n",
      " [0 0 0 ... 0 0 0]\n",
      " [0 0 0 ... 0 0 0]\n",
      " ...\n",
      " [0 0 0 ... 0 0 0]\n",
      " [0 0 0 ... 0 0 0]\n",
      " [0 0 0 ... 0 0 0]]\n"
     ]
    }
   ],
   "source": [
    "print(tweets_cv.toarray()[100:200])"
   ]
  },
  {
   "cell_type": "code",
   "execution_count": 33,
   "id": "e106c9e3",
   "metadata": {
    "ExecuteTime": {
     "end_time": "2022-12-12T09:58:20.378956Z",
     "start_time": "2022-12-12T09:58:20.322093Z"
    }
   },
   "outputs": [
    {
     "name": "stdout",
     "output_type": "stream",
     "text": [
      "(461, 348)\n"
     ]
    }
   ],
   "source": [
    "print(tweets_cv.toarray().shape)"
   ]
  },
  {
   "cell_type": "markdown",
   "id": "83795a65",
   "metadata": {},
   "source": [
    "### STEP 2 = Using CountVectorizer with N-grams (Bigrams & Trigrams) :"
   ]
  },
  {
   "cell_type": "code",
   "execution_count": 34,
   "id": "fac4d424",
   "metadata": {
    "ExecuteTime": {
     "end_time": "2022-12-12T09:58:20.479441Z",
     "start_time": "2022-12-12T09:58:20.420826Z"
    }
   },
   "outputs": [],
   "source": [
    "cv_ngrams = CountVectorizer(analyzer = 'word',ngram_range = (1,3),max_features = 100)\n",
    "\n",
    "cv_ngrams_matrix = cv_ngrams.fit_transform(lemmas)"
   ]
  },
  {
   "cell_type": "code",
   "execution_count": 35,
   "id": "6bf3a507",
   "metadata": {
    "ExecuteTime": {
     "end_time": "2022-12-12T09:58:20.590129Z",
     "start_time": "2022-12-12T09:58:20.554242Z"
    }
   },
   "outputs": [
    {
     "name": "stdout",
     "output_type": "stream",
     "text": [
      "['60', 'bit', 'booster', 'carbon', 'cash', 'cost', 'crypto', 'definitely', 'doge', 'earth', 'engine', 'entertaining', 'erdayastronaut', 'falcon', 'fix', 'flow', 'freewalletorg', 'great', 'have', 'high', 'itís', 'just', 'last', 'launch', 'low', 'missingback', 'mission', 'must', 'muö', 'my', 'name', 'nasa', 'need', 'negative', 'net', 'new', 'next', 'nextlevel', 'now', 'old', 'once', 'one', 'only', 'option', 'orbit', 'orbital', 'outcome', 'owenspark', 'owndogecoin', 'ox', 'pad', 'pain', 'pass', 'people', 'peopleís', 'per', 'please', 'point', 'pull', 'raptor', 'rationaletienne', 'ray', 'rcs', 'read', 'realbought', 'realworld', 'reasonably', 'receive', 'redlineshifter', 'reflect', 'renatakonkoly', 'represent', 'restaurant', 'risk', 'satellite', 'say', 'scalable', 'seem', 'ship', 'shut', 'so', 'spacex', 'starlink', 'stock', 'tesla', 'thank', 'thatís', 'the', 'this', 'time', 'true', 'try', 'two', 'u0001f3b6', 'we', 'work', 'would', 'wow', 'yeah', 'year']\n"
     ]
    }
   ],
   "source": [
    "print(cv_ngrams.get_feature_names())"
   ]
  },
  {
   "cell_type": "code",
   "execution_count": 36,
   "id": "940bb58e",
   "metadata": {
    "ExecuteTime": {
     "end_time": "2022-12-12T09:58:20.700235Z",
     "start_time": "2022-12-12T09:58:20.625994Z"
    }
   },
   "outputs": [
    {
     "name": "stdout",
     "output_type": "stream",
     "text": [
      "[[0 0 0 ... 0 0 0]\n",
      " [0 0 0 ... 0 0 0]\n",
      " [0 0 0 ... 0 0 0]\n",
      " ...\n",
      " [0 0 0 ... 0 0 0]\n",
      " [0 0 0 ... 0 0 0]\n",
      " [0 0 0 ... 0 0 0]]\n"
     ]
    }
   ],
   "source": [
    "print(cv_ngrams_matrix.toarray())"
   ]
  },
  {
   "cell_type": "code",
   "execution_count": 37,
   "id": "46fe11fb",
   "metadata": {
    "ExecuteTime": {
     "end_time": "2022-12-12T09:58:20.809830Z",
     "start_time": "2022-12-12T09:58:20.735179Z"
    }
   },
   "outputs": [
    {
     "name": "stdout",
     "output_type": "stream",
     "text": [
      "(461, 100)\n"
     ]
    }
   ],
   "source": [
    "print(cv_ngrams_matrix.toarray().shape)"
   ]
  },
  {
   "cell_type": "markdown",
   "id": "034a3a04",
   "metadata": {},
   "source": [
    "### STEP 3 =  Using TF-IDF Vectorizer :"
   ]
  },
  {
   "cell_type": "code",
   "execution_count": 38,
   "id": "50cdac3b",
   "metadata": {
    "ExecuteTime": {
     "end_time": "2022-12-12T09:58:20.934450Z",
     "start_time": "2022-12-12T09:58:20.845731Z"
    }
   },
   "outputs": [],
   "source": [
    "from sklearn.feature_extraction.text import TfidfVectorizer"
   ]
  },
  {
   "cell_type": "code",
   "execution_count": 39,
   "id": "3a1c4a9a",
   "metadata": {
    "ExecuteTime": {
     "end_time": "2022-12-12T09:58:21.056974Z",
     "start_time": "2022-12-12T09:58:20.985316Z"
    }
   },
   "outputs": [],
   "source": [
    "tf_idf_vec = TfidfVectorizer(norm = 'l2',analyzer = 'word',ngram_range = (1,3),max_features = 500)\n",
    "\n",
    "tf_idf_vec_matrix = tf_idf_vec.fit_transform(lemmas)"
   ]
  },
  {
   "cell_type": "code",
   "execution_count": 40,
   "id": "d298ce59",
   "metadata": {
    "ExecuteTime": {
     "end_time": "2022-12-12T09:58:21.168133Z",
     "start_time": "2022-12-12T09:58:21.123255Z"
    }
   },
   "outputs": [
    {
     "name": "stdout",
     "output_type": "stream",
     "text": [
      "['100', '300', '39a', '60', 'account', 'actually', 'agree', 'alien', 'all', 'allocationthe', 'amazing', 'any', 'app', 'appear', 'apply', 'arm', 'astrogdogg', 'astrojordy', 'avoid', 'back', 'become', 'bit', 'blkmdl3', 'booster', 'burn', 'by', 'capture', 'carbon', 'cash', 'chasm', 'china', 'clear', 'clubhouse', 'coin', 'collect', 'come', 'commandercruz', 'comp', 'congratulations', 'cost', 'country', 'crypto', 'cryptoshrikar', 'cryptour', 'currency', 'cute', 'cyberpunk', 'damian', 'datum', 'decade', 'deck', 'deep', 'default', 'definitely', 'destiny', 'destroyer', 'difference', 'difficult', 'do', 'doesnít', 'doge', 'dogecakeyolt', 'dogecoin', 'dogecoinrich', 'dogeno', 'donö', 'dumbnext', 'earth', 'easy', 'economic', 'element', 'email', 'endeavor', 'engine', 'enough', 'entertaining', 'erdayastronaut', 'essential', 'even', 'everyone', 'execution', 'explore', 'extremely', 'fail', 'falcon', 'finally', 'first', 'fix', 'flameout', 'flow', 'foolish', 'franz', 'freewalletorg', 'fun', 'future', 'galaxy', 'gas', 'gateway', 'genius', 'get', 'getting', 'gigachad', 'give', 'givedirectly', 'go', 'good', 'great', 'greateö', 'gtera27', 'gö', 'haha', 'hang', 'happensandstorm', 'happy', 'have', 'havenít', 'hdr', 'he', 'hear', 'heavy', 'high', 'himself', 'hodl', 'hodler', 'hot', 'however', 'idaacarmack', 'idea', 'image', 'immediately', 'improve', 'indeed', 'inflationary', 'instructional', 'intend', 'intense', 'interview', 'intuitively', 'ipo', 'isp', 'issue', 'it', 'its', 'itsallrisky', 'itís', 'iím', 'jbuttermost', 'joshbickett', 'joshmanmode', 'joshroomsburg', 'just', 'key', 'kingdom', 'kristennetten', 'landi', 'landing', 'last', 'launch', 'laö', 'learnedof', 'least', 'let', 'lever', 'likely', 'likelydoge', 'lil', 'lokino', 'look', 'low', 'lunar', 'madoverlord', 'make', 'manage', 'maneuvering', 'mars', 'marstime', 'mass', 'masterpiece', 'may', 'mean', 'meaningfully', 'meme', 'method', 'michaelhodapp', 'might', 'million', 'min', 'misleading', 'missingback', 'mission', 'must', 'muö', 'my', 'name', 'nasa', 'need', 'negative', 'net', 'new', 'next', 'nextlevel', 'not', 'note', 'now', 'ogecoin', 'old', 'once', 'one', 'only', 'option', 'orbit', 'orbital', 'outcome', 'owenspark', 'owndogecoin', 'ox', 'pad', 'pain', 'pass', 'people', 'peopleís', 'per', 'please', 'point', 'power', 'predict', 'price', 'private', 'prize', 'product', 'pull', 'rain', 'rainforest', 'raptor', 'rationaletienne', 'ray', 'rcs', 'read', 'realbought', 'realworld', 'reasonably', 'receive', 'redlineshifter', 'reflect', 'renatakonkoly', 'represent', 'restaurant', 'risk', 'satellite', 'say', 'scalable', 'scratchmuch', 'sea', 'second', 'seem', 'select', 'send', 'sentencing', 'sequester', 'ship', 'short', 'shut', 'simplicity', 'sjmthe', 'so', 'solution', 'somejust', 'spacex', 'speak', 'spherex', 'stack', 'staggeringly', 'starlink', 'start', 'still', 'stock', 'story', 'stranger', 'sucksrt', 'surethe', 'table', 'take', 'taxis', 'tco3rwe9uhstsgeoffkeighley', 'tcovviuzwhodterdayastronaut', 'team', 'technical', 'tell', 'tesla', 'teslacn', 'texts', 'thank', 'that', 'thatís', 'the', 'theonion', 'thing', 'think', 'this', 'throttle', 'thruster', 'time', 'toddler', 'together', 'ton', 'tonight', 'tough', 'tower', 'trace', 'true', 'try', 'turbopumpfed', 'tweet', 'two', 'u0001f3b6', 'u0001f495', 'u0001f5a4', 'u2192', 'underdoge', 'underestimate', 'unit', 'unlock', 'unört', 'use', 'value', 'video', 'wallet', 'watch', 'we', 'welcome', 'well', 'whereasö', 'who', 'will', 'windthis', 'wonít', 'work', 'would', 'wow', 'xprize', 'yeah', 'year', 'yeslesson', 'yesrt', 'your', 'youíre', 'yup', 'ís']\n"
     ]
    }
   ],
   "source": [
    "print(tf_idf_vec.get_feature_names())"
   ]
  },
  {
   "cell_type": "code",
   "execution_count": 41,
   "id": "3504c83a",
   "metadata": {
    "ExecuteTime": {
     "end_time": "2022-12-12T09:58:21.264023Z",
     "start_time": "2022-12-12T09:58:21.220996Z"
    }
   },
   "outputs": [
    {
     "name": "stdout",
     "output_type": "stream",
     "text": [
      "[[0. 0. 0. ... 0. 0. 0.]\n",
      " [0. 0. 0. ... 0. 0. 0.]\n",
      " [0. 0. 0. ... 0. 0. 0.]\n",
      " ...\n",
      " [0. 0. 0. ... 0. 0. 0.]\n",
      " [0. 0. 0. ... 0. 0. 0.]\n",
      " [0. 0. 0. ... 0. 0. 0.]]\n"
     ]
    }
   ],
   "source": [
    "print(tf_idf_vec_matrix.toarray())"
   ]
  },
  {
   "cell_type": "code",
   "execution_count": 42,
   "id": "a16064a5",
   "metadata": {
    "ExecuteTime": {
     "end_time": "2022-12-12T09:58:21.359802Z",
     "start_time": "2022-12-12T09:58:21.301919Z"
    }
   },
   "outputs": [
    {
     "name": "stdout",
     "output_type": "stream",
     "text": [
      "(461, 348)\n"
     ]
    }
   ],
   "source": [
    "print(tf_idf_vec_matrix.toarray().shape)"
   ]
  },
  {
   "cell_type": "markdown",
   "id": "695de25a",
   "metadata": {},
   "source": [
    "### STEP 4 = Define a Function To plot Word cloud :"
   ]
  },
  {
   "cell_type": "code",
   "execution_count": 43,
   "id": "3e3592af",
   "metadata": {
    "ExecuteTime": {
     "end_time": "2022-12-12T09:59:00.271374Z",
     "start_time": "2022-12-12T09:58:21.397696Z"
    }
   },
   "outputs": [
    {
     "name": "stdout",
     "output_type": "stream",
     "text": [
      "Requirement already satisfied: wordcloud in c:\\users\\shubha\\anaconda3\\lib\\site-packages (1.8.2.2)Note: you may need to restart the kernel to use updated packages.\n",
      "\n",
      "Requirement already satisfied: matplotlib in c:\\users\\shubha\\anaconda3\\lib\\site-packages (from wordcloud) (3.3.4)\n",
      "Requirement already satisfied: pillow in c:\\users\\shubha\\anaconda3\\lib\\site-packages (from wordcloud) (8.2.0)\n",
      "Requirement already satisfied: numpy>=1.6.1 in c:\\users\\shubha\\anaconda3\\lib\\site-packages (from wordcloud) (1.21.5)\n",
      "Requirement already satisfied: pyparsing!=2.0.4,!=2.1.2,!=2.1.6,>=2.0.3 in c:\\users\\shubha\\anaconda3\\lib\\site-packages (from matplotlib->wordcloud) (2.4.7)\n",
      "Requirement already satisfied: python-dateutil>=2.1 in c:\\users\\shubha\\anaconda3\\lib\\site-packages (from matplotlib->wordcloud) (2.8.1)\n",
      "Requirement already satisfied: kiwisolver>=1.0.1 in c:\\users\\shubha\\anaconda3\\lib\\site-packages (from matplotlib->wordcloud) (1.3.1)\n",
      "Requirement already satisfied: cycler>=0.10 in c:\\users\\shubha\\anaconda3\\lib\\site-packages (from matplotlib->wordcloud) (0.10.0)\n",
      "Requirement already satisfied: six in c:\\users\\shubha\\anaconda3\\lib\\site-packages (from cycler>=0.10->matplotlib->wordcloud) (1.15.0)\n"
     ]
    }
   ],
   "source": [
    "pip install wordcloud"
   ]
  },
  {
   "cell_type": "code",
   "execution_count": 44,
   "id": "146ede06",
   "metadata": {
    "ExecuteTime": {
     "end_time": "2022-12-12T09:59:00.332432Z",
     "start_time": "2022-12-12T09:59:00.324457Z"
    }
   },
   "outputs": [],
   "source": [
    "from wordcloud import WordCloud, ImageColorGenerator"
   ]
  },
  {
   "cell_type": "code",
   "execution_count": 45,
   "id": "6bd406bb",
   "metadata": {
    "ExecuteTime": {
     "end_time": "2022-12-12T09:59:00.439656Z",
     "start_time": "2022-12-12T09:59:00.366384Z"
    }
   },
   "outputs": [],
   "source": [
    "def plot_cloud(wordcloud):\n",
    "    \n",
    "    plt.figure(figsize=(40,30))\n",
    "    plt.imshow(wordcloud)\n",
    "    plt.axis('off')"
   ]
  },
  {
   "cell_type": "markdown",
   "id": "fa65674b",
   "metadata": {},
   "source": [
    "### STEP 5 = Generate Word Cloud :"
   ]
  },
  {
   "cell_type": "code",
   "execution_count": 46,
   "id": "f0a8dee2",
   "metadata": {
    "ExecuteTime": {
     "end_time": "2022-12-12T09:59:18.191262Z",
     "start_time": "2022-12-12T09:59:00.474527Z"
    }
   },
   "outputs": [
    {
     "data": {
      "image/png": "[encoded data removed]",
      "text/plain": [
       "<Figure size 2880x2160 with 1 Axes>"
      ]
     },
     "metadata": {
      "needs_background": "light"
     },
     "output_type": "display_data"
    }
   ],
   "source": [
    "STOPWORDS.add('pron')\n",
    "STOPWORDS.add('rt')\n",
    "STOPWORDS.add('yeah')\n",
    "\n",
    "wordcloud = WordCloud(width = 3000,height = 2000,background_color = 'black',max_words = 50,colormap = 'Set1',\n",
    "                      stopwords = STOPWORDS).generate(clean_tweets)\n",
    "plot_cloud(wordcloud)"
   ]
  },
  {
   "cell_type": "markdown",
   "id": "50735785",
   "metadata": {},
   "source": [
    "### STEP 6 = Named Entity Recognition (NER) and Parts of Speech (POS) Tagging :"
   ]
  },
  {
   "cell_type": "code",
   "execution_count": 47,
   "id": "c7e34887",
   "metadata": {
    "ExecuteTime": {
     "end_time": "2022-12-12T09:59:19.557791Z",
     "start_time": "2022-12-12T09:59:18.253235Z"
    }
   },
   "outputs": [
    {
     "data": {
      "text/html": [
       "<span class=\"tex2jax_ignore\"><div class=\"entities\" style=\"line-height: 2.5; direction: ltr\">iím alien idaacarmack ray trace cyberpunk hdr nextlevel have try great interview \n",
       "<mark class=\"entity\" style=\"background: #ff9561; padding: 0.45em 0.6em; margin: 0 0.25em; line-height: 1; border-radius: 0.35em;\">\n",
       "    gtera27\n",
       "    <span style=\"font-size: 0.8em; font-weight: bold; line-height: 1; border-radius: 0.35em; vertical-align: middle; margin-left: 0.5rem\">LOC</span>\n",
       "</mark>\n",
       " doge underestimate teslacn congratulations tesla \n",
       "<mark class=\"entity\" style=\"background: #feca74; padding: 0.45em 0.6em; margin: 0 0.25em; line-height: 1; border-radius: 0.35em;\">\n",
       "    china\n",
       "    <span style=\"font-size: 0.8em; font-weight: bold; line-height: 1; border-radius: 0.35em; vertical-align: middle; margin-left: 0.5rem\">GPE</span>\n",
       "</mark>\n",
       " amazing execution \n",
       "<mark class=\"entity\" style=\"background: #bfe1d9; padding: 0.45em 0.6em; margin: 0 0.25em; line-height: 1; border-radius: 0.35em;\">\n",
       "    last year\n",
       "    <span style=\"font-size: 0.8em; font-weight: bold; line-height: 1; border-radius: 0.35em; vertical-align: middle; margin-left: 0.5rem\">DATE</span>\n",
       "</mark>\n",
       " now next even happy \n",
       "<mark class=\"entity\" style=\"background: #bfe1d9; padding: 0.45em 0.6em; margin: 0 0.25em; line-height: 1; border-radius: 0.35em;\">\n",
       "    new year\n",
       "    <span style=\"font-size: 0.8em; font-weight: bold; line-height: 1; border-radius: 0.35em; vertical-align: middle; margin-left: 0.5rem\">DATE</span>\n",
       "</mark>\n",
       " ox underdoge all think would fail himself haha thank indeed tweet definitely represent realworld time allocationthe entertaining outcome likely givedirectly just send somejust agree clubhouse \n",
       "<mark class=\"entity\" style=\"background: #feca74; padding: 0.45em 0.6em; margin: 0 0.25em; line-height: 1; border-radius: 0.35em;\">\n",
       "    tco3rwe9uhstsgeoffkeighley\n",
       "    <span style=\"font-size: 0.8em; font-weight: bold; line-height: 1; border-radius: 0.35em; vertical-align: middle; margin-left: 0.5rem\">GPE</span>\n",
       "</mark>\n",
       " itís getting realbought dogecoin lil x toddler hodler joshmanmode he definitely issue sentencing seem bit high freewalletorg thank fix freewalletorg please unlock account astrojordy this true power any crypto wallet wonít give private key avoid cost freewalletorg your app sucksrt \n",
       "<mark class=\"entity\" style=\"background: #7aecec; padding: 0.45em 0.6em; margin: 0 0.25em; line-height: 1; border-radius: 0.35em;\">\n",
       "    nasa\n",
       "    <span style=\"font-size: 0.8em; font-weight: bold; line-height: 1; border-radius: 0.35em; vertical-align: middle; margin-left: 0.5rem\">ORG</span>\n",
       "</mark>\n",
       " select \n",
       "<mark class=\"entity\" style=\"background: #7aecec; padding: 0.45em 0.6em; margin: 0 0.25em; line-height: 1; border-radius: 0.35em;\">\n",
       "    falcon heavy\n",
       "    <span style=\"font-size: 0.8em; font-weight: bold; line-height: 1; border-radius: 0.35em; vertical-align: middle; margin-left: 0.5rem\">ORG</span>\n",
       "</mark>\n",
       " launch \n",
       "<mark class=\"entity\" style=\"background: #e4e7d2; padding: 0.45em 0.6em; margin: 0 0.25em; line-height: 1; border-radius: 0.35em;\">\n",
       "    first\n",
       "    <span style=\"font-size: 0.8em; font-weight: bold; line-height: 1; border-radius: 0.35em; vertical-align: middle; margin-left: 0.5rem\">ORDINAL</span>\n",
       "</mark>\n",
       " \n",
       "<mark class=\"entity\" style=\"background: #e4e7d2; padding: 0.45em 0.6em; margin: 0 0.25em; line-height: 1; border-radius: 0.35em;\">\n",
       "    two\n",
       "    <span style=\"font-size: 0.8em; font-weight: bold; line-height: 1; border-radius: 0.35em; vertical-align: middle; margin-left: 0.5rem\">CARDINAL</span>\n",
       "</mark>\n",
       " element lunar gateway together \n",
       "<mark class=\"entity\" style=\"background: #e4e7d2; padding: 0.45em 0.6em; margin: 0 0.25em; line-height: 1; border-radius: 0.35em;\">\n",
       "    one\n",
       "    <span style=\"font-size: 0.8em; font-weight: bold; line-height: 1; border-radius: 0.35em; vertical-align: middle; margin-left: 0.5rem\">CARDINAL</span>\n",
       "</mark>\n",
       " mission blkmdl3 once predict cash flow reasonably well starlink ipo rationaletienne starlink staggeringly difficult technical economic endeavor however donö spacex need pass deep chasm negative cash flow \n",
       "<mark class=\"entity\" style=\"background: #bfe1d9; padding: 0.45em 0.6em; margin: 0 0.25em; line-height: 1; border-radius: 0.35em;\">\n",
       "    next year\n",
       "    <span style=\"font-size: 0.8em; font-weight: bold; line-height: 1; border-radius: 0.35em; vertical-align: middle; margin-left: 0.5rem\">DATE</span>\n",
       "</mark>\n",
       " low cost per ton carbon sequester net value product make must scalable gö itís mean price country only difference taxis ship this intend earth may idea apply mars cryptoshrikar xprize team manage \n",
       "<mark class=\"entity\" style=\"background: #e4e7d2; padding: 0.45em 0.6em; margin: 0 0.25em; line-height: 1; border-radius: 0.35em;\">\n",
       "    100\n",
       "    <span style=\"font-size: 0.8em; font-weight: bold; line-height: 1; border-radius: 0.35em; vertical-align: middle; margin-left: 0.5rem\">CARDINAL</span>\n",
       "</mark>\n",
       " m carbon capture prize everyone tesla receive stock my comp stock option take table thatís youíre missingback work go do seem bit high itsallrisky doge appear inflationary meaningfully fix coin per unit time whereasö wow erdayastronaut \n",
       "<mark class=\"entity\" style=\"background: #e4e7d2; padding: 0.45em 0.6em; margin: 0 0.25em; line-height: 1; border-radius: 0.35em;\">\n",
       "    1\n",
       "    <span style=\"font-size: 0.8em; font-weight: bold; line-height: 1; border-radius: 0.35em; vertical-align: middle; margin-left: 0.5rem\">CARDINAL</span>\n",
       "</mark>\n",
       " orbital launch tower stack \n",
       "<mark class=\"entity\" style=\"background: #e4e7d2; padding: 0.45em 0.6em; margin: 0 0.25em; line-height: 1; border-radius: 0.35em;\">\n",
       "    2\n",
       "    <span style=\"font-size: 0.8em; font-weight: bold; line-height: 1; border-radius: 0.35em; vertical-align: middle; margin-left: 0.5rem\">CARDINAL</span>\n",
       "</mark>\n",
       " enough raptor orbit booster \n",
       "<mark class=\"entity\" style=\"background: #e4e7d2; padding: 0.45em 0.6em; margin: 0 0.25em; line-height: 1; border-radius: 0.35em;\">\n",
       "    3\n",
       "    <span style=\"font-size: 0.8em; font-weight: bold; line-height: 1; border-radius: 0.35em; vertical-align: middle; margin-left: 0.5rem\">CARDINAL</span>\n",
       "</mark>\n",
       " improve ship booster mass michaelhodapp back work \n",
       "<mark class=\"entity\" style=\"background: #bfe1d9; padding: 0.45em 0.6em; margin: 0 0.25em; line-height: 1; border-radius: 0.35em;\">\n",
       "    tonight\n",
       "    <span style=\"font-size: 0.8em; font-weight: bold; line-height: 1; border-radius: 0.35em; vertical-align: middle; margin-left: 0.5rem\">TIME</span>\n",
       "</mark>\n",
       " – – ogecoin instructional video people speak so cute \n",
       "<mark class=\"entity\" style=\"background: #7aecec; padding: 0.45em 0.6em; margin: 0 0.25em; line-height: 1; border-radius: 0.35em;\">\n",
       "    u0001f495\n",
       "    <span style=\"font-size: 0.8em; font-weight: bold; line-height: 1; border-radius: 0.35em; vertical-align: middle; margin-left: 0.5rem\">ORG</span>\n",
       "</mark>\n",
       " extremely misleading image doesnít reflect true time cost people rain pain u0001f3b6 who let doge u0001f3b6 hodl rainforest so itís finally come itís fun \n",
       "<mark class=\"entity\" style=\"background: #aa9cfc; padding: 0.45em 0.6em; margin: 0 0.25em; line-height: 1; border-radius: 0.35em;\">\n",
       "    crypto joshroomsburg\n",
       "    <span style=\"font-size: 0.8em; font-weight: bold; line-height: 1; border-radius: 0.35em; vertical-align: middle; margin-left: 0.5rem\">PERSON</span>\n",
       "</mark>\n",
       " its simplicity genius astrogdogg yup jbuttermost true dogecoinrich not easy this \n",
       "<mark class=\"entity\" style=\"background: #bfe1d9; padding: 0.45em 0.6em; margin: 0 0.25em; line-height: 1; border-radius: 0.35em;\">\n",
       "    two decade\n",
       "    <span style=\"font-size: 0.8em; font-weight: bold; line-height: 1; border-radius: 0.35em; vertical-align: middle; margin-left: 0.5rem\">DATE</span>\n",
       "</mark>\n",
       " intense work have look old note email texts yeslesson learnedof earth marstime tell story tesla spacex theonion have read itís great the \n",
       "<mark class=\"entity\" style=\"background: #e4e7d2; padding: 0.45em 0.6em; margin: 0 0.25em; line-height: 1; border-radius: 0.35em;\">\n",
       "    second\n",
       "    <span style=\"font-size: 0.8em; font-weight: bold; line-height: 1; border-radius: 0.35em; vertical-align: middle; margin-left: 0.5rem\">ORDINAL</span>\n",
       "</mark>\n",
       " last \n",
       "<mark class=\"entity\" style=\"background: #feca74; padding: 0.45em 0.6em; margin: 0 0.25em; line-height: 1; border-radius: 0.35em;\">\n",
       "    kingdom\n",
       "    <span style=\"font-size: 0.8em; font-weight: bold; line-height: 1; border-radius: 0.35em; vertical-align: middle; margin-left: 0.5rem\">GPE</span>\n",
       "</mark>\n",
       " havenít hear name \n",
       "<mark class=\"entity\" style=\"background: #bfe1d9; padding: 0.45em 0.6em; margin: 0 0.25em; line-height: 1; border-radius: 0.35em;\">\n",
       "    year\n",
       "    <span style=\"font-size: 0.8em; font-weight: bold; line-height: 1; border-radius: 0.35em; vertical-align: middle; margin-left: 0.5rem\">DATE</span>\n",
       "</mark>\n",
       " dogecakeyolt \n",
       "<mark class=\"entity\" style=\"background: #e4e7d2; padding: 0.45em 0.6em; margin: 0 0.25em; line-height: 1; border-radius: 0.35em;\">\n",
       "    thatís\n",
       "    <span style=\"font-size: 0.8em; font-weight: bold; line-height: 1; border-radius: 0.35em; vertical-align: middle; margin-left: 0.5rem\">CARDINAL</span>\n",
       "</mark>\n",
       " damian kristennetten yeah owenspark surethe great thing restaurant get hang stranger sjmthe future currency earth redlineshifter just scratchmuch wow rationaletienne u0001f5a4 destiny renatakonkoly franz essential \n",
       "<mark class=\"entity\" style=\"background: #aa9cfc; padding: 0.45em 0.6em; margin: 0 0.25em; line-height: 1; border-radius: 0.35em;\">\n",
       "    erdayastronaut\n",
       "    <span style=\"font-size: 0.8em; font-weight: bold; line-height: 1; border-radius: 0.35em; vertical-align: middle; margin-left: 0.5rem\">PERSON</span>\n",
       "</mark>\n",
       " that say ship landing burn clear solution my greateö will still use hot gas maneuvering rcs thruster high isp erdayastronaut intuitively would seem turbopumpfed raptor \n",
       "<mark class=\"entity\" style=\"background: #aa9cfc; padding: 0.45em 0.6em; margin: 0 0.25em; line-height: 1; border-radius: 0.35em;\">\n",
       "    muö yesrt falcon\n",
       "    <span style=\"font-size: 0.8em; font-weight: bold; line-height: 1; border-radius: 0.35em; vertical-align: middle; margin-left: 0.5rem\">PERSON</span>\n",
       "</mark>\n",
       " \n",
       "<mark class=\"entity\" style=\"background: #e4e7d2; padding: 0.45em 0.6em; margin: 0 0.25em; line-height: 1; border-radius: 0.35em;\">\n",
       "    9\n",
       "    <span style=\"font-size: 0.8em; font-weight: bold; line-height: 1; border-radius: 0.35em; vertical-align: middle; margin-left: 0.5rem\">CARDINAL</span>\n",
       "</mark>\n",
       " launch ís spherex mission ñ collect datum \n",
       "<mark class=\"entity\" style=\"background: #e4e7d2; padding: 0.45em 0.6em; margin: 0 0.25em; line-height: 1; border-radius: 0.35em;\">\n",
       "    300 million\n",
       "    <span style=\"font-size: 0.8em; font-weight: bold; line-height: 1; border-radius: 0.35em; vertical-align: middle; margin-left: 0.5rem\">CARDINAL</span>\n",
       "</mark>\n",
       " galaxy explore unört falcon \n",
       "<mark class=\"entity\" style=\"background: #e4e7d2; padding: 0.45em 0.6em; margin: 0 0.25em; line-height: 1; border-radius: 0.35em;\">\n",
       "    9\n",
       "    <span style=\"font-size: 0.8em; font-weight: bold; line-height: 1; border-radius: 0.35em; vertical-align: middle; margin-left: 0.5rem\">CARDINAL</span>\n",
       "</mark>\n",
       " launch \n",
       "<mark class=\"entity\" style=\"background: #e4e7d2; padding: 0.45em 0.6em; margin: 0 0.25em; line-height: 1; border-radius: 0.35em;\">\n",
       "    60\n",
       "    <span style=\"font-size: 0.8em; font-weight: bold; line-height: 1; border-radius: 0.35em; vertical-align: middle; margin-left: 0.5rem\">CARDINAL</span>\n",
       "</mark>\n",
       " starlink satellite orbit ñ mission pad \n",
       "<mark class=\"entity\" style=\"background: #bfe1d9; padding: 0.45em 0.6em; margin: 0 0.25em; line-height: 1; border-radius: 0.35em;\">\n",
       "    39a\n",
       "    <span style=\"font-size: 0.8em; font-weight: bold; line-height: 1; border-radius: 0.35em; vertical-align: middle; margin-left: 0.5rem\">DATE</span>\n",
       "</mark>\n",
       " deck itís true joshbickett yeah by default engine least lever arm would shut \n",
       "<mark class=\"entity\" style=\"background: #e4e7d2; padding: 0.45em 0.6em; margin: 0 0.25em; line-height: 1; border-radius: 0.35em;\">\n",
       "    3\n",
       "    <span style=\"font-size: 0.8em; font-weight: bold; line-height: 1; border-radius: 0.35em; vertical-align: middle; margin-left: 0.5rem\">CARDINAL</span>\n",
       "</mark>\n",
       " good engine min throttle point flameout risk \n",
       "<mark class=\"entity\" style=\"background: #aa9cfc; padding: 0.45em 0.6em; margin: 0 0.25em; line-height: 1; border-radius: 0.35em;\">\n",
       "    laö erdayastronaut\n",
       "    <span style=\"font-size: 0.8em; font-weight: bold; line-height: 1; border-radius: 0.35em; vertical-align: middle; margin-left: 0.5rem\">PERSON</span>\n",
       "</mark>\n",
       " it foolish we start \n",
       "<mark class=\"entity\" style=\"background: #e4e7d2; padding: 0.45em 0.6em; margin: 0 0.25em; line-height: 1; border-radius: 0.35em;\">\n",
       "    3\n",
       "    <span style=\"font-size: 0.8em; font-weight: bold; line-height: 1; border-radius: 0.35em; vertical-align: middle; margin-left: 0.5rem\">CARDINAL</span>\n",
       "</mark>\n",
       " engine immediately shut \n",
       "<mark class=\"entity\" style=\"background: #e4e7d2; padding: 0.45em 0.6em; margin: 0 0.25em; line-height: 1; border-radius: 0.35em;\">\n",
       "    1 2\n",
       "    <span style=\"font-size: 0.8em; font-weight: bold; line-height: 1; border-radius: 0.35em; vertical-align: middle; margin-left: 0.5rem\">CARDINAL</span>\n",
       "</mark>\n",
       " need landi become meme destroyer short commandercruz might actually happensandstorm masterpiece madoverlord we dumbnext time try pull method lokino high low dogeno need gigachad owndogecoin peopleís cryptour welcome the entertaining outcome likelydoge \n",
       "<mark class=\"entity\" style=\"background: #aa9cfc; padding: 0.45em 0.6em; margin: 0 0.25em; line-height: 1; border-radius: 0.35em;\">\n",
       "    tcovviuzwhodterdayastronaut high sea\n",
       "    <span style=\"font-size: 0.8em; font-weight: bold; line-height: 1; border-radius: 0.35em; vertical-align: middle; margin-left: 0.5rem\">PERSON</span>\n",
       "</mark>\n",
       " windthis tough \n",
       "<mark class=\"entity\" style=\"background: #e4e7d2; padding: 0.45em 0.6em; margin: 0 0.25em; line-height: 1; border-radius: 0.35em;\">\n",
       "    one\n",
       "    <span style=\"font-size: 0.8em; font-weight: bold; line-height: 1; border-radius: 0.35em; vertical-align: middle; margin-left: 0.5rem\">CARDINAL</span>\n",
       "</mark>\n",
       " watch \n",
       "<mark class=\"entity\" style=\"background: #7aecec; padding: 0.45em 0.6em; margin: 0 0.25em; line-height: 1; border-radius: 0.35em;\">\n",
       "    falcon\n",
       "    <span style=\"font-size: 0.8em; font-weight: bold; line-height: 1; border-radius: 0.35em; vertical-align: middle; margin-left: 0.5rem\">ORG</span>\n",
       "</mark>\n",
       " \n",
       "<mark class=\"entity\" style=\"background: #e4e7d2; padding: 0.45em 0.6em; margin: 0 0.25em; line-height: 1; border-radius: 0.35em;\">\n",
       "    9\n",
       "    <span style=\"font-size: 0.8em; font-weight: bold; line-height: 1; border-radius: 0.35em; vertical-align: middle; margin-left: 0.5rem\">CARDINAL</span>\n",
       "</mark>\n",
       " launch \n",
       "<mark class=\"entity\" style=\"background: #e4e7d2; padding: 0.45em 0.6em; margin: 0 0.25em; line-height: 1; border-radius: 0.35em;\">\n",
       "    60\n",
       "    <span style=\"font-size: 0.8em; font-weight: bold; line-height: 1; border-radius: 0.35em; vertical-align: middle; margin-left: 0.5rem\">CARDINAL</span>\n",
       "</mark>\n",
       " starlink satellite u2192</div></span>"
      ],
      "text/plain": [
       "<IPython.core.display.HTML object>"
      ]
     },
     "metadata": {},
     "output_type": "display_data"
    }
   ],
   "source": [
    "nlp = spacy.load('en_core_web_sm')\n",
    "\n",
    "one_block = clean_tweets\n",
    "doc_block = nlp(one_block)\n",
    "spacy.displacy.render(doc_block,style = 'ent',jupyter = True)"
   ]
  },
  {
   "cell_type": "code",
   "execution_count": 48,
   "id": "aad73115",
   "metadata": {
    "ExecuteTime": {
     "end_time": "2022-12-12T09:59:19.654567Z",
     "start_time": "2022-12-12T09:59:19.606661Z"
    }
   },
   "outputs": [
    {
     "name": "stdout",
     "output_type": "stream",
     "text": [
      "first ADV\n",
      "two NUM\n",
      "element ADJ\n",
      "lunar ADJ\n",
      "gateway NOUN\n",
      "together ADV\n",
      "one NUM\n",
      "mission NOUN\n",
      "blkmdl3 NOUN\n",
      "once ADV\n",
      "predict VERB\n",
      "cash NOUN\n",
      "flow NOUN\n",
      "reasonably ADV\n",
      "well ADV\n",
      "starlink VERB\n",
      "ipo PROPN\n",
      "rationaletienne PROPN\n",
      "starlink NOUN\n",
      "staggeringly ADV\n",
      "difficult ADJ\n",
      "technical ADJ\n",
      "economic ADJ\n",
      "endeavor NOUN\n",
      "however ADV\n",
      "donö NOUN\n",
      "spacex VERB\n",
      "need AUX\n",
      "pass VERB\n",
      "deep ADJ\n",
      "chasm NOUN\n",
      "negative ADJ\n",
      "cash NOUN\n",
      "flow NOUN\n",
      "next ADJ\n",
      "year NOUN\n",
      "low ADJ\n",
      "cost NOUN\n",
      "per ADP\n",
      "ton NOUN\n",
      "carbon NOUN\n",
      "sequester NOUN\n",
      "net ADJ\n",
      "value NOUN\n",
      "product NOUN\n",
      "make VERB\n",
      "must AUX\n",
      "scalable VERB\n",
      "gö PROPN\n",
      "itís ADJ\n",
      "mean ADJ\n",
      "price NOUN\n",
      "country NOUN\n",
      "only ADV\n",
      "difference NOUN\n",
      "taxis ADJ\n",
      "ship NOUN\n",
      "this PRON\n",
      "intend VERB\n",
      "earth NOUN\n",
      "may AUX\n",
      "idea NOUN\n",
      "apply VERB\n",
      "mars PROPN\n",
      "cryptoshrikar PROPN\n",
      "xprize PROPN\n",
      "team NOUN\n",
      "manage VERB\n",
      "100 NUM\n",
      "m PROPN\n",
      "carbon NOUN\n",
      "capture NOUN\n",
      "prize PROPN\n",
      "everyone PRON\n",
      "tesla NOUN\n",
      "receive VERB\n",
      "stock NOUN\n",
      "my PRON\n",
      "comp NOUN\n",
      "stock NOUN\n",
      "option NOUN\n",
      "take VERB\n",
      "table NOUN\n",
      "thatís PROPN\n",
      "youíre PROPN\n",
      "missingback NOUN\n",
      "work NOUN\n",
      "go VERB\n",
      "do AUX\n",
      "seem VERB\n",
      "bit ADV\n",
      "high ADJ\n",
      "itsallrisky PROPN\n",
      "doge PROPN\n",
      "appear VERB\n",
      "inflationary ADJ\n",
      "meaningfully ADV\n",
      "fix VERB\n",
      "coin NOUN\n",
      "per ADP\n"
     ]
    }
   ],
   "source": [
    "for token in doc_block[100:200]:\n",
    "    print(token,token.pos_) "
   ]
  },
  {
   "cell_type": "markdown",
   "id": "11e70336",
   "metadata": {},
   "source": [
    "### STEP 7 = Filtering Nouns and Verbs :"
   ]
  },
  {
   "cell_type": "code",
   "execution_count": 49,
   "id": "32de9601",
   "metadata": {
    "ExecuteTime": {
     "end_time": "2022-12-12T09:59:19.792706Z",
     "start_time": "2022-12-12T09:59:19.701406Z"
    }
   },
   "outputs": [
    {
     "name": "stdout",
     "output_type": "stream",
     "text": [
      "['launch', 'tower', 'stack', 'raptor', 'orbit', 'booster', 'improve', 'ship', 'booster', 'michaelhodapp', 'work', 'tonight', 'ogecoin', 'video', 'people', 'speak', 'image', 'doesnít', 'reflect', 'time', 'cost', 'people', 'rain', 'pain', 'u0001f3b6', 'let', 'come', 'fun', 'joshroomsburg', 'simplicity', 'genius', 'astrogdogg', 'dogecoinrich', 'decade', 'work', 'look', 'note', 'email', 'texts', 'yeslesson', 'learnedof', 'earth', 'marstime', 'tell', 'story', 'tesla', 'spacex', 'theonion', 'read', 'kingdom', 'havenít', 'hear', 'name', 'year', 'kristennetten', 'surethe', 'thing', 'restaurant', 'get', 'currency', 'earth', 'redlineshifter', 'destiny', 'erdayastronaut', 'say', 'ship', 'landing', 'burn', 'solution', 'greateö', 'use', 'gas', 'maneuvering', 'rcs', 'thruster', 'erdayastronaut', 'seem', 'raptor', 'launch', 'collect', 'galaxy', 'explore', 'unört', 'falcon', 'launch', 'starlink', 'satellite', 'orbit', 'mission', 'pad', '39a', 'deck', 'default', 'engine', 'lever', 'arm', 'shut', 'engine', 'point', 'flameout']\n"
     ]
    }
   ],
   "source": [
    "nouns_verbs = [token.text for token in doc_block if token.pos_ in ('NOUN','VERB')]\n",
    "print(nouns_verbs[100:200])"
   ]
  },
  {
   "cell_type": "markdown",
   "id": "196d12a4",
   "metadata": {},
   "source": [
    "### STEP 8 =  Counting Noun and Verb tokens :"
   ]
  },
  {
   "cell_type": "code",
   "execution_count": 50,
   "id": "26c51720",
   "metadata": {
    "ExecuteTime": {
     "end_time": "2022-12-12T09:59:19.950218Z",
     "start_time": "2022-12-12T09:59:19.845534Z"
    }
   },
   "outputs": [],
   "source": [
    "from sklearn.feature_extraction.text import CountVectorizer"
   ]
  },
  {
   "cell_type": "code",
   "execution_count": 51,
   "id": "adf2d210",
   "metadata": {
    "ExecuteTime": {
     "end_time": "2022-12-12T09:59:20.134921Z",
     "start_time": "2022-12-12T09:59:19.984093Z"
    }
   },
   "outputs": [
    {
     "data": {
      "text/html": [
       "<div>\n",
       "<style scoped>\n",
       "    .dataframe tbody tr th:only-of-type {\n",
       "        vertical-align: middle;\n",
       "    }\n",
       "\n",
       "    .dataframe tbody tr th {\n",
       "        vertical-align: top;\n",
       "    }\n",
       "\n",
       "    .dataframe thead th {\n",
       "        text-align: right;\n",
       "    }\n",
       "</style>\n",
       "<table border=\"1\" class=\"dataframe\">\n",
       "  <thead>\n",
       "    <tr style=\"text-align: right;\">\n",
       "      <th></th>\n",
       "      <th>Word</th>\n",
       "      <th>Count</th>\n",
       "    </tr>\n",
       "  </thead>\n",
       "  <tbody>\n",
       "    <tr>\n",
       "      <th>0</th>\n",
       "      <td>launch</td>\n",
       "      <td>5</td>\n",
       "    </tr>\n",
       "    <tr>\n",
       "      <th>1</th>\n",
       "      <td>year</td>\n",
       "      <td>4</td>\n",
       "    </tr>\n",
       "    <tr>\n",
       "      <th>2</th>\n",
       "      <td>time</td>\n",
       "      <td>4</td>\n",
       "    </tr>\n",
       "    <tr>\n",
       "      <th>3</th>\n",
       "      <td>starlink</td>\n",
       "      <td>4</td>\n",
       "    </tr>\n",
       "    <tr>\n",
       "      <th>4</th>\n",
       "      <td>seem</td>\n",
       "      <td>3</td>\n",
       "    </tr>\n",
       "    <tr>\n",
       "      <th>5</th>\n",
       "      <td>freewalletorg</td>\n",
       "      <td>3</td>\n",
       "    </tr>\n",
       "    <tr>\n",
       "      <th>6</th>\n",
       "      <td>cost</td>\n",
       "      <td>3</td>\n",
       "    </tr>\n",
       "    <tr>\n",
       "      <th>7</th>\n",
       "      <td>falcon</td>\n",
       "      <td>3</td>\n",
       "    </tr>\n",
       "    <tr>\n",
       "      <th>8</th>\n",
       "      <td>ship</td>\n",
       "      <td>3</td>\n",
       "    </tr>\n",
       "    <tr>\n",
       "      <th>9</th>\n",
       "      <td>earth</td>\n",
       "      <td>3</td>\n",
       "    </tr>\n",
       "  </tbody>\n",
       "</table>\n",
       "</div>"
      ],
      "text/plain": [
       "            Word  Count\n",
       "0         launch      5\n",
       "1           year      4\n",
       "2           time      4\n",
       "3       starlink      4\n",
       "4           seem      3\n",
       "5  freewalletorg      3\n",
       "6           cost      3\n",
       "7         falcon      3\n",
       "8           ship      3\n",
       "9          earth      3"
      ]
     },
     "execution_count": 51,
     "metadata": {},
     "output_type": "execute_result"
    }
   ],
   "source": [
    "cv = CountVectorizer()\n",
    "\n",
    "X = cv.fit_transform(nouns_verbs)\n",
    "sum_words = X.sum(axis = 0)\n",
    "\n",
    "words_freq = [(word,sum_words[0,idx]) for word,idx in cv.vocabulary_.items()]\n",
    "words_freq = sorted(words_freq, key = lambda x: x[1], reverse = True)\n",
    "\n",
    "wd_df = pd.DataFrame(words_freq)\n",
    "wd_df.columns = ['Word','Count']\n",
    "wd_df[0:10]   # viewing top ten results"
   ]
  },
  {
   "cell_type": "markdown",
   "id": "cbe67fe8",
   "metadata": {},
   "source": [
    "### STEP 9 = Visualizing results (Barchart for top 10 nouns + verbs) :"
   ]
  },
  {
   "cell_type": "code",
   "execution_count": 52,
   "id": "c1bf19ca",
   "metadata": {
    "ExecuteTime": {
     "end_time": "2022-12-12T09:59:21.779742Z",
     "start_time": "2022-12-12T09:59:20.186747Z"
    }
   },
   "outputs": [
    {
     "data": {
      "image/png": "[encoded data removed]",
      "text/plain": [
       "<Figure size 720x432 with 1 Axes>"
      ]
     },
     "metadata": {
      "needs_background": "light"
     },
     "output_type": "display_data"
    }
   ],
   "source": [
    "wd_df[0:10].plot.bar(x = 'Word',figsize = (10,6),title = 'Top 10 Nouns and Verbs');"
   ]
  },
  {
   "cell_type": "markdown",
   "id": "22494ffd",
   "metadata": {},
   "source": [
    "##### "
   ]
  },
  {
   "cell_type": "markdown",
   "id": "e700c349",
   "metadata": {},
   "source": [
    "# 5. Emotion Mining - Sentiment Analysis"
   ]
  },
  {
   "cell_type": "code",
   "execution_count": 53,
   "id": "e5f7ffb7",
   "metadata": {
    "ExecuteTime": {
     "end_time": "2022-12-12T09:59:21.843599Z",
     "start_time": "2022-12-12T09:59:21.830607Z"
    }
   },
   "outputs": [],
   "source": [
    "from nltk import tokenize"
   ]
  },
  {
   "cell_type": "code",
   "execution_count": 54,
   "id": "b0285fb6",
   "metadata": {
    "ExecuteTime": {
     "end_time": "2022-12-12T09:59:22.346288Z",
     "start_time": "2022-12-12T09:59:21.894545Z"
    }
   },
   "outputs": [
    {
     "data": {
      "text/plain": [
       "['@kunalb11 Iím an alien @ID_AA_Carmack Ray tracing on Cyberpunk with HDR is next-level.',\n",
       " 'Have you tried it?',\n",
       " '@joerogan @Spotify Great interview!',\n",
       " '@gtera27 Doge is underestimated @teslacn Congratulations Tesla China for amazing execution last year.',\n",
       " 'Now on to the next for even more!!',\n",
       " 'Happy New Year of the Ox!',\n",
       " 'https://t.co/9WFKMYu2oj Frodo was the underdoge,\\nAll thought he would fail,\\nHimself most of all.',\n",
       " 'https://t.co/zGxJFDzzrM @OwenSparks_ @flcnhvy @anonyx10 Haha thanks :) @flcnhvy @anonyx10 Indeed!',\n",
       " 'Tweets definitely do not represent real-world time allocation.',\n",
       " 'The most entertaining outcome is the most likely @GiveDirectly Just sent some Just agree to do Clubhouse with @kanyewest https://t.co/3rWE9uHSTS @geoffkeighley @UnrealEngine Itís getting real Bought some Dogecoin for lil X, so he can be a toddler hodler @JoshManMode He definitely has issues, but the sentencing seems a bit high @freewalletorg Thanks for fixing @freewalletorg Please unlock my account @AstroJordy <U+0001F923><U+0001F923> This is true power haha https://t.co/Fc9uhQSd7O @freewalletorg Any crypto wallet that wonít give you your private keys should be avoided at all costs @freewalletorg Your app sucks RT @SpaceX: NASA has selected Falcon Heavy to launch the first two elements of the lunar Gateway together on one mission!',\n",
       " 'https://t.co/3pWtÖ @ajtourville Yes @BLKMDL3 @RationalEtienne @Adamklotz_ Once we can predict cash flow reasonably well, Starlink will IPO @RationalEtienne @Adamklotz_ Starlink is a staggeringly difficult technical &amp; economic endeavor.',\n",
       " 'However, if we donÖ https://t.co/9Z8Ac6skqx @RationalEtienne @Adamklotz_ SpaceX needs to pass through a deep chasm of negative cash flow over the next year orÖ https://t.co/7J1c92hdjl @ID_AA_Carmack Lowest cost per ton of carbon sequestered, net of value of any product made.',\n",
       " 'Must be scalable to gÖ https://t.co/XMyI7qWSgw @Adamklotz_ Itís meant to be the same price in all countries.',\n",
       " 'Only difference should be taxes &amp; shipping.',\n",
       " '@tobyliiiiiiiiii This is intended for Earth, but there may be some ideas that apply to Mars too @CryptoShrikar @CoinDesk @Tesla @Dan_Z_Palmer <U+0001F923><U+0001F923> XPrize team will manage the $100M carbon capture prize https://t.co/fSw5IanL0r @SRuhle Everyone at Tesla receives stock.',\n",
       " 'My comp is all stock/options, which I do not take off the table.',\n",
       " 'Thatís what youíre missing.',\n",
       " 'Back to work I go Ö @CapybaraSurfer @MattWallace888 Does seem a bit high @itsALLrisky Doge appears to be inflationary, but is not meaningfully so (fixed # of coins per unit time), whereasÖ https://t.co/4UH4rARC6T @MichaelGalanin @kevinmgill Wow @Erdayastronaut @michaelhodapp_ 1.',\n",
       " 'Orbital launch tower that can stack\\n2.',\n",
       " 'Enough Raptors for orbit booster\\n3.',\n",
       " 'Improve ship &amp; booster mass @michaelhodapp_ Back to work tonight!',\n",
       " '– is for –ogecoin!',\n",
       " 'Instructional video.',\n",
       " 'https://t.co/UEEocOfcTb The people have spoken Ö https://t.co/x41oVMzTGo @Nivetha_7_42 @lexfridman So cute <U+0001F495> @UniverCurious Extremely misleading image, as doesnít reflect true time cost to people or rain &amp; pain <U+0001F3B6> Who let the Doge out <U+0001F3B6> Hodl the rainforests!!',\n",
       " 'So Ö itís finally come to this Ö https://t.co/Gf0Rg2QOaF @itsALLrisky Itís the most fun crypto!',\n",
       " '@JoshRoomsburg @SnoopDogg @genesimmons Its simplicity is its genius @astro_g_dogg @SpaceX Yup @Jbuttermost @Dogecoinrich <U+0001F923><U+0001F923> @wapodavenport True @Dogecoinrich <U+0001F923><U+0001F923> @flcnhvy @AstroJordy Not that easy.',\n",
       " 'This is two decades of intense work.',\n",
       " 'Have to look at old notes, emails, texts.',\n",
       " '@AstroJordy Yes Lessons learned Of Earth and Mars Time to tell the story of Tesla &amp; SpaceX @TheOnion Have you read @TheBabylonBee?',\n",
       " 'Itís great!!',\n",
       " 'The Second Last Kingdom https://t.co/Je4EI88HmV @DumDin7 @Grimezsz Havenít heard that name in years Ö @Grimezsz Dogecake YOLT\\n\\nhttps://t.co/cnOf9yjpF1 @Kristennetten Thatís Damian @Kristennetten Yeah @OwenSparks_ Sure The great thing about restaurants is that you get to hang out with strangers!',\n",
       " '- SJM The future currency of Earth @redlineshifter Just a scratch Much wow!',\n",
       " '@RationalEtienne <U+0001F5A4> @wonderofscience Destiny @RenataKonkoly @Teslarati @woodhaus2 Franz was essential @Erdayastronaut @josh_bickett @ajtourville @SpaceX That said, the ship landing burn has a clear solution.',\n",
       " 'My greateÖ https://t.co/e5Wikiugkz @Adamklotz_ @Erdayastronaut @josh_bickett @ajtourville @SpaceX Will still use hot gas maneuvering (RCS) thrusters,Ö https://t.co/vsO9h4Ioed @Erdayastronaut @josh_bickett @ajtourville @SpaceX Higher Isp too @Erdayastronaut @josh_bickett @ajtourville @SpaceX Intuitively, it would seem so, but turbopump-fed Raptors have muÖ https://t.co/lBTG1sIBuC @brendan2908 @NASASpaceflight Yes RT @SpaceX: Falcon 9 will launch @NASAís SPHEREx mission ñ which will collect data on more than 300 million galaxies and explore how the unÖ RT @SpaceX: Falcon 9 launches 60 Starlink satellites to orbit ñ mission from pad 39A on deck https://t.co/71cuCBgPNX @mikko @Darudevil Itís true!',\n",
       " '@josh_bickett @ajtourville @Erdayastronaut @SpaceX Yeah.',\n",
       " 'By default, engine with least lever arm would shut down if all 3 are good.',\n",
       " '@ajtourville @Erdayastronaut @SpaceX Yes, but engines have a min throttle point where there is flameout risk, so laÖ https://t.co/ThniYsSnWn @Adamklotz_ @Erdayastronaut @SpaceX Yes @Erdayastronaut @SpaceX It was foolish of us not to start 3 engines &amp; immediately shut down 1, as 2 are needed to land I am become meme,\\nDestroyer of shorts @commander_cruz Might actually happen Sandstorm is a masterpiece @MadOverlord We were too dumb Next time, we try pull *up* method https://t.co/J1M7WHLRDR Low-key Loki No highs, no lows, only Doge No need to be a gigachad to own Dogecoin is the peopleís crypto ur welcome https://t.co/e2KF57KLxb @HuobiGlobal The most entertaining outcome is the most likely Doge https://t.co/vviUzWhodT @Erdayastronaut High seas &amp; wind This was a tough one https://t.co/beY7peFpCj RT @SpaceX: Watch Falcon 9 launch 60 Starlink satellites <U+2192> https://t.co/bJFjLCzWdK  https://t.co/Ln95rEesbW']"
      ]
     },
     "execution_count": 54,
     "metadata": {},
     "output_type": "execute_result"
    }
   ],
   "source": [
    "sentence = tokenize.sent_tokenize(' '.join(top_tweets))\n",
    "sentence"
   ]
  },
  {
   "cell_type": "code",
   "execution_count": 55,
   "id": "ac986d3a",
   "metadata": {
    "ExecuteTime": {
     "end_time": "2022-12-12T09:59:22.439184Z",
     "start_time": "2022-12-12T09:59:22.410778Z"
    }
   },
   "outputs": [
    {
     "data": {
      "text/html": [
       "<div>\n",
       "<style scoped>\n",
       "    .dataframe tbody tr th:only-of-type {\n",
       "        vertical-align: middle;\n",
       "    }\n",
       "\n",
       "    .dataframe tbody tr th {\n",
       "        vertical-align: top;\n",
       "    }\n",
       "\n",
       "    .dataframe thead th {\n",
       "        text-align: right;\n",
       "    }\n",
       "</style>\n",
       "<table border=\"1\" class=\"dataframe\">\n",
       "  <thead>\n",
       "    <tr style=\"text-align: right;\">\n",
       "      <th></th>\n",
       "      <th>sentence</th>\n",
       "    </tr>\n",
       "  </thead>\n",
       "  <tbody>\n",
       "    <tr>\n",
       "      <th>0</th>\n",
       "      <td>@kunalb11 Iím an alien @ID_AA_Carmack Ray trac...</td>\n",
       "    </tr>\n",
       "    <tr>\n",
       "      <th>1</th>\n",
       "      <td>Have you tried it?</td>\n",
       "    </tr>\n",
       "    <tr>\n",
       "      <th>2</th>\n",
       "      <td>@joerogan @Spotify Great interview!</td>\n",
       "    </tr>\n",
       "    <tr>\n",
       "      <th>3</th>\n",
       "      <td>@gtera27 Doge is underestimated @teslacn Congr...</td>\n",
       "    </tr>\n",
       "    <tr>\n",
       "      <th>4</th>\n",
       "      <td>Now on to the next for even more!!</td>\n",
       "    </tr>\n",
       "    <tr>\n",
       "      <th>5</th>\n",
       "      <td>Happy New Year of the Ox!</td>\n",
       "    </tr>\n",
       "    <tr>\n",
       "      <th>6</th>\n",
       "      <td>https://t.co/9WFKMYu2oj Frodo was the underdog...</td>\n",
       "    </tr>\n",
       "    <tr>\n",
       "      <th>7</th>\n",
       "      <td>https://t.co/zGxJFDzzrM @OwenSparks_ @flcnhvy ...</td>\n",
       "    </tr>\n",
       "    <tr>\n",
       "      <th>8</th>\n",
       "      <td>Tweets definitely do not represent real-world ...</td>\n",
       "    </tr>\n",
       "    <tr>\n",
       "      <th>9</th>\n",
       "      <td>The most entertaining outcome is the most like...</td>\n",
       "    </tr>\n",
       "    <tr>\n",
       "      <th>10</th>\n",
       "      <td>https://t.co/3pWtÖ @ajtourville Yes @BLKMDL3 @...</td>\n",
       "    </tr>\n",
       "    <tr>\n",
       "      <th>11</th>\n",
       "      <td>However, if we donÖ https://t.co/9Z8Ac6skqx @R...</td>\n",
       "    </tr>\n",
       "    <tr>\n",
       "      <th>12</th>\n",
       "      <td>Must be scalable to gÖ https://t.co/XMyI7qWSgw...</td>\n",
       "    </tr>\n",
       "    <tr>\n",
       "      <th>13</th>\n",
       "      <td>Only difference should be taxes &amp;amp; shipping.</td>\n",
       "    </tr>\n",
       "    <tr>\n",
       "      <th>14</th>\n",
       "      <td>@tobyliiiiiiiiii This is intended for Earth, b...</td>\n",
       "    </tr>\n",
       "    <tr>\n",
       "      <th>15</th>\n",
       "      <td>My comp is all stock/options, which I do not t...</td>\n",
       "    </tr>\n",
       "    <tr>\n",
       "      <th>16</th>\n",
       "      <td>Thatís what youíre missing.</td>\n",
       "    </tr>\n",
       "    <tr>\n",
       "      <th>17</th>\n",
       "      <td>Back to work I go Ö @CapybaraSurfer @MattWalla...</td>\n",
       "    </tr>\n",
       "    <tr>\n",
       "      <th>18</th>\n",
       "      <td>Orbital launch tower that can stack\\n2.</td>\n",
       "    </tr>\n",
       "    <tr>\n",
       "      <th>19</th>\n",
       "      <td>Enough Raptors for orbit booster\\n3.</td>\n",
       "    </tr>\n",
       "    <tr>\n",
       "      <th>20</th>\n",
       "      <td>Improve ship &amp;amp; booster mass @michaelhodapp...</td>\n",
       "    </tr>\n",
       "    <tr>\n",
       "      <th>21</th>\n",
       "      <td>– is for –ogecoin!</td>\n",
       "    </tr>\n",
       "    <tr>\n",
       "      <th>22</th>\n",
       "      <td>Instructional video.</td>\n",
       "    </tr>\n",
       "    <tr>\n",
       "      <th>23</th>\n",
       "      <td>https://t.co/UEEocOfcTb The people have spoken...</td>\n",
       "    </tr>\n",
       "    <tr>\n",
       "      <th>24</th>\n",
       "      <td>So Ö itís finally come to this Ö https://t.co/...</td>\n",
       "    </tr>\n",
       "    <tr>\n",
       "      <th>25</th>\n",
       "      <td>@JoshRoomsburg @SnoopDogg @genesimmons Its sim...</td>\n",
       "    </tr>\n",
       "    <tr>\n",
       "      <th>26</th>\n",
       "      <td>This is two decades of intense work.</td>\n",
       "    </tr>\n",
       "    <tr>\n",
       "      <th>27</th>\n",
       "      <td>Have to look at old notes, emails, texts.</td>\n",
       "    </tr>\n",
       "    <tr>\n",
       "      <th>28</th>\n",
       "      <td>@AstroJordy Yes Lessons learned Of Earth and M...</td>\n",
       "    </tr>\n",
       "    <tr>\n",
       "      <th>29</th>\n",
       "      <td>Itís great!!</td>\n",
       "    </tr>\n",
       "    <tr>\n",
       "      <th>30</th>\n",
       "      <td>The Second Last Kingdom https://t.co/Je4EI88Hm...</td>\n",
       "    </tr>\n",
       "    <tr>\n",
       "      <th>31</th>\n",
       "      <td>- SJM The future currency of Earth @redlineshi...</td>\n",
       "    </tr>\n",
       "    <tr>\n",
       "      <th>32</th>\n",
       "      <td>@RationalEtienne &lt;U+0001F5A4&gt; @wonderofscience...</td>\n",
       "    </tr>\n",
       "    <tr>\n",
       "      <th>33</th>\n",
       "      <td>My greateÖ https://t.co/e5Wikiugkz @Adamklotz_...</td>\n",
       "    </tr>\n",
       "    <tr>\n",
       "      <th>34</th>\n",
       "      <td>@josh_bickett @ajtourville @Erdayastronaut @Sp...</td>\n",
       "    </tr>\n",
       "    <tr>\n",
       "      <th>35</th>\n",
       "      <td>By default, engine with least lever arm would ...</td>\n",
       "    </tr>\n",
       "    <tr>\n",
       "      <th>36</th>\n",
       "      <td>@ajtourville @Erdayastronaut @SpaceX Yes, but ...</td>\n",
       "    </tr>\n",
       "  </tbody>\n",
       "</table>\n",
       "</div>"
      ],
      "text/plain": [
       "                                             sentence\n",
       "0   @kunalb11 Iím an alien @ID_AA_Carmack Ray trac...\n",
       "1                                  Have you tried it?\n",
       "2                 @joerogan @Spotify Great interview!\n",
       "3   @gtera27 Doge is underestimated @teslacn Congr...\n",
       "4                  Now on to the next for even more!!\n",
       "5                           Happy New Year of the Ox!\n",
       "6   https://t.co/9WFKMYu2oj Frodo was the underdog...\n",
       "7   https://t.co/zGxJFDzzrM @OwenSparks_ @flcnhvy ...\n",
       "8   Tweets definitely do not represent real-world ...\n",
       "9   The most entertaining outcome is the most like...\n",
       "10  https://t.co/3pWtÖ @ajtourville Yes @BLKMDL3 @...\n",
       "11  However, if we donÖ https://t.co/9Z8Ac6skqx @R...\n",
       "12  Must be scalable to gÖ https://t.co/XMyI7qWSgw...\n",
       "13    Only difference should be taxes &amp; shipping.\n",
       "14  @tobyliiiiiiiiii This is intended for Earth, b...\n",
       "15  My comp is all stock/options, which I do not t...\n",
       "16                        Thatís what youíre missing.\n",
       "17  Back to work I go Ö @CapybaraSurfer @MattWalla...\n",
       "18            Orbital launch tower that can stack\\n2.\n",
       "19               Enough Raptors for orbit booster\\n3.\n",
       "20  Improve ship &amp; booster mass @michaelhodapp...\n",
       "21                                 – is for –ogecoin!\n",
       "22                               Instructional video.\n",
       "23  https://t.co/UEEocOfcTb The people have spoken...\n",
       "24  So Ö itís finally come to this Ö https://t.co/...\n",
       "25  @JoshRoomsburg @SnoopDogg @genesimmons Its sim...\n",
       "26               This is two decades of intense work.\n",
       "27          Have to look at old notes, emails, texts.\n",
       "28  @AstroJordy Yes Lessons learned Of Earth and M...\n",
       "29                                       Itís great!!\n",
       "30  The Second Last Kingdom https://t.co/Je4EI88Hm...\n",
       "31  - SJM The future currency of Earth @redlineshi...\n",
       "32  @RationalEtienne <U+0001F5A4> @wonderofscience...\n",
       "33  My greateÖ https://t.co/e5Wikiugkz @Adamklotz_...\n",
       "34  @josh_bickett @ajtourville @Erdayastronaut @Sp...\n",
       "35  By default, engine with least lever arm would ...\n",
       "36  @ajtourville @Erdayastronaut @SpaceX Yes, but ..."
      ]
     },
     "execution_count": 55,
     "metadata": {},
     "output_type": "execute_result"
    }
   ],
   "source": [
    "sent_df = pd.DataFrame(sentence,columns = ['sentence'])\n",
    "sent_df"
   ]
  },
  {
   "cell_type": "markdown",
   "id": "275efec6",
   "metadata": {},
   "source": [
    "### STEP 1 = Emotion Lexicon - Affin :"
   ]
  },
  {
   "cell_type": "code",
   "execution_count": 57,
   "id": "0559afb7",
   "metadata": {
    "ExecuteTime": {
     "end_time": "2022-12-12T10:05:27.501826Z",
     "start_time": "2022-12-12T10:05:27.466954Z"
    }
   },
   "outputs": [
    {
     "data": {
      "text/html": [
       "<div>\n",
       "<style scoped>\n",
       "    .dataframe tbody tr th:only-of-type {\n",
       "        vertical-align: middle;\n",
       "    }\n",
       "\n",
       "    .dataframe tbody tr th {\n",
       "        vertical-align: top;\n",
       "    }\n",
       "\n",
       "    .dataframe thead th {\n",
       "        text-align: right;\n",
       "    }\n",
       "</style>\n",
       "<table border=\"1\" class=\"dataframe\">\n",
       "  <thead>\n",
       "    <tr style=\"text-align: right;\">\n",
       "      <th></th>\n",
       "      <th>word</th>\n",
       "      <th>value</th>\n",
       "    </tr>\n",
       "  </thead>\n",
       "  <tbody>\n",
       "    <tr>\n",
       "      <th>0</th>\n",
       "      <td>abandon</td>\n",
       "      <td>-2</td>\n",
       "    </tr>\n",
       "    <tr>\n",
       "      <th>1</th>\n",
       "      <td>abandoned</td>\n",
       "      <td>-2</td>\n",
       "    </tr>\n",
       "    <tr>\n",
       "      <th>2</th>\n",
       "      <td>abandons</td>\n",
       "      <td>-2</td>\n",
       "    </tr>\n",
       "    <tr>\n",
       "      <th>3</th>\n",
       "      <td>abducted</td>\n",
       "      <td>-2</td>\n",
       "    </tr>\n",
       "    <tr>\n",
       "      <th>4</th>\n",
       "      <td>abduction</td>\n",
       "      <td>-2</td>\n",
       "    </tr>\n",
       "    <tr>\n",
       "      <th>...</th>\n",
       "      <td>...</td>\n",
       "      <td>...</td>\n",
       "    </tr>\n",
       "    <tr>\n",
       "      <th>2472</th>\n",
       "      <td>yucky</td>\n",
       "      <td>-2</td>\n",
       "    </tr>\n",
       "    <tr>\n",
       "      <th>2473</th>\n",
       "      <td>yummy</td>\n",
       "      <td>3</td>\n",
       "    </tr>\n",
       "    <tr>\n",
       "      <th>2474</th>\n",
       "      <td>zealot</td>\n",
       "      <td>-2</td>\n",
       "    </tr>\n",
       "    <tr>\n",
       "      <th>2475</th>\n",
       "      <td>zealots</td>\n",
       "      <td>-2</td>\n",
       "    </tr>\n",
       "    <tr>\n",
       "      <th>2476</th>\n",
       "      <td>zealous</td>\n",
       "      <td>2</td>\n",
       "    </tr>\n",
       "  </tbody>\n",
       "</table>\n",
       "<p>2477 rows × 2 columns</p>\n",
       "</div>"
      ],
      "text/plain": [
       "           word  value\n",
       "0       abandon     -2\n",
       "1     abandoned     -2\n",
       "2      abandons     -2\n",
       "3      abducted     -2\n",
       "4     abduction     -2\n",
       "...         ...    ...\n",
       "2472      yucky     -2\n",
       "2473      yummy      3\n",
       "2474     zealot     -2\n",
       "2475    zealots     -2\n",
       "2476    zealous      2\n",
       "\n",
       "[2477 rows x 2 columns]"
      ]
     },
     "execution_count": 57,
     "metadata": {},
     "output_type": "execute_result"
    }
   ],
   "source": [
    "affin = pd.read_csv(\"Afinn (1).csv\",sep = \",\",encoding = \"Latin-1\")\n",
    "affin"
   ]
  },
  {
   "cell_type": "code",
   "execution_count": 58,
   "id": "aeb2884c",
   "metadata": {
    "ExecuteTime": {
     "end_time": "2022-12-12T10:05:29.398088Z",
     "start_time": "2022-12-12T10:05:29.317334Z"
    },
    "scrolled": false
   },
   "outputs": [
    {
     "data": {
      "text/plain": [
       "{'abandon': -2,\n",
       " 'abandoned': -2,\n",
       " 'abandons': -2,\n",
       " 'abducted': -2,\n",
       " 'abduction': -2,\n",
       " 'abductions': -2,\n",
       " 'abhor': -3,\n",
       " 'abhorred': -3,\n",
       " 'abhorrent': -3,\n",
       " 'abhors': -3,\n",
       " 'abilities': 2,\n",
       " 'ability': 2,\n",
       " 'aboard': 1,\n",
       " 'absentee': -1,\n",
       " 'absentees': -1,\n",
       " 'absolve': 2,\n",
       " 'absolved': 2,\n",
       " 'absolves': 2,\n",
       " 'absolving': 2,\n",
       " 'absorbed': 1,\n",
       " 'abuse': -3,\n",
       " 'abused': -3,\n",
       " 'abuses': -3,\n",
       " 'abusive': -3,\n",
       " 'accept': 1,\n",
       " 'accepted': 1,\n",
       " 'accepting': 1,\n",
       " 'accepts': 1,\n",
       " 'accident': -2,\n",
       " 'accidental': -2,\n",
       " 'accidentally': -2,\n",
       " 'accidents': -2,\n",
       " 'accomplish': 2,\n",
       " 'accomplished': 2,\n",
       " 'accomplishes': 2,\n",
       " 'accusation': -2,\n",
       " 'accusations': -2,\n",
       " 'accuse': -2,\n",
       " 'accused': -2,\n",
       " 'accuses': -2,\n",
       " 'accusing': -2,\n",
       " 'ache': -2,\n",
       " 'achievable': 1,\n",
       " 'aching': -2,\n",
       " 'acquit': 2,\n",
       " 'acquits': 2,\n",
       " 'acquitted': 2,\n",
       " 'acquitting': 2,\n",
       " 'acrimonious': -3,\n",
       " 'active': 1,\n",
       " 'adequate': 1,\n",
       " 'admire': 3,\n",
       " 'admired': 3,\n",
       " 'admires': 3,\n",
       " 'admiring': 3,\n",
       " 'admit': -1,\n",
       " 'admits': -1,\n",
       " 'admitted': -1,\n",
       " 'admonish': -2,\n",
       " 'admonished': -2,\n",
       " 'adopt': 1,\n",
       " 'adopts': 1,\n",
       " 'adorable': 3,\n",
       " 'adore': 3,\n",
       " 'adored': 3,\n",
       " 'adores': 3,\n",
       " 'advanced': 1,\n",
       " 'advantage': 2,\n",
       " 'advantages': 2,\n",
       " 'adventure': 2,\n",
       " 'adventures': 2,\n",
       " 'adventurous': 2,\n",
       " 'affected': -1,\n",
       " 'affection': 3,\n",
       " 'affectionate': 3,\n",
       " 'afflicted': -1,\n",
       " 'affronted': -1,\n",
       " 'afraid': -2,\n",
       " 'aggravate': -2,\n",
       " 'aggravated': -2,\n",
       " 'aggravates': -2,\n",
       " 'aggravating': -2,\n",
       " 'aggression': -2,\n",
       " 'aggressions': -2,\n",
       " 'aggressive': -2,\n",
       " 'aghast': -2,\n",
       " 'agog': 2,\n",
       " 'agonise': -3,\n",
       " 'agonised': -3,\n",
       " 'agonises': -3,\n",
       " 'agonising': -3,\n",
       " 'agonize': -3,\n",
       " 'agonized': -3,\n",
       " 'agonizes': -3,\n",
       " 'agonizing': -3,\n",
       " 'agree': 1,\n",
       " 'agreeable': 2,\n",
       " 'agreed': 1,\n",
       " 'agreement': 1,\n",
       " 'agrees': 1,\n",
       " 'alarm': -2,\n",
       " 'alarmed': -2,\n",
       " 'alarmist': -2,\n",
       " 'alarmists': -2,\n",
       " 'alas': -1,\n",
       " 'alert': -1,\n",
       " 'alienation': -2,\n",
       " 'alive': 1,\n",
       " 'allergic': -2,\n",
       " 'allow': 1,\n",
       " 'alone': -2,\n",
       " 'amaze': 2,\n",
       " 'amazed': 2,\n",
       " 'amazes': 2,\n",
       " 'amazing': 4,\n",
       " 'ambitious': 2,\n",
       " 'ambivalent': -1,\n",
       " 'amuse': 3,\n",
       " 'amused': 3,\n",
       " 'amusement': 3,\n",
       " 'amusements': 3,\n",
       " 'anger': -3,\n",
       " 'angers': -3,\n",
       " 'angry': -3,\n",
       " 'anguish': -3,\n",
       " 'anguished': -3,\n",
       " 'animosity': -2,\n",
       " 'annoy': -2,\n",
       " 'annoyance': -2,\n",
       " 'annoyed': -2,\n",
       " 'annoying': -2,\n",
       " 'annoys': -2,\n",
       " 'antagonistic': -2,\n",
       " 'anti': -1,\n",
       " 'anticipation': 1,\n",
       " 'anxiety': -2,\n",
       " 'anxious': -2,\n",
       " 'apathetic': -3,\n",
       " 'apathy': -3,\n",
       " 'apeshit': -3,\n",
       " 'apocalyptic': -2,\n",
       " 'apologise': -1,\n",
       " 'apologised': -1,\n",
       " 'apologises': -1,\n",
       " 'apologising': -1,\n",
       " 'apologize': -1,\n",
       " 'apologized': -1,\n",
       " 'apologizes': -1,\n",
       " 'apologizing': -1,\n",
       " 'apology': -1,\n",
       " 'appalled': -2,\n",
       " 'appalling': -2,\n",
       " 'appease': 2,\n",
       " 'appeased': 2,\n",
       " 'appeases': 2,\n",
       " 'appeasing': 2,\n",
       " 'applaud': 2,\n",
       " 'applauded': 2,\n",
       " 'applauding': 2,\n",
       " 'applauds': 2,\n",
       " 'applause': 2,\n",
       " 'appreciate': 2,\n",
       " 'appreciated': 2,\n",
       " 'appreciates': 2,\n",
       " 'appreciating': 2,\n",
       " 'appreciation': 2,\n",
       " 'apprehensive': -2,\n",
       " 'approval': 2,\n",
       " 'approved': 2,\n",
       " 'approves': 2,\n",
       " 'ardent': 1,\n",
       " 'arrest': -2,\n",
       " 'arrested': -3,\n",
       " 'arrests': -2,\n",
       " 'arrogant': -2,\n",
       " 'ashame': -2,\n",
       " 'ashamed': -2,\n",
       " 'ass': -4,\n",
       " 'assassination': -3,\n",
       " 'assassinations': -3,\n",
       " 'asset': 2,\n",
       " 'assets': 2,\n",
       " 'assfucking': -4,\n",
       " 'asshole': -4,\n",
       " 'astonished': 2,\n",
       " 'astound': 3,\n",
       " 'astounded': 3,\n",
       " 'astounding': 3,\n",
       " 'astoundingly': 3,\n",
       " 'astounds': 3,\n",
       " 'attack': -1,\n",
       " 'attacked': -1,\n",
       " 'attacking': -1,\n",
       " 'attacks': -1,\n",
       " 'attract': 1,\n",
       " 'attracted': 1,\n",
       " 'attracting': 2,\n",
       " 'attraction': 2,\n",
       " 'attractions': 2,\n",
       " 'attracts': 1,\n",
       " 'audacious': 3,\n",
       " 'authority': 1,\n",
       " 'avert': -1,\n",
       " 'averted': -1,\n",
       " 'averts': -1,\n",
       " 'avid': 2,\n",
       " 'avoid': -1,\n",
       " 'avoided': -1,\n",
       " 'avoids': -1,\n",
       " 'await': -1,\n",
       " 'awaited': -1,\n",
       " 'awaits': -1,\n",
       " 'award': 3,\n",
       " 'awarded': 3,\n",
       " 'awards': 3,\n",
       " 'awesome': 4,\n",
       " 'awful': -3,\n",
       " 'awkward': -2,\n",
       " 'axe': -1,\n",
       " 'axed': -1,\n",
       " 'backed': 1,\n",
       " 'backing': 2,\n",
       " 'backs': 1,\n",
       " 'bad': -3,\n",
       " 'badass': -3,\n",
       " 'badly': -3,\n",
       " 'bailout': -2,\n",
       " 'bamboozle': -2,\n",
       " 'bamboozled': -2,\n",
       " 'bamboozles': -2,\n",
       " 'ban': -2,\n",
       " 'banish': -1,\n",
       " 'bankrupt': -3,\n",
       " 'bankster': -3,\n",
       " 'banned': -2,\n",
       " 'bargain': 2,\n",
       " 'barrier': -2,\n",
       " 'bastard': -5,\n",
       " 'bastards': -5,\n",
       " 'battle': -1,\n",
       " 'battles': -1,\n",
       " 'beaten': -2,\n",
       " 'beatific': 3,\n",
       " 'beating': -1,\n",
       " 'beauties': 3,\n",
       " 'beautiful': 3,\n",
       " 'beautifully': 3,\n",
       " 'beautify': 3,\n",
       " 'belittle': -2,\n",
       " 'belittled': -2,\n",
       " 'beloved': 3,\n",
       " 'benefit': 2,\n",
       " 'benefits': 2,\n",
       " 'benefitted': 2,\n",
       " 'benefitting': 2,\n",
       " 'bereave': -2,\n",
       " 'bereaved': -2,\n",
       " 'bereaves': -2,\n",
       " 'bereaving': -2,\n",
       " 'best': 3,\n",
       " 'betray': -3,\n",
       " 'betrayal': -3,\n",
       " 'betrayed': -3,\n",
       " 'betraying': -3,\n",
       " 'betrays': -3,\n",
       " 'better': 2,\n",
       " 'bias': -1,\n",
       " 'biased': -2,\n",
       " 'big': 1,\n",
       " 'bitch': -5,\n",
       " 'bitches': -5,\n",
       " 'bitter': -2,\n",
       " 'bitterly': -2,\n",
       " 'bizarre': -2,\n",
       " 'blah': -2,\n",
       " 'blame': -2,\n",
       " 'blamed': -2,\n",
       " 'blames': -2,\n",
       " 'blaming': -2,\n",
       " 'bless': 2,\n",
       " 'blesses': 2,\n",
       " 'blessing': 3,\n",
       " 'blind': -1,\n",
       " 'bliss': 3,\n",
       " 'blissful': 3,\n",
       " 'blithe': 2,\n",
       " 'block': -1,\n",
       " 'blockbuster': 3,\n",
       " 'blocked': -1,\n",
       " 'blocking': -1,\n",
       " 'blocks': -1,\n",
       " 'bloody': -3,\n",
       " 'blurry': -2,\n",
       " 'boastful': -2,\n",
       " 'bold': 2,\n",
       " 'boldly': 2,\n",
       " 'bomb': -1,\n",
       " 'boost': 1,\n",
       " 'boosted': 1,\n",
       " 'boosting': 1,\n",
       " 'boosts': 1,\n",
       " 'bore': -2,\n",
       " 'bored': -2,\n",
       " 'boring': -3,\n",
       " 'bother': -2,\n",
       " 'bothered': -2,\n",
       " 'bothers': -2,\n",
       " 'bothersome': -2,\n",
       " 'boycott': -2,\n",
       " 'boycotted': -2,\n",
       " 'boycotting': -2,\n",
       " 'boycotts': -2,\n",
       " 'brainwashing': -3,\n",
       " 'brave': 2,\n",
       " 'breakthrough': 3,\n",
       " 'breathtaking': 5,\n",
       " 'bribe': -3,\n",
       " 'bright': 1,\n",
       " 'brightest': 2,\n",
       " 'brightness': 1,\n",
       " 'brilliant': 4,\n",
       " 'brisk': 2,\n",
       " 'broke': -1,\n",
       " 'broken': -1,\n",
       " 'brooding': -2,\n",
       " 'bullied': -2,\n",
       " 'bullshit': -4,\n",
       " 'bully': -2,\n",
       " 'bullying': -2,\n",
       " 'bummer': -2,\n",
       " 'buoyant': 2,\n",
       " 'burden': -2,\n",
       " 'burdened': -2,\n",
       " 'burdening': -2,\n",
       " 'burdens': -2,\n",
       " 'calm': 2,\n",
       " 'calmed': 2,\n",
       " 'calming': 2,\n",
       " 'calms': 2,\n",
       " \"can't stand\": -3,\n",
       " 'cancel': -1,\n",
       " 'cancelled': -1,\n",
       " 'cancelling': -1,\n",
       " 'cancels': -1,\n",
       " 'cancer': -1,\n",
       " 'capable': 1,\n",
       " 'captivated': 3,\n",
       " 'care': 2,\n",
       " 'carefree': 1,\n",
       " 'careful': 2,\n",
       " 'carefully': 2,\n",
       " 'careless': -2,\n",
       " 'cares': 2,\n",
       " 'cashing in': -2,\n",
       " 'casualty': -2,\n",
       " 'catastrophe': -3,\n",
       " 'catastrophic': -4,\n",
       " 'cautious': -1,\n",
       " 'celebrate': 3,\n",
       " 'celebrated': 3,\n",
       " 'celebrates': 3,\n",
       " 'celebrating': 3,\n",
       " 'censor': -2,\n",
       " 'censored': -2,\n",
       " 'censors': -2,\n",
       " 'certain': 1,\n",
       " 'chagrin': -2,\n",
       " 'chagrined': -2,\n",
       " 'challenge': -1,\n",
       " 'chance': 2,\n",
       " 'chances': 2,\n",
       " 'chaos': -2,\n",
       " 'chaotic': -2,\n",
       " 'charged': -3,\n",
       " 'charges': -2,\n",
       " 'charm': 3,\n",
       " 'charming': 3,\n",
       " 'charmless': -3,\n",
       " 'chastise': -3,\n",
       " 'chastised': -3,\n",
       " 'chastises': -3,\n",
       " 'chastising': -3,\n",
       " 'cheat': -3,\n",
       " 'cheated': -3,\n",
       " 'cheater': -3,\n",
       " 'cheaters': -3,\n",
       " 'cheats': -3,\n",
       " 'cheer': 2,\n",
       " 'cheered': 2,\n",
       " 'cheerful': 2,\n",
       " 'cheering': 2,\n",
       " 'cheerless': -2,\n",
       " 'cheers': 2,\n",
       " 'cheery': 3,\n",
       " 'cherish': 2,\n",
       " 'cherished': 2,\n",
       " 'cherishes': 2,\n",
       " 'cherishing': 2,\n",
       " 'chic': 2,\n",
       " 'childish': -2,\n",
       " 'chilling': -1,\n",
       " 'choke': -2,\n",
       " 'choked': -2,\n",
       " 'chokes': -2,\n",
       " 'choking': -2,\n",
       " 'clarifies': 2,\n",
       " 'clarity': 2,\n",
       " 'clash': -2,\n",
       " 'classy': 3,\n",
       " 'clean': 2,\n",
       " 'cleaner': 2,\n",
       " 'clear': 1,\n",
       " 'cleared': 1,\n",
       " 'clearly': 1,\n",
       " 'clears': 1,\n",
       " 'clever': 2,\n",
       " 'clouded': -1,\n",
       " 'clueless': -2,\n",
       " 'cock': -5,\n",
       " 'cocksucker': -5,\n",
       " 'cocksuckers': -5,\n",
       " 'cocky': -2,\n",
       " 'coerced': -2,\n",
       " 'collapse': -2,\n",
       " 'collapsed': -2,\n",
       " 'collapses': -2,\n",
       " 'collapsing': -2,\n",
       " 'collide': -1,\n",
       " 'collides': -1,\n",
       " 'colliding': -1,\n",
       " 'collision': -2,\n",
       " 'collisions': -2,\n",
       " 'colluding': -3,\n",
       " 'combat': -1,\n",
       " 'combats': -1,\n",
       " 'comedy': 1,\n",
       " 'comfort': 2,\n",
       " 'comfortable': 2,\n",
       " 'comforting': 2,\n",
       " 'comforts': 2,\n",
       " 'commend': 2,\n",
       " 'commended': 2,\n",
       " 'commit': 1,\n",
       " 'commitment': 2,\n",
       " 'commits': 1,\n",
       " 'committed': 1,\n",
       " 'committing': 1,\n",
       " 'compassionate': 2,\n",
       " 'compelled': 1,\n",
       " 'competent': 2,\n",
       " 'competitive': 2,\n",
       " 'complacent': -2,\n",
       " 'complain': -2,\n",
       " 'complained': -2,\n",
       " 'complains': -2,\n",
       " 'comprehensive': 2,\n",
       " 'conciliate': 2,\n",
       " 'conciliated': 2,\n",
       " 'conciliates': 2,\n",
       " 'conciliating': 2,\n",
       " 'condemn': -2,\n",
       " 'condemnation': -2,\n",
       " 'condemned': -2,\n",
       " 'condemns': -2,\n",
       " 'confidence': 2,\n",
       " 'confident': 2,\n",
       " 'conflict': -2,\n",
       " 'conflicting': -2,\n",
       " 'conflictive': -2,\n",
       " 'conflicts': -2,\n",
       " 'confuse': -2,\n",
       " 'confused': -2,\n",
       " 'confusing': -2,\n",
       " 'congrats': 2,\n",
       " 'congratulate': 2,\n",
       " 'congratulation': 2,\n",
       " 'congratulations': 2,\n",
       " 'consent': 2,\n",
       " 'consents': 2,\n",
       " 'consolable': 2,\n",
       " 'conspiracy': -3,\n",
       " 'constrained': -2,\n",
       " 'contagion': -2,\n",
       " 'contagions': -2,\n",
       " 'contagious': -1,\n",
       " 'contempt': -2,\n",
       " 'contemptuous': -2,\n",
       " 'contemptuously': -2,\n",
       " 'contend': -1,\n",
       " 'contender': -1,\n",
       " 'contending': -1,\n",
       " 'contentious': -2,\n",
       " 'contestable': -2,\n",
       " 'controversial': -2,\n",
       " 'controversially': -2,\n",
       " 'convince': 1,\n",
       " 'convinced': 1,\n",
       " 'convinces': 1,\n",
       " 'convivial': 2,\n",
       " 'cool': 1,\n",
       " 'cool stuff': 3,\n",
       " 'cornered': -2,\n",
       " 'corpse': -1,\n",
       " 'costly': -2,\n",
       " 'courage': 2,\n",
       " 'courageous': 2,\n",
       " 'courteous': 2,\n",
       " 'courtesy': 2,\n",
       " 'cover-up': -3,\n",
       " 'coward': -2,\n",
       " 'cowardly': -2,\n",
       " 'coziness': 2,\n",
       " 'cramp': -1,\n",
       " 'crap': -3,\n",
       " 'crash': -2,\n",
       " 'crazier': -2,\n",
       " 'craziest': -2,\n",
       " 'crazy': -2,\n",
       " 'creative': 2,\n",
       " 'crestfallen': -2,\n",
       " 'cried': -2,\n",
       " 'cries': -2,\n",
       " 'crime': -3,\n",
       " 'criminal': -3,\n",
       " 'criminals': -3,\n",
       " 'crisis': -3,\n",
       " 'critic': -2,\n",
       " 'criticism': -2,\n",
       " 'criticize': -2,\n",
       " 'criticized': -2,\n",
       " 'criticizes': -2,\n",
       " 'criticizing': -2,\n",
       " 'critics': -2,\n",
       " 'cruel': -3,\n",
       " 'cruelty': -3,\n",
       " 'crush': -1,\n",
       " 'crushed': -2,\n",
       " 'crushes': -1,\n",
       " 'crushing': -1,\n",
       " 'cry': -1,\n",
       " 'crying': -2,\n",
       " 'cunt': -5,\n",
       " 'curious': 1,\n",
       " 'curse': -1,\n",
       " 'cut': -1,\n",
       " 'cute': 2,\n",
       " 'cuts': -1,\n",
       " 'cutting': -1,\n",
       " 'cynic': -2,\n",
       " 'cynical': -2,\n",
       " 'cynicism': -2,\n",
       " 'damage': -3,\n",
       " 'damages': -3,\n",
       " 'damn': -4,\n",
       " 'damned': -4,\n",
       " 'damnit': -4,\n",
       " 'danger': -2,\n",
       " 'daredevil': 2,\n",
       " 'daring': 2,\n",
       " 'darkest': -2,\n",
       " 'darkness': -1,\n",
       " 'dauntless': 2,\n",
       " 'dead': -3,\n",
       " 'deadlock': -2,\n",
       " 'deafening': -1,\n",
       " 'dear': 2,\n",
       " 'dearly': 3,\n",
       " 'death': -2,\n",
       " 'debonair': 2,\n",
       " 'debt': -2,\n",
       " 'deceit': -3,\n",
       " 'deceitful': -3,\n",
       " 'deceive': -3,\n",
       " 'deceived': -3,\n",
       " 'deceives': -3,\n",
       " 'deceiving': -3,\n",
       " 'deception': -3,\n",
       " 'decisive': 1,\n",
       " 'dedicated': 2,\n",
       " 'defeated': -2,\n",
       " 'defect': -3,\n",
       " 'defects': -3,\n",
       " 'defender': 2,\n",
       " 'defenders': 2,\n",
       " 'defenseless': -2,\n",
       " 'defer': -1,\n",
       " 'deferring': -1,\n",
       " 'defiant': -1,\n",
       " 'deficit': -2,\n",
       " 'degrade': -2,\n",
       " 'degraded': -2,\n",
       " 'degrades': -2,\n",
       " 'dehumanize': -2,\n",
       " 'dehumanized': -2,\n",
       " 'dehumanizes': -2,\n",
       " 'dehumanizing': -2,\n",
       " 'deject': -2,\n",
       " 'dejected': -2,\n",
       " 'dejecting': -2,\n",
       " 'dejects': -2,\n",
       " 'delay': -1,\n",
       " 'delayed': -1,\n",
       " 'delight': 3,\n",
       " 'delighted': 3,\n",
       " 'delighting': 3,\n",
       " 'delights': 3,\n",
       " 'demand': -1,\n",
       " 'demanded': -1,\n",
       " 'demanding': -1,\n",
       " 'demands': -1,\n",
       " 'demonstration': -1,\n",
       " 'demoralized': -2,\n",
       " 'denied': -2,\n",
       " 'denier': -2,\n",
       " 'deniers': -2,\n",
       " 'denies': -2,\n",
       " 'denounce': -2,\n",
       " 'denounces': -2,\n",
       " 'deny': -2,\n",
       " 'denying': -2,\n",
       " 'depressed': -2,\n",
       " 'depressing': -2,\n",
       " 'derail': -2,\n",
       " 'derailed': -2,\n",
       " 'derails': -2,\n",
       " 'deride': -2,\n",
       " 'derided': -2,\n",
       " 'derides': -2,\n",
       " 'deriding': -2,\n",
       " 'derision': -2,\n",
       " 'desirable': 2,\n",
       " 'desire': 1,\n",
       " 'desired': 2,\n",
       " 'desirous': 2,\n",
       " 'despair': -3,\n",
       " 'despairing': -3,\n",
       " 'despairs': -3,\n",
       " 'desperate': -3,\n",
       " 'desperately': -3,\n",
       " 'despondent': -3,\n",
       " 'destroy': -3,\n",
       " 'destroyed': -3,\n",
       " 'destroying': -3,\n",
       " 'destroys': -3,\n",
       " 'destruction': -3,\n",
       " 'destructive': -3,\n",
       " 'detached': -1,\n",
       " 'detain': -2,\n",
       " 'detained': -2,\n",
       " 'detention': -2,\n",
       " 'determined': 2,\n",
       " 'devastate': -2,\n",
       " 'devastated': -2,\n",
       " 'devastating': -2,\n",
       " 'devoted': 3,\n",
       " 'diamond': 1,\n",
       " 'dick': -4,\n",
       " 'dickhead': -4,\n",
       " 'die': -3,\n",
       " 'died': -3,\n",
       " 'difficult': -1,\n",
       " 'diffident': -2,\n",
       " 'dilemma': -1,\n",
       " 'dipshit': -3,\n",
       " 'dire': -3,\n",
       " 'direful': -3,\n",
       " 'dirt': -2,\n",
       " 'dirtier': -2,\n",
       " 'dirtiest': -2,\n",
       " 'dirty': -2,\n",
       " 'disabling': -1,\n",
       " 'disadvantage': -2,\n",
       " 'disadvantaged': -2,\n",
       " 'disappear': -1,\n",
       " 'disappeared': -1,\n",
       " 'disappears': -1,\n",
       " 'disappoint': -2,\n",
       " 'disappointed': -2,\n",
       " 'disappointing': -2,\n",
       " 'disappointment': -2,\n",
       " 'disappointments': -2,\n",
       " 'disappoints': -2,\n",
       " 'disaster': -2,\n",
       " 'disasters': -2,\n",
       " 'disastrous': -3,\n",
       " 'disbelieve': -2,\n",
       " 'discard': -1,\n",
       " 'discarded': -1,\n",
       " 'discarding': -1,\n",
       " 'discards': -1,\n",
       " 'disconsolate': -2,\n",
       " 'disconsolation': -2,\n",
       " 'discontented': -2,\n",
       " 'discord': -2,\n",
       " 'discounted': -1,\n",
       " 'discouraged': -2,\n",
       " 'discredited': -2,\n",
       " 'disdain': -2,\n",
       " 'disgrace': -2,\n",
       " 'disgraced': -2,\n",
       " 'disguise': -1,\n",
       " 'disguised': -1,\n",
       " 'disguises': -1,\n",
       " 'disguising': -1,\n",
       " 'disgust': -3,\n",
       " 'disgusted': -3,\n",
       " 'disgusting': -3,\n",
       " 'disheartened': -2,\n",
       " 'dishonest': -2,\n",
       " 'disillusioned': -2,\n",
       " 'disinclined': -2,\n",
       " 'disjointed': -2,\n",
       " 'dislike': -2,\n",
       " 'dismal': -2,\n",
       " 'dismayed': -2,\n",
       " 'disorder': -2,\n",
       " 'disorganized': -2,\n",
       " 'disoriented': -2,\n",
       " 'disparage': -2,\n",
       " 'disparaged': -2,\n",
       " 'disparages': -2,\n",
       " 'disparaging': -2,\n",
       " 'displeased': -2,\n",
       " 'dispute': -2,\n",
       " 'disputed': -2,\n",
       " 'disputes': -2,\n",
       " 'disputing': -2,\n",
       " 'disqualified': -2,\n",
       " 'disquiet': -2,\n",
       " 'disregard': -2,\n",
       " 'disregarded': -2,\n",
       " 'disregarding': -2,\n",
       " 'disregards': -2,\n",
       " 'disrespect': -2,\n",
       " 'disrespected': -2,\n",
       " 'disruption': -2,\n",
       " 'disruptions': -2,\n",
       " 'disruptive': -2,\n",
       " 'dissatisfied': -2,\n",
       " 'distort': -2,\n",
       " 'distorted': -2,\n",
       " 'distorting': -2,\n",
       " 'distorts': -2,\n",
       " 'distract': -2,\n",
       " 'distracted': -2,\n",
       " 'distraction': -2,\n",
       " 'distracts': -2,\n",
       " 'distress': -2,\n",
       " 'distressed': -2,\n",
       " 'distresses': -2,\n",
       " 'distressing': -2,\n",
       " 'distrust': -3,\n",
       " 'distrustful': -3,\n",
       " 'disturb': -2,\n",
       " 'disturbed': -2,\n",
       " 'disturbing': -2,\n",
       " 'disturbs': -2,\n",
       " 'dithering': -2,\n",
       " 'dizzy': -1,\n",
       " 'dodging': -2,\n",
       " 'dodgy': -2,\n",
       " 'does not work': -3,\n",
       " 'dolorous': -2,\n",
       " 'dont like': -2,\n",
       " 'doom': -2,\n",
       " 'doomed': -2,\n",
       " 'doubt': -1,\n",
       " 'doubted': -1,\n",
       " 'doubtful': -1,\n",
       " 'doubting': -1,\n",
       " 'doubts': -1,\n",
       " 'douche': -3,\n",
       " 'douchebag': -3,\n",
       " 'downcast': -2,\n",
       " 'downhearted': -2,\n",
       " 'downside': -2,\n",
       " 'drag': -1,\n",
       " 'dragged': -1,\n",
       " 'drags': -1,\n",
       " 'drained': -2,\n",
       " 'dread': -2,\n",
       " 'dreaded': -2,\n",
       " 'dreadful': -3,\n",
       " 'dreading': -2,\n",
       " 'dream': 1,\n",
       " 'dreams': 1,\n",
       " 'dreary': -2,\n",
       " 'droopy': -2,\n",
       " 'drop': -1,\n",
       " 'drown': -2,\n",
       " 'drowned': -2,\n",
       " 'drowns': -2,\n",
       " 'drunk': -2,\n",
       " 'dubious': -2,\n",
       " 'dud': -2,\n",
       " 'dull': -2,\n",
       " 'dumb': -3,\n",
       " 'dumbass': -3,\n",
       " 'dump': -1,\n",
       " 'dumped': -2,\n",
       " 'dumps': -1,\n",
       " 'dupe': -2,\n",
       " 'duped': -2,\n",
       " 'dysfunction': -2,\n",
       " 'eager': 2,\n",
       " 'earnest': 2,\n",
       " 'ease': 2,\n",
       " 'easy': 1,\n",
       " 'ecstatic': 4,\n",
       " 'eerie': -2,\n",
       " 'eery': -2,\n",
       " 'effective': 2,\n",
       " 'effectively': 2,\n",
       " 'elated': 3,\n",
       " 'elation': 3,\n",
       " 'elegant': 2,\n",
       " 'elegantly': 2,\n",
       " 'embarrass': -2,\n",
       " 'embarrassed': -2,\n",
       " 'embarrasses': -2,\n",
       " 'embarrassing': -2,\n",
       " 'embarrassment': -2,\n",
       " 'embittered': -2,\n",
       " 'embrace': 1,\n",
       " 'emergency': -2,\n",
       " 'empathetic': 2,\n",
       " 'emptiness': -1,\n",
       " 'empty': -1,\n",
       " 'enchanted': 2,\n",
       " 'encourage': 2,\n",
       " 'encouraged': 2,\n",
       " 'encouragement': 2,\n",
       " 'encourages': 2,\n",
       " 'endorse': 2,\n",
       " 'endorsed': 2,\n",
       " 'endorsement': 2,\n",
       " 'endorses': 2,\n",
       " 'enemies': -2,\n",
       " 'enemy': -2,\n",
       " 'energetic': 2,\n",
       " 'engage': 1,\n",
       " 'engages': 1,\n",
       " 'engrossed': 1,\n",
       " 'enjoy': 2,\n",
       " 'enjoying': 2,\n",
       " 'enjoys': 2,\n",
       " 'enlighten': 2,\n",
       " 'enlightened': 2,\n",
       " 'enlightening': 2,\n",
       " 'enlightens': 2,\n",
       " 'ennui': -2,\n",
       " 'enrage': -2,\n",
       " 'enraged': -2,\n",
       " 'enrages': -2,\n",
       " 'enraging': -2,\n",
       " 'enrapture': 3,\n",
       " 'enslave': -2,\n",
       " 'enslaved': -2,\n",
       " 'enslaves': -2,\n",
       " 'ensure': 1,\n",
       " 'ensuring': 1,\n",
       " 'enterprising': 1,\n",
       " 'entertaining': 2,\n",
       " 'enthral': 3,\n",
       " 'enthusiastic': 3,\n",
       " 'entitled': 1,\n",
       " 'entrusted': 2,\n",
       " 'envies': -1,\n",
       " 'envious': -2,\n",
       " 'envy': -1,\n",
       " 'envying': -1,\n",
       " 'erroneous': -2,\n",
       " 'error': -2,\n",
       " 'errors': -2,\n",
       " 'escape': -1,\n",
       " 'escapes': -1,\n",
       " 'escaping': -1,\n",
       " 'esteemed': 2,\n",
       " 'ethical': 2,\n",
       " 'euphoria': 3,\n",
       " 'euphoric': 4,\n",
       " 'eviction': -1,\n",
       " 'evil': -3,\n",
       " 'exaggerate': -2,\n",
       " 'exaggerated': -2,\n",
       " 'exaggerates': -2,\n",
       " 'exaggerating': -2,\n",
       " 'exasperated': 2,\n",
       " 'excellence': 3,\n",
       " 'excellent': 3,\n",
       " 'excite': 3,\n",
       " 'excited': 3,\n",
       " 'excitement': 3,\n",
       " 'exciting': 3,\n",
       " 'exclude': -1,\n",
       " 'excluded': -2,\n",
       " 'exclusion': -1,\n",
       " 'exclusive': 2,\n",
       " 'excuse': -1,\n",
       " 'exempt': -1,\n",
       " 'exhausted': -2,\n",
       " 'exhilarated': 3,\n",
       " 'exhilarates': 3,\n",
       " 'exhilarating': 3,\n",
       " 'exonerate': 2,\n",
       " 'exonerated': 2,\n",
       " 'exonerates': 2,\n",
       " 'exonerating': 2,\n",
       " 'expand': 1,\n",
       " 'expands': 1,\n",
       " 'expel': -2,\n",
       " 'expelled': -2,\n",
       " 'expelling': -2,\n",
       " 'expels': -2,\n",
       " 'exploit': -2,\n",
       " 'exploited': -2,\n",
       " 'exploiting': -2,\n",
       " 'exploits': -2,\n",
       " 'exploration': 1,\n",
       " 'explorations': 1,\n",
       " 'expose': -1,\n",
       " 'exposed': -1,\n",
       " 'exposes': -1,\n",
       " 'exposing': -1,\n",
       " 'extend': 1,\n",
       " 'extends': 1,\n",
       " 'exuberant': 4,\n",
       " 'exultant': 3,\n",
       " 'exultantly': 3,\n",
       " 'fabulous': 4,\n",
       " 'fad': -2,\n",
       " 'fag': -3,\n",
       " 'faggot': -3,\n",
       " 'faggots': -3,\n",
       " 'fail': -2,\n",
       " 'failed': -2,\n",
       " 'failing': -2,\n",
       " 'fails': -2,\n",
       " 'failure': -2,\n",
       " 'failures': -2,\n",
       " 'fainthearted': -2,\n",
       " 'fair': 2,\n",
       " 'faith': 1,\n",
       " 'faithful': 3,\n",
       " 'fake': -3,\n",
       " 'fakes': -3,\n",
       " 'faking': -3,\n",
       " 'fallen': -2,\n",
       " 'falling': -1,\n",
       " 'falsified': -3,\n",
       " 'falsify': -3,\n",
       " 'fame': 1,\n",
       " 'fan': 3,\n",
       " 'fantastic': 4,\n",
       " 'farce': -1,\n",
       " 'fascinate': 3,\n",
       " 'fascinated': 3,\n",
       " 'fascinates': 3,\n",
       " 'fascinating': 3,\n",
       " 'fascist': -2,\n",
       " 'fascists': -2,\n",
       " 'fatalities': -3,\n",
       " 'fatality': -3,\n",
       " 'fatigue': -2,\n",
       " 'fatigued': -2,\n",
       " 'fatigues': -2,\n",
       " 'fatiguing': -2,\n",
       " 'favor': 2,\n",
       " 'favored': 2,\n",
       " 'favorite': 2,\n",
       " 'favorited': 2,\n",
       " 'favorites': 2,\n",
       " 'favors': 2,\n",
       " 'fear': -2,\n",
       " 'fearful': -2,\n",
       " 'fearing': -2,\n",
       " 'fearless': 2,\n",
       " 'fearsome': -2,\n",
       " 'fed up': -3,\n",
       " 'feeble': -2,\n",
       " 'feeling': 1,\n",
       " 'felonies': -3,\n",
       " 'felony': -3,\n",
       " 'fervent': 2,\n",
       " 'fervid': 2,\n",
       " 'festive': 2,\n",
       " 'fiasco': -3,\n",
       " 'fidgety': -2,\n",
       " 'fight': -1,\n",
       " 'fine': 2,\n",
       " 'fire': -2,\n",
       " 'fired': -2,\n",
       " 'firing': -2,\n",
       " 'fit': 1,\n",
       " 'fitness': 1,\n",
       " 'flagship': 2,\n",
       " 'flees': -1,\n",
       " 'flop': -2,\n",
       " 'flops': -2,\n",
       " 'flu': -2,\n",
       " ...}"
      ]
     },
     "execution_count": 58,
     "metadata": {},
     "output_type": "execute_result"
    }
   ],
   "source": [
    "affin_scores = affin.set_index('word')['value'].to_dict()\n",
    "affin_scores"
   ]
  },
  {
   "cell_type": "markdown",
   "id": "058705a9",
   "metadata": {},
   "source": [
    "### STEP 2 = Calculate the score for the whole original sentence :"
   ]
  },
  {
   "cell_type": "code",
   "execution_count": 59,
   "id": "10fbc4e5",
   "metadata": {
    "ExecuteTime": {
     "end_time": "2022-12-12T10:05:48.038711Z",
     "start_time": "2022-12-12T10:05:46.337092Z"
    }
   },
   "outputs": [],
   "source": [
    "nlp = spacy.load('en_core_web_sm')\n",
    "sentiment_lexicon = affin_scores\n",
    "\n",
    "def calculate_sentiment(text:str = None):\n",
    "    sent_score = 0\n",
    "    if text:\n",
    "        sentence = nlp(text)\n",
    "        for word in sentence:\n",
    "            sent_score+=sentiment_lexicon.get(word.lemma_,0)\n",
    "    return sent_score"
   ]
  },
  {
   "cell_type": "code",
   "execution_count": 60,
   "id": "445b427c",
   "metadata": {
    "ExecuteTime": {
     "end_time": "2022-12-12T10:05:48.148442Z",
     "start_time": "2022-12-12T10:05:48.108515Z"
    }
   },
   "outputs": [
    {
     "data": {
      "text/plain": [
       "3"
      ]
     },
     "execution_count": 60,
     "metadata": {},
     "output_type": "execute_result"
    }
   ],
   "source": [
    "# manual testing\n",
    "calculate_sentiment(text = 'great')"
   ]
  },
  {
   "cell_type": "markdown",
   "id": "f231f12e",
   "metadata": {},
   "source": [
    "### STEP 3 = Calculating sentiment value for each sentence :"
   ]
  },
  {
   "cell_type": "code",
   "execution_count": 61,
   "id": "b0071b0b",
   "metadata": {
    "ExecuteTime": {
     "end_time": "2022-12-12T10:05:52.275268Z",
     "start_time": "2022-12-12T10:05:51.529389Z"
    }
   },
   "outputs": [
    {
     "data": {
      "text/plain": [
       "0     0\n",
       "1     0\n",
       "2     3\n",
       "3     3\n",
       "4     0\n",
       "5     0\n",
       "6    -2\n",
       "7     2\n",
       "8     0\n",
       "9     3\n",
       "10    0\n",
       "11   -2\n",
       "12    0\n",
       "13    0\n",
       "14    0\n",
       "15    0\n",
       "16   -2\n",
       "17    4\n",
       "18    0\n",
       "19    0\n",
       "20    2\n",
       "21    0\n",
       "22    0\n",
       "23   -3\n",
       "24    4\n",
       "25    1\n",
       "26    1\n",
       "27    0\n",
       "28    1\n",
       "29    3\n",
       "30    3\n",
       "31    4\n",
       "32    2\n",
       "33    1\n",
       "34    0\n",
       "35    3\n",
       "36    0\n",
       "Name: sentiment_value, dtype: int64"
      ]
     },
     "execution_count": 61,
     "metadata": {},
     "output_type": "execute_result"
    }
   ],
   "source": [
    "sent_df['sentiment_value'] = sent_df['sentence'].apply(calculate_sentiment)\n",
    "sent_df['sentiment_value']"
   ]
  },
  {
   "cell_type": "markdown",
   "id": "8b975ef3",
   "metadata": {},
   "source": [
    "### STEP 4 = Number of words in a sentence :"
   ]
  },
  {
   "cell_type": "code",
   "execution_count": 62,
   "id": "7858ed08",
   "metadata": {
    "ExecuteTime": {
     "end_time": "2022-12-12T10:05:52.818963Z",
     "start_time": "2022-12-12T10:05:52.791999Z"
    }
   },
   "outputs": [
    {
     "data": {
      "text/plain": [
       "0      13\n",
       "1       4\n",
       "2       4\n",
       "3      13\n",
       "4       8\n",
       "5       6\n",
       "6      14\n",
       "7      10\n",
       "8       8\n",
       "9     109\n",
       "10     28\n",
       "11     40\n",
       "12     17\n",
       "13      7\n",
       "14     38\n",
       "15     13\n",
       "16      4\n",
       "17     39\n",
       "18      7\n",
       "19      6\n",
       "20     10\n",
       "21      4\n",
       "22      2\n",
       "23     38\n",
       "24     15\n",
       "25     23\n",
       "26      7\n",
       "27      8\n",
       "28     22\n",
       "29      2\n",
       "30     39\n",
       "31     13\n",
       "32     24\n",
       "33     89\n",
       "34      5\n",
       "35     15\n",
       "36    132\n",
       "Name: word_count, dtype: int64"
      ]
     },
     "execution_count": 62,
     "metadata": {},
     "output_type": "execute_result"
    }
   ],
   "source": [
    "sent_df['word_count'] = sent_df['sentence'].str.split().apply(len)\n",
    "sent_df['word_count']"
   ]
  },
  {
   "cell_type": "code",
   "execution_count": 63,
   "id": "b1d80587",
   "metadata": {
    "ExecuteTime": {
     "end_time": "2022-12-12T10:05:53.532752Z",
     "start_time": "2022-12-12T10:05:53.493856Z"
    }
   },
   "outputs": [
    {
     "data": {
      "text/html": [
       "<div>\n",
       "<style scoped>\n",
       "    .dataframe tbody tr th:only-of-type {\n",
       "        vertical-align: middle;\n",
       "    }\n",
       "\n",
       "    .dataframe tbody tr th {\n",
       "        vertical-align: top;\n",
       "    }\n",
       "\n",
       "    .dataframe thead th {\n",
       "        text-align: right;\n",
       "    }\n",
       "</style>\n",
       "<table border=\"1\" class=\"dataframe\">\n",
       "  <thead>\n",
       "    <tr style=\"text-align: right;\">\n",
       "      <th></th>\n",
       "      <th>sentence</th>\n",
       "      <th>sentiment_value</th>\n",
       "      <th>word_count</th>\n",
       "    </tr>\n",
       "  </thead>\n",
       "  <tbody>\n",
       "    <tr>\n",
       "      <th>23</th>\n",
       "      <td>https://t.co/UEEocOfcTb The people have spoken...</td>\n",
       "      <td>-3</td>\n",
       "      <td>38</td>\n",
       "    </tr>\n",
       "    <tr>\n",
       "      <th>6</th>\n",
       "      <td>https://t.co/9WFKMYu2oj Frodo was the underdog...</td>\n",
       "      <td>-2</td>\n",
       "      <td>14</td>\n",
       "    </tr>\n",
       "    <tr>\n",
       "      <th>16</th>\n",
       "      <td>Thatís what youíre missing.</td>\n",
       "      <td>-2</td>\n",
       "      <td>4</td>\n",
       "    </tr>\n",
       "    <tr>\n",
       "      <th>11</th>\n",
       "      <td>However, if we donÖ https://t.co/9Z8Ac6skqx @R...</td>\n",
       "      <td>-2</td>\n",
       "      <td>40</td>\n",
       "    </tr>\n",
       "    <tr>\n",
       "      <th>0</th>\n",
       "      <td>@kunalb11 Iím an alien @ID_AA_Carmack Ray trac...</td>\n",
       "      <td>0</td>\n",
       "      <td>13</td>\n",
       "    </tr>\n",
       "    <tr>\n",
       "      <th>34</th>\n",
       "      <td>@josh_bickett @ajtourville @Erdayastronaut @Sp...</td>\n",
       "      <td>0</td>\n",
       "      <td>5</td>\n",
       "    </tr>\n",
       "    <tr>\n",
       "      <th>27</th>\n",
       "      <td>Have to look at old notes, emails, texts.</td>\n",
       "      <td>0</td>\n",
       "      <td>8</td>\n",
       "    </tr>\n",
       "    <tr>\n",
       "      <th>22</th>\n",
       "      <td>Instructional video.</td>\n",
       "      <td>0</td>\n",
       "      <td>2</td>\n",
       "    </tr>\n",
       "    <tr>\n",
       "      <th>21</th>\n",
       "      <td>– is for –ogecoin!</td>\n",
       "      <td>0</td>\n",
       "      <td>4</td>\n",
       "    </tr>\n",
       "    <tr>\n",
       "      <th>19</th>\n",
       "      <td>Enough Raptors for orbit booster\\n3.</td>\n",
       "      <td>0</td>\n",
       "      <td>6</td>\n",
       "    </tr>\n",
       "    <tr>\n",
       "      <th>15</th>\n",
       "      <td>My comp is all stock/options, which I do not t...</td>\n",
       "      <td>0</td>\n",
       "      <td>13</td>\n",
       "    </tr>\n",
       "    <tr>\n",
       "      <th>14</th>\n",
       "      <td>@tobyliiiiiiiiii This is intended for Earth, b...</td>\n",
       "      <td>0</td>\n",
       "      <td>38</td>\n",
       "    </tr>\n",
       "    <tr>\n",
       "      <th>13</th>\n",
       "      <td>Only difference should be taxes &amp;amp; shipping.</td>\n",
       "      <td>0</td>\n",
       "      <td>7</td>\n",
       "    </tr>\n",
       "    <tr>\n",
       "      <th>18</th>\n",
       "      <td>Orbital launch tower that can stack\\n2.</td>\n",
       "      <td>0</td>\n",
       "      <td>7</td>\n",
       "    </tr>\n",
       "    <tr>\n",
       "      <th>10</th>\n",
       "      <td>https://t.co/3pWtÖ @ajtourville Yes @BLKMDL3 @...</td>\n",
       "      <td>0</td>\n",
       "      <td>28</td>\n",
       "    </tr>\n",
       "    <tr>\n",
       "      <th>1</th>\n",
       "      <td>Have you tried it?</td>\n",
       "      <td>0</td>\n",
       "      <td>4</td>\n",
       "    </tr>\n",
       "    <tr>\n",
       "      <th>12</th>\n",
       "      <td>Must be scalable to gÖ https://t.co/XMyI7qWSgw...</td>\n",
       "      <td>0</td>\n",
       "      <td>17</td>\n",
       "    </tr>\n",
       "    <tr>\n",
       "      <th>4</th>\n",
       "      <td>Now on to the next for even more!!</td>\n",
       "      <td>0</td>\n",
       "      <td>8</td>\n",
       "    </tr>\n",
       "    <tr>\n",
       "      <th>5</th>\n",
       "      <td>Happy New Year of the Ox!</td>\n",
       "      <td>0</td>\n",
       "      <td>6</td>\n",
       "    </tr>\n",
       "    <tr>\n",
       "      <th>36</th>\n",
       "      <td>@ajtourville @Erdayastronaut @SpaceX Yes, but ...</td>\n",
       "      <td>0</td>\n",
       "      <td>132</td>\n",
       "    </tr>\n",
       "    <tr>\n",
       "      <th>8</th>\n",
       "      <td>Tweets definitely do not represent real-world ...</td>\n",
       "      <td>0</td>\n",
       "      <td>8</td>\n",
       "    </tr>\n",
       "    <tr>\n",
       "      <th>28</th>\n",
       "      <td>@AstroJordy Yes Lessons learned Of Earth and M...</td>\n",
       "      <td>1</td>\n",
       "      <td>22</td>\n",
       "    </tr>\n",
       "    <tr>\n",
       "      <th>33</th>\n",
       "      <td>My greateÖ https://t.co/e5Wikiugkz @Adamklotz_...</td>\n",
       "      <td>1</td>\n",
       "      <td>89</td>\n",
       "    </tr>\n",
       "    <tr>\n",
       "      <th>26</th>\n",
       "      <td>This is two decades of intense work.</td>\n",
       "      <td>1</td>\n",
       "      <td>7</td>\n",
       "    </tr>\n",
       "    <tr>\n",
       "      <th>25</th>\n",
       "      <td>@JoshRoomsburg @SnoopDogg @genesimmons Its sim...</td>\n",
       "      <td>1</td>\n",
       "      <td>23</td>\n",
       "    </tr>\n",
       "    <tr>\n",
       "      <th>7</th>\n",
       "      <td>https://t.co/zGxJFDzzrM @OwenSparks_ @flcnhvy ...</td>\n",
       "      <td>2</td>\n",
       "      <td>10</td>\n",
       "    </tr>\n",
       "    <tr>\n",
       "      <th>32</th>\n",
       "      <td>@RationalEtienne &lt;U+0001F5A4&gt; @wonderofscience...</td>\n",
       "      <td>2</td>\n",
       "      <td>24</td>\n",
       "    </tr>\n",
       "    <tr>\n",
       "      <th>20</th>\n",
       "      <td>Improve ship &amp;amp; booster mass @michaelhodapp...</td>\n",
       "      <td>2</td>\n",
       "      <td>10</td>\n",
       "    </tr>\n",
       "    <tr>\n",
       "      <th>3</th>\n",
       "      <td>@gtera27 Doge is underestimated @teslacn Congr...</td>\n",
       "      <td>3</td>\n",
       "      <td>13</td>\n",
       "    </tr>\n",
       "    <tr>\n",
       "      <th>2</th>\n",
       "      <td>@joerogan @Spotify Great interview!</td>\n",
       "      <td>3</td>\n",
       "      <td>4</td>\n",
       "    </tr>\n",
       "    <tr>\n",
       "      <th>29</th>\n",
       "      <td>Itís great!!</td>\n",
       "      <td>3</td>\n",
       "      <td>2</td>\n",
       "    </tr>\n",
       "    <tr>\n",
       "      <th>30</th>\n",
       "      <td>The Second Last Kingdom https://t.co/Je4EI88Hm...</td>\n",
       "      <td>3</td>\n",
       "      <td>39</td>\n",
       "    </tr>\n",
       "    <tr>\n",
       "      <th>35</th>\n",
       "      <td>By default, engine with least lever arm would ...</td>\n",
       "      <td>3</td>\n",
       "      <td>15</td>\n",
       "    </tr>\n",
       "    <tr>\n",
       "      <th>9</th>\n",
       "      <td>The most entertaining outcome is the most like...</td>\n",
       "      <td>3</td>\n",
       "      <td>109</td>\n",
       "    </tr>\n",
       "    <tr>\n",
       "      <th>17</th>\n",
       "      <td>Back to work I go Ö @CapybaraSurfer @MattWalla...</td>\n",
       "      <td>4</td>\n",
       "      <td>39</td>\n",
       "    </tr>\n",
       "    <tr>\n",
       "      <th>31</th>\n",
       "      <td>- SJM The future currency of Earth @redlineshi...</td>\n",
       "      <td>4</td>\n",
       "      <td>13</td>\n",
       "    </tr>\n",
       "    <tr>\n",
       "      <th>24</th>\n",
       "      <td>So Ö itís finally come to this Ö https://t.co/...</td>\n",
       "      <td>4</td>\n",
       "      <td>15</td>\n",
       "    </tr>\n",
       "  </tbody>\n",
       "</table>\n",
       "</div>"
      ],
      "text/plain": [
       "                                             sentence  sentiment_value  \\\n",
       "23  https://t.co/UEEocOfcTb The people have spoken...               -3   \n",
       "6   https://t.co/9WFKMYu2oj Frodo was the underdog...               -2   \n",
       "16                        Thatís what youíre missing.               -2   \n",
       "11  However, if we donÖ https://t.co/9Z8Ac6skqx @R...               -2   \n",
       "0   @kunalb11 Iím an alien @ID_AA_Carmack Ray trac...                0   \n",
       "34  @josh_bickett @ajtourville @Erdayastronaut @Sp...                0   \n",
       "27          Have to look at old notes, emails, texts.                0   \n",
       "22                               Instructional video.                0   \n",
       "21                                 – is for –ogecoin!                0   \n",
       "19               Enough Raptors for orbit booster\\n3.                0   \n",
       "15  My comp is all stock/options, which I do not t...                0   \n",
       "14  @tobyliiiiiiiiii This is intended for Earth, b...                0   \n",
       "13    Only difference should be taxes &amp; shipping.                0   \n",
       "18            Orbital launch tower that can stack\\n2.                0   \n",
       "10  https://t.co/3pWtÖ @ajtourville Yes @BLKMDL3 @...                0   \n",
       "1                                  Have you tried it?                0   \n",
       "12  Must be scalable to gÖ https://t.co/XMyI7qWSgw...                0   \n",
       "4                  Now on to the next for even more!!                0   \n",
       "5                           Happy New Year of the Ox!                0   \n",
       "36  @ajtourville @Erdayastronaut @SpaceX Yes, but ...                0   \n",
       "8   Tweets definitely do not represent real-world ...                0   \n",
       "28  @AstroJordy Yes Lessons learned Of Earth and M...                1   \n",
       "33  My greateÖ https://t.co/e5Wikiugkz @Adamklotz_...                1   \n",
       "26               This is two decades of intense work.                1   \n",
       "25  @JoshRoomsburg @SnoopDogg @genesimmons Its sim...                1   \n",
       "7   https://t.co/zGxJFDzzrM @OwenSparks_ @flcnhvy ...                2   \n",
       "32  @RationalEtienne <U+0001F5A4> @wonderofscience...                2   \n",
       "20  Improve ship &amp; booster mass @michaelhodapp...                2   \n",
       "3   @gtera27 Doge is underestimated @teslacn Congr...                3   \n",
       "2                 @joerogan @Spotify Great interview!                3   \n",
       "29                                       Itís great!!                3   \n",
       "30  The Second Last Kingdom https://t.co/Je4EI88Hm...                3   \n",
       "35  By default, engine with least lever arm would ...                3   \n",
       "9   The most entertaining outcome is the most like...                3   \n",
       "17  Back to work I go Ö @CapybaraSurfer @MattWalla...                4   \n",
       "31  - SJM The future currency of Earth @redlineshi...                4   \n",
       "24  So Ö itís finally come to this Ö https://t.co/...                4   \n",
       "\n",
       "    word_count  \n",
       "23          38  \n",
       "6           14  \n",
       "16           4  \n",
       "11          40  \n",
       "0           13  \n",
       "34           5  \n",
       "27           8  \n",
       "22           2  \n",
       "21           4  \n",
       "19           6  \n",
       "15          13  \n",
       "14          38  \n",
       "13           7  \n",
       "18           7  \n",
       "10          28  \n",
       "1            4  \n",
       "12          17  \n",
       "4            8  \n",
       "5            6  \n",
       "36         132  \n",
       "8            8  \n",
       "28          22  \n",
       "33          89  \n",
       "26           7  \n",
       "25          23  \n",
       "7           10  \n",
       "32          24  \n",
       "20          10  \n",
       "3           13  \n",
       "2            4  \n",
       "29           2  \n",
       "30          39  \n",
       "35          15  \n",
       "9          109  \n",
       "17          39  \n",
       "31          13  \n",
       "24          15  "
      ]
     },
     "execution_count": 63,
     "metadata": {},
     "output_type": "execute_result"
    }
   ],
   "source": [
    "sent_df.sort_values(by = 'sentiment_value')"
   ]
  },
  {
   "cell_type": "markdown",
   "id": "69302db1",
   "metadata": {},
   "source": [
    "### STEP 5 = Sentiment score of whole review :"
   ]
  },
  {
   "cell_type": "code",
   "execution_count": 64,
   "id": "567fe321",
   "metadata": {
    "ExecuteTime": {
     "end_time": "2022-12-12T10:05:56.257060Z",
     "start_time": "2022-12-12T10:05:54.965326Z"
    }
   },
   "outputs": [
    {
     "data": {
      "text/plain": [
       "count    37.000000\n",
       "mean      0.837838\n",
       "std       1.771903\n",
       "min      -3.000000\n",
       "25%       0.000000\n",
       "50%       0.000000\n",
       "75%       2.000000\n",
       "max       4.000000\n",
       "Name: sentiment_value, dtype: float64"
      ]
     },
     "execution_count": 64,
     "metadata": {},
     "output_type": "execute_result"
    }
   ],
   "source": [
    "sent_df['sentiment_value'].describe()"
   ]
  },
  {
   "cell_type": "markdown",
   "id": "4e20fd32",
   "metadata": {},
   "source": [
    "### STEP 6 = Negative sentiment score of whole review :"
   ]
  },
  {
   "cell_type": "code",
   "execution_count": 65,
   "id": "73c87d82",
   "metadata": {
    "ExecuteTime": {
     "end_time": "2022-12-12T10:05:57.806651Z",
     "start_time": "2022-12-12T10:05:56.322848Z"
    }
   },
   "outputs": [
    {
     "data": {
      "text/html": [
       "<div>\n",
       "<style scoped>\n",
       "    .dataframe tbody tr th:only-of-type {\n",
       "        vertical-align: middle;\n",
       "    }\n",
       "\n",
       "    .dataframe tbody tr th {\n",
       "        vertical-align: top;\n",
       "    }\n",
       "\n",
       "    .dataframe thead th {\n",
       "        text-align: right;\n",
       "    }\n",
       "</style>\n",
       "<table border=\"1\" class=\"dataframe\">\n",
       "  <thead>\n",
       "    <tr style=\"text-align: right;\">\n",
       "      <th></th>\n",
       "      <th>sentence</th>\n",
       "      <th>sentiment_value</th>\n",
       "      <th>word_count</th>\n",
       "    </tr>\n",
       "  </thead>\n",
       "  <tbody>\n",
       "    <tr>\n",
       "      <th>0</th>\n",
       "      <td>@kunalb11 Iím an alien @ID_AA_Carmack Ray trac...</td>\n",
       "      <td>0</td>\n",
       "      <td>13</td>\n",
       "    </tr>\n",
       "    <tr>\n",
       "      <th>1</th>\n",
       "      <td>Have you tried it?</td>\n",
       "      <td>0</td>\n",
       "      <td>4</td>\n",
       "    </tr>\n",
       "    <tr>\n",
       "      <th>4</th>\n",
       "      <td>Now on to the next for even more!!</td>\n",
       "      <td>0</td>\n",
       "      <td>8</td>\n",
       "    </tr>\n",
       "    <tr>\n",
       "      <th>5</th>\n",
       "      <td>Happy New Year of the Ox!</td>\n",
       "      <td>0</td>\n",
       "      <td>6</td>\n",
       "    </tr>\n",
       "    <tr>\n",
       "      <th>6</th>\n",
       "      <td>https://t.co/9WFKMYu2oj Frodo was the underdog...</td>\n",
       "      <td>-2</td>\n",
       "      <td>14</td>\n",
       "    </tr>\n",
       "    <tr>\n",
       "      <th>8</th>\n",
       "      <td>Tweets definitely do not represent real-world ...</td>\n",
       "      <td>0</td>\n",
       "      <td>8</td>\n",
       "    </tr>\n",
       "    <tr>\n",
       "      <th>10</th>\n",
       "      <td>https://t.co/3pWtÖ @ajtourville Yes @BLKMDL3 @...</td>\n",
       "      <td>0</td>\n",
       "      <td>28</td>\n",
       "    </tr>\n",
       "    <tr>\n",
       "      <th>11</th>\n",
       "      <td>However, if we donÖ https://t.co/9Z8Ac6skqx @R...</td>\n",
       "      <td>-2</td>\n",
       "      <td>40</td>\n",
       "    </tr>\n",
       "    <tr>\n",
       "      <th>12</th>\n",
       "      <td>Must be scalable to gÖ https://t.co/XMyI7qWSgw...</td>\n",
       "      <td>0</td>\n",
       "      <td>17</td>\n",
       "    </tr>\n",
       "    <tr>\n",
       "      <th>13</th>\n",
       "      <td>Only difference should be taxes &amp;amp; shipping.</td>\n",
       "      <td>0</td>\n",
       "      <td>7</td>\n",
       "    </tr>\n",
       "    <tr>\n",
       "      <th>14</th>\n",
       "      <td>@tobyliiiiiiiiii This is intended for Earth, b...</td>\n",
       "      <td>0</td>\n",
       "      <td>38</td>\n",
       "    </tr>\n",
       "    <tr>\n",
       "      <th>15</th>\n",
       "      <td>My comp is all stock/options, which I do not t...</td>\n",
       "      <td>0</td>\n",
       "      <td>13</td>\n",
       "    </tr>\n",
       "    <tr>\n",
       "      <th>16</th>\n",
       "      <td>Thatís what youíre missing.</td>\n",
       "      <td>-2</td>\n",
       "      <td>4</td>\n",
       "    </tr>\n",
       "    <tr>\n",
       "      <th>18</th>\n",
       "      <td>Orbital launch tower that can stack\\n2.</td>\n",
       "      <td>0</td>\n",
       "      <td>7</td>\n",
       "    </tr>\n",
       "    <tr>\n",
       "      <th>19</th>\n",
       "      <td>Enough Raptors for orbit booster\\n3.</td>\n",
       "      <td>0</td>\n",
       "      <td>6</td>\n",
       "    </tr>\n",
       "    <tr>\n",
       "      <th>21</th>\n",
       "      <td>– is for –ogecoin!</td>\n",
       "      <td>0</td>\n",
       "      <td>4</td>\n",
       "    </tr>\n",
       "    <tr>\n",
       "      <th>22</th>\n",
       "      <td>Instructional video.</td>\n",
       "      <td>0</td>\n",
       "      <td>2</td>\n",
       "    </tr>\n",
       "    <tr>\n",
       "      <th>23</th>\n",
       "      <td>https://t.co/UEEocOfcTb The people have spoken...</td>\n",
       "      <td>-3</td>\n",
       "      <td>38</td>\n",
       "    </tr>\n",
       "    <tr>\n",
       "      <th>27</th>\n",
       "      <td>Have to look at old notes, emails, texts.</td>\n",
       "      <td>0</td>\n",
       "      <td>8</td>\n",
       "    </tr>\n",
       "    <tr>\n",
       "      <th>34</th>\n",
       "      <td>@josh_bickett @ajtourville @Erdayastronaut @Sp...</td>\n",
       "      <td>0</td>\n",
       "      <td>5</td>\n",
       "    </tr>\n",
       "    <tr>\n",
       "      <th>36</th>\n",
       "      <td>@ajtourville @Erdayastronaut @SpaceX Yes, but ...</td>\n",
       "      <td>0</td>\n",
       "      <td>132</td>\n",
       "    </tr>\n",
       "  </tbody>\n",
       "</table>\n",
       "</div>"
      ],
      "text/plain": [
       "                                             sentence  sentiment_value  \\\n",
       "0   @kunalb11 Iím an alien @ID_AA_Carmack Ray trac...                0   \n",
       "1                                  Have you tried it?                0   \n",
       "4                  Now on to the next for even more!!                0   \n",
       "5                           Happy New Year of the Ox!                0   \n",
       "6   https://t.co/9WFKMYu2oj Frodo was the underdog...               -2   \n",
       "8   Tweets definitely do not represent real-world ...                0   \n",
       "10  https://t.co/3pWtÖ @ajtourville Yes @BLKMDL3 @...                0   \n",
       "11  However, if we donÖ https://t.co/9Z8Ac6skqx @R...               -2   \n",
       "12  Must be scalable to gÖ https://t.co/XMyI7qWSgw...                0   \n",
       "13    Only difference should be taxes &amp; shipping.                0   \n",
       "14  @tobyliiiiiiiiii This is intended for Earth, b...                0   \n",
       "15  My comp is all stock/options, which I do not t...                0   \n",
       "16                        Thatís what youíre missing.               -2   \n",
       "18            Orbital launch tower that can stack\\n2.                0   \n",
       "19               Enough Raptors for orbit booster\\n3.                0   \n",
       "21                                 – is for –ogecoin!                0   \n",
       "22                               Instructional video.                0   \n",
       "23  https://t.co/UEEocOfcTb The people have spoken...               -3   \n",
       "27          Have to look at old notes, emails, texts.                0   \n",
       "34  @josh_bickett @ajtourville @Erdayastronaut @Sp...                0   \n",
       "36  @ajtourville @Erdayastronaut @SpaceX Yes, but ...                0   \n",
       "\n",
       "    word_count  \n",
       "0           13  \n",
       "1            4  \n",
       "4            8  \n",
       "5            6  \n",
       "6           14  \n",
       "8            8  \n",
       "10          28  \n",
       "11          40  \n",
       "12          17  \n",
       "13           7  \n",
       "14          38  \n",
       "15          13  \n",
       "16           4  \n",
       "18           7  \n",
       "19           6  \n",
       "21           4  \n",
       "22           2  \n",
       "23          38  \n",
       "27           8  \n",
       "34           5  \n",
       "36         132  "
      ]
     },
     "execution_count": 65,
     "metadata": {},
     "output_type": "execute_result"
    }
   ],
   "source": [
    "sent_df[sent_df['sentiment_value']<=0]"
   ]
  },
  {
   "cell_type": "markdown",
   "id": "384a6d33",
   "metadata": {},
   "source": [
    "### STEP 7 = Positive sentiment score of whole review :"
   ]
  },
  {
   "cell_type": "code",
   "execution_count": 66,
   "id": "bf1446c1",
   "metadata": {
    "ExecuteTime": {
     "end_time": "2022-12-12T10:05:57.898375Z",
     "start_time": "2022-12-12T10:05:57.873448Z"
    }
   },
   "outputs": [
    {
     "data": {
      "text/html": [
       "<div>\n",
       "<style scoped>\n",
       "    .dataframe tbody tr th:only-of-type {\n",
       "        vertical-align: middle;\n",
       "    }\n",
       "\n",
       "    .dataframe tbody tr th {\n",
       "        vertical-align: top;\n",
       "    }\n",
       "\n",
       "    .dataframe thead th {\n",
       "        text-align: right;\n",
       "    }\n",
       "</style>\n",
       "<table border=\"1\" class=\"dataframe\">\n",
       "  <thead>\n",
       "    <tr style=\"text-align: right;\">\n",
       "      <th></th>\n",
       "      <th>sentence</th>\n",
       "      <th>sentiment_value</th>\n",
       "      <th>word_count</th>\n",
       "    </tr>\n",
       "  </thead>\n",
       "  <tbody>\n",
       "    <tr>\n",
       "      <th>2</th>\n",
       "      <td>@joerogan @Spotify Great interview!</td>\n",
       "      <td>3</td>\n",
       "      <td>4</td>\n",
       "    </tr>\n",
       "    <tr>\n",
       "      <th>3</th>\n",
       "      <td>@gtera27 Doge is underestimated @teslacn Congr...</td>\n",
       "      <td>3</td>\n",
       "      <td>13</td>\n",
       "    </tr>\n",
       "    <tr>\n",
       "      <th>7</th>\n",
       "      <td>https://t.co/zGxJFDzzrM @OwenSparks_ @flcnhvy ...</td>\n",
       "      <td>2</td>\n",
       "      <td>10</td>\n",
       "    </tr>\n",
       "    <tr>\n",
       "      <th>9</th>\n",
       "      <td>The most entertaining outcome is the most like...</td>\n",
       "      <td>3</td>\n",
       "      <td>109</td>\n",
       "    </tr>\n",
       "    <tr>\n",
       "      <th>17</th>\n",
       "      <td>Back to work I go Ö @CapybaraSurfer @MattWalla...</td>\n",
       "      <td>4</td>\n",
       "      <td>39</td>\n",
       "    </tr>\n",
       "    <tr>\n",
       "      <th>20</th>\n",
       "      <td>Improve ship &amp;amp; booster mass @michaelhodapp...</td>\n",
       "      <td>2</td>\n",
       "      <td>10</td>\n",
       "    </tr>\n",
       "    <tr>\n",
       "      <th>24</th>\n",
       "      <td>So Ö itís finally come to this Ö https://t.co/...</td>\n",
       "      <td>4</td>\n",
       "      <td>15</td>\n",
       "    </tr>\n",
       "    <tr>\n",
       "      <th>25</th>\n",
       "      <td>@JoshRoomsburg @SnoopDogg @genesimmons Its sim...</td>\n",
       "      <td>1</td>\n",
       "      <td>23</td>\n",
       "    </tr>\n",
       "    <tr>\n",
       "      <th>26</th>\n",
       "      <td>This is two decades of intense work.</td>\n",
       "      <td>1</td>\n",
       "      <td>7</td>\n",
       "    </tr>\n",
       "    <tr>\n",
       "      <th>28</th>\n",
       "      <td>@AstroJordy Yes Lessons learned Of Earth and M...</td>\n",
       "      <td>1</td>\n",
       "      <td>22</td>\n",
       "    </tr>\n",
       "    <tr>\n",
       "      <th>29</th>\n",
       "      <td>Itís great!!</td>\n",
       "      <td>3</td>\n",
       "      <td>2</td>\n",
       "    </tr>\n",
       "    <tr>\n",
       "      <th>30</th>\n",
       "      <td>The Second Last Kingdom https://t.co/Je4EI88Hm...</td>\n",
       "      <td>3</td>\n",
       "      <td>39</td>\n",
       "    </tr>\n",
       "    <tr>\n",
       "      <th>31</th>\n",
       "      <td>- SJM The future currency of Earth @redlineshi...</td>\n",
       "      <td>4</td>\n",
       "      <td>13</td>\n",
       "    </tr>\n",
       "    <tr>\n",
       "      <th>32</th>\n",
       "      <td>@RationalEtienne &lt;U+0001F5A4&gt; @wonderofscience...</td>\n",
       "      <td>2</td>\n",
       "      <td>24</td>\n",
       "    </tr>\n",
       "    <tr>\n",
       "      <th>33</th>\n",
       "      <td>My greateÖ https://t.co/e5Wikiugkz @Adamklotz_...</td>\n",
       "      <td>1</td>\n",
       "      <td>89</td>\n",
       "    </tr>\n",
       "    <tr>\n",
       "      <th>35</th>\n",
       "      <td>By default, engine with least lever arm would ...</td>\n",
       "      <td>3</td>\n",
       "      <td>15</td>\n",
       "    </tr>\n",
       "  </tbody>\n",
       "</table>\n",
       "</div>"
      ],
      "text/plain": [
       "                                             sentence  sentiment_value  \\\n",
       "2                 @joerogan @Spotify Great interview!                3   \n",
       "3   @gtera27 Doge is underestimated @teslacn Congr...                3   \n",
       "7   https://t.co/zGxJFDzzrM @OwenSparks_ @flcnhvy ...                2   \n",
       "9   The most entertaining outcome is the most like...                3   \n",
       "17  Back to work I go Ö @CapybaraSurfer @MattWalla...                4   \n",
       "20  Improve ship &amp; booster mass @michaelhodapp...                2   \n",
       "24  So Ö itís finally come to this Ö https://t.co/...                4   \n",
       "25  @JoshRoomsburg @SnoopDogg @genesimmons Its sim...                1   \n",
       "26               This is two decades of intense work.                1   \n",
       "28  @AstroJordy Yes Lessons learned Of Earth and M...                1   \n",
       "29                                       Itís great!!                3   \n",
       "30  The Second Last Kingdom https://t.co/Je4EI88Hm...                3   \n",
       "31  - SJM The future currency of Earth @redlineshi...                4   \n",
       "32  @RationalEtienne <U+0001F5A4> @wonderofscience...                2   \n",
       "33  My greateÖ https://t.co/e5Wikiugkz @Adamklotz_...                1   \n",
       "35  By default, engine with least lever arm would ...                3   \n",
       "\n",
       "    word_count  \n",
       "2            4  \n",
       "3           13  \n",
       "7           10  \n",
       "9          109  \n",
       "17          39  \n",
       "20          10  \n",
       "24          15  \n",
       "25          23  \n",
       "26           7  \n",
       "28          22  \n",
       "29           2  \n",
       "30          39  \n",
       "31          13  \n",
       "32          24  \n",
       "33          89  \n",
       "35          15  "
      ]
     },
     "execution_count": 66,
     "metadata": {},
     "output_type": "execute_result"
    }
   ],
   "source": [
    "sent_df[sent_df['sentiment_value'] > 0]"
   ]
  },
  {
   "cell_type": "markdown",
   "id": "6d9a142b",
   "metadata": {},
   "source": [
    "### STEP 8 = Adding index cloumn :"
   ]
  },
  {
   "cell_type": "code",
   "execution_count": 67,
   "id": "2b88e1d2",
   "metadata": {
    "ExecuteTime": {
     "end_time": "2022-12-12T10:05:59.752814Z",
     "start_time": "2022-12-12T10:05:59.712921Z"
    }
   },
   "outputs": [
    {
     "data": {
      "text/html": [
       "<div>\n",
       "<style scoped>\n",
       "    .dataframe tbody tr th:only-of-type {\n",
       "        vertical-align: middle;\n",
       "    }\n",
       "\n",
       "    .dataframe tbody tr th {\n",
       "        vertical-align: top;\n",
       "    }\n",
       "\n",
       "    .dataframe thead th {\n",
       "        text-align: right;\n",
       "    }\n",
       "</style>\n",
       "<table border=\"1\" class=\"dataframe\">\n",
       "  <thead>\n",
       "    <tr style=\"text-align: right;\">\n",
       "      <th></th>\n",
       "      <th>sentence</th>\n",
       "      <th>sentiment_value</th>\n",
       "      <th>word_count</th>\n",
       "      <th>index</th>\n",
       "    </tr>\n",
       "  </thead>\n",
       "  <tbody>\n",
       "    <tr>\n",
       "      <th>0</th>\n",
       "      <td>@kunalb11 Iím an alien @ID_AA_Carmack Ray trac...</td>\n",
       "      <td>0</td>\n",
       "      <td>13</td>\n",
       "      <td>0</td>\n",
       "    </tr>\n",
       "    <tr>\n",
       "      <th>1</th>\n",
       "      <td>Have you tried it?</td>\n",
       "      <td>0</td>\n",
       "      <td>4</td>\n",
       "      <td>1</td>\n",
       "    </tr>\n",
       "    <tr>\n",
       "      <th>2</th>\n",
       "      <td>@joerogan @Spotify Great interview!</td>\n",
       "      <td>3</td>\n",
       "      <td>4</td>\n",
       "      <td>2</td>\n",
       "    </tr>\n",
       "    <tr>\n",
       "      <th>3</th>\n",
       "      <td>@gtera27 Doge is underestimated @teslacn Congr...</td>\n",
       "      <td>3</td>\n",
       "      <td>13</td>\n",
       "      <td>3</td>\n",
       "    </tr>\n",
       "    <tr>\n",
       "      <th>4</th>\n",
       "      <td>Now on to the next for even more!!</td>\n",
       "      <td>0</td>\n",
       "      <td>8</td>\n",
       "      <td>4</td>\n",
       "    </tr>\n",
       "    <tr>\n",
       "      <th>5</th>\n",
       "      <td>Happy New Year of the Ox!</td>\n",
       "      <td>0</td>\n",
       "      <td>6</td>\n",
       "      <td>5</td>\n",
       "    </tr>\n",
       "    <tr>\n",
       "      <th>6</th>\n",
       "      <td>https://t.co/9WFKMYu2oj Frodo was the underdog...</td>\n",
       "      <td>-2</td>\n",
       "      <td>14</td>\n",
       "      <td>6</td>\n",
       "    </tr>\n",
       "    <tr>\n",
       "      <th>7</th>\n",
       "      <td>https://t.co/zGxJFDzzrM @OwenSparks_ @flcnhvy ...</td>\n",
       "      <td>2</td>\n",
       "      <td>10</td>\n",
       "      <td>7</td>\n",
       "    </tr>\n",
       "    <tr>\n",
       "      <th>8</th>\n",
       "      <td>Tweets definitely do not represent real-world ...</td>\n",
       "      <td>0</td>\n",
       "      <td>8</td>\n",
       "      <td>8</td>\n",
       "    </tr>\n",
       "    <tr>\n",
       "      <th>9</th>\n",
       "      <td>The most entertaining outcome is the most like...</td>\n",
       "      <td>3</td>\n",
       "      <td>109</td>\n",
       "      <td>9</td>\n",
       "    </tr>\n",
       "    <tr>\n",
       "      <th>10</th>\n",
       "      <td>https://t.co/3pWtÖ @ajtourville Yes @BLKMDL3 @...</td>\n",
       "      <td>0</td>\n",
       "      <td>28</td>\n",
       "      <td>10</td>\n",
       "    </tr>\n",
       "    <tr>\n",
       "      <th>11</th>\n",
       "      <td>However, if we donÖ https://t.co/9Z8Ac6skqx @R...</td>\n",
       "      <td>-2</td>\n",
       "      <td>40</td>\n",
       "      <td>11</td>\n",
       "    </tr>\n",
       "    <tr>\n",
       "      <th>12</th>\n",
       "      <td>Must be scalable to gÖ https://t.co/XMyI7qWSgw...</td>\n",
       "      <td>0</td>\n",
       "      <td>17</td>\n",
       "      <td>12</td>\n",
       "    </tr>\n",
       "    <tr>\n",
       "      <th>13</th>\n",
       "      <td>Only difference should be taxes &amp;amp; shipping.</td>\n",
       "      <td>0</td>\n",
       "      <td>7</td>\n",
       "      <td>13</td>\n",
       "    </tr>\n",
       "    <tr>\n",
       "      <th>14</th>\n",
       "      <td>@tobyliiiiiiiiii This is intended for Earth, b...</td>\n",
       "      <td>0</td>\n",
       "      <td>38</td>\n",
       "      <td>14</td>\n",
       "    </tr>\n",
       "    <tr>\n",
       "      <th>15</th>\n",
       "      <td>My comp is all stock/options, which I do not t...</td>\n",
       "      <td>0</td>\n",
       "      <td>13</td>\n",
       "      <td>15</td>\n",
       "    </tr>\n",
       "    <tr>\n",
       "      <th>16</th>\n",
       "      <td>Thatís what youíre missing.</td>\n",
       "      <td>-2</td>\n",
       "      <td>4</td>\n",
       "      <td>16</td>\n",
       "    </tr>\n",
       "    <tr>\n",
       "      <th>17</th>\n",
       "      <td>Back to work I go Ö @CapybaraSurfer @MattWalla...</td>\n",
       "      <td>4</td>\n",
       "      <td>39</td>\n",
       "      <td>17</td>\n",
       "    </tr>\n",
       "    <tr>\n",
       "      <th>18</th>\n",
       "      <td>Orbital launch tower that can stack\\n2.</td>\n",
       "      <td>0</td>\n",
       "      <td>7</td>\n",
       "      <td>18</td>\n",
       "    </tr>\n",
       "    <tr>\n",
       "      <th>19</th>\n",
       "      <td>Enough Raptors for orbit booster\\n3.</td>\n",
       "      <td>0</td>\n",
       "      <td>6</td>\n",
       "      <td>19</td>\n",
       "    </tr>\n",
       "    <tr>\n",
       "      <th>20</th>\n",
       "      <td>Improve ship &amp;amp; booster mass @michaelhodapp...</td>\n",
       "      <td>2</td>\n",
       "      <td>10</td>\n",
       "      <td>20</td>\n",
       "    </tr>\n",
       "    <tr>\n",
       "      <th>21</th>\n",
       "      <td>– is for –ogecoin!</td>\n",
       "      <td>0</td>\n",
       "      <td>4</td>\n",
       "      <td>21</td>\n",
       "    </tr>\n",
       "    <tr>\n",
       "      <th>22</th>\n",
       "      <td>Instructional video.</td>\n",
       "      <td>0</td>\n",
       "      <td>2</td>\n",
       "      <td>22</td>\n",
       "    </tr>\n",
       "    <tr>\n",
       "      <th>23</th>\n",
       "      <td>https://t.co/UEEocOfcTb The people have spoken...</td>\n",
       "      <td>-3</td>\n",
       "      <td>38</td>\n",
       "      <td>23</td>\n",
       "    </tr>\n",
       "    <tr>\n",
       "      <th>24</th>\n",
       "      <td>So Ö itís finally come to this Ö https://t.co/...</td>\n",
       "      <td>4</td>\n",
       "      <td>15</td>\n",
       "      <td>24</td>\n",
       "    </tr>\n",
       "    <tr>\n",
       "      <th>25</th>\n",
       "      <td>@JoshRoomsburg @SnoopDogg @genesimmons Its sim...</td>\n",
       "      <td>1</td>\n",
       "      <td>23</td>\n",
       "      <td>25</td>\n",
       "    </tr>\n",
       "    <tr>\n",
       "      <th>26</th>\n",
       "      <td>This is two decades of intense work.</td>\n",
       "      <td>1</td>\n",
       "      <td>7</td>\n",
       "      <td>26</td>\n",
       "    </tr>\n",
       "    <tr>\n",
       "      <th>27</th>\n",
       "      <td>Have to look at old notes, emails, texts.</td>\n",
       "      <td>0</td>\n",
       "      <td>8</td>\n",
       "      <td>27</td>\n",
       "    </tr>\n",
       "    <tr>\n",
       "      <th>28</th>\n",
       "      <td>@AstroJordy Yes Lessons learned Of Earth and M...</td>\n",
       "      <td>1</td>\n",
       "      <td>22</td>\n",
       "      <td>28</td>\n",
       "    </tr>\n",
       "    <tr>\n",
       "      <th>29</th>\n",
       "      <td>Itís great!!</td>\n",
       "      <td>3</td>\n",
       "      <td>2</td>\n",
       "      <td>29</td>\n",
       "    </tr>\n",
       "    <tr>\n",
       "      <th>30</th>\n",
       "      <td>The Second Last Kingdom https://t.co/Je4EI88Hm...</td>\n",
       "      <td>3</td>\n",
       "      <td>39</td>\n",
       "      <td>30</td>\n",
       "    </tr>\n",
       "    <tr>\n",
       "      <th>31</th>\n",
       "      <td>- SJM The future currency of Earth @redlineshi...</td>\n",
       "      <td>4</td>\n",
       "      <td>13</td>\n",
       "      <td>31</td>\n",
       "    </tr>\n",
       "    <tr>\n",
       "      <th>32</th>\n",
       "      <td>@RationalEtienne &lt;U+0001F5A4&gt; @wonderofscience...</td>\n",
       "      <td>2</td>\n",
       "      <td>24</td>\n",
       "      <td>32</td>\n",
       "    </tr>\n",
       "    <tr>\n",
       "      <th>33</th>\n",
       "      <td>My greateÖ https://t.co/e5Wikiugkz @Adamklotz_...</td>\n",
       "      <td>1</td>\n",
       "      <td>89</td>\n",
       "      <td>33</td>\n",
       "    </tr>\n",
       "    <tr>\n",
       "      <th>34</th>\n",
       "      <td>@josh_bickett @ajtourville @Erdayastronaut @Sp...</td>\n",
       "      <td>0</td>\n",
       "      <td>5</td>\n",
       "      <td>34</td>\n",
       "    </tr>\n",
       "    <tr>\n",
       "      <th>35</th>\n",
       "      <td>By default, engine with least lever arm would ...</td>\n",
       "      <td>3</td>\n",
       "      <td>15</td>\n",
       "      <td>35</td>\n",
       "    </tr>\n",
       "    <tr>\n",
       "      <th>36</th>\n",
       "      <td>@ajtourville @Erdayastronaut @SpaceX Yes, but ...</td>\n",
       "      <td>0</td>\n",
       "      <td>132</td>\n",
       "      <td>36</td>\n",
       "    </tr>\n",
       "  </tbody>\n",
       "</table>\n",
       "</div>"
      ],
      "text/plain": [
       "                                             sentence  sentiment_value  \\\n",
       "0   @kunalb11 Iím an alien @ID_AA_Carmack Ray trac...                0   \n",
       "1                                  Have you tried it?                0   \n",
       "2                 @joerogan @Spotify Great interview!                3   \n",
       "3   @gtera27 Doge is underestimated @teslacn Congr...                3   \n",
       "4                  Now on to the next for even more!!                0   \n",
       "5                           Happy New Year of the Ox!                0   \n",
       "6   https://t.co/9WFKMYu2oj Frodo was the underdog...               -2   \n",
       "7   https://t.co/zGxJFDzzrM @OwenSparks_ @flcnhvy ...                2   \n",
       "8   Tweets definitely do not represent real-world ...                0   \n",
       "9   The most entertaining outcome is the most like...                3   \n",
       "10  https://t.co/3pWtÖ @ajtourville Yes @BLKMDL3 @...                0   \n",
       "11  However, if we donÖ https://t.co/9Z8Ac6skqx @R...               -2   \n",
       "12  Must be scalable to gÖ https://t.co/XMyI7qWSgw...                0   \n",
       "13    Only difference should be taxes &amp; shipping.                0   \n",
       "14  @tobyliiiiiiiiii This is intended for Earth, b...                0   \n",
       "15  My comp is all stock/options, which I do not t...                0   \n",
       "16                        Thatís what youíre missing.               -2   \n",
       "17  Back to work I go Ö @CapybaraSurfer @MattWalla...                4   \n",
       "18            Orbital launch tower that can stack\\n2.                0   \n",
       "19               Enough Raptors for orbit booster\\n3.                0   \n",
       "20  Improve ship &amp; booster mass @michaelhodapp...                2   \n",
       "21                                 – is for –ogecoin!                0   \n",
       "22                               Instructional video.                0   \n",
       "23  https://t.co/UEEocOfcTb The people have spoken...               -3   \n",
       "24  So Ö itís finally come to this Ö https://t.co/...                4   \n",
       "25  @JoshRoomsburg @SnoopDogg @genesimmons Its sim...                1   \n",
       "26               This is two decades of intense work.                1   \n",
       "27          Have to look at old notes, emails, texts.                0   \n",
       "28  @AstroJordy Yes Lessons learned Of Earth and M...                1   \n",
       "29                                       Itís great!!                3   \n",
       "30  The Second Last Kingdom https://t.co/Je4EI88Hm...                3   \n",
       "31  - SJM The future currency of Earth @redlineshi...                4   \n",
       "32  @RationalEtienne <U+0001F5A4> @wonderofscience...                2   \n",
       "33  My greateÖ https://t.co/e5Wikiugkz @Adamklotz_...                1   \n",
       "34  @josh_bickett @ajtourville @Erdayastronaut @Sp...                0   \n",
       "35  By default, engine with least lever arm would ...                3   \n",
       "36  @ajtourville @Erdayastronaut @SpaceX Yes, but ...                0   \n",
       "\n",
       "    word_count  index  \n",
       "0           13      0  \n",
       "1            4      1  \n",
       "2            4      2  \n",
       "3           13      3  \n",
       "4            8      4  \n",
       "5            6      5  \n",
       "6           14      6  \n",
       "7           10      7  \n",
       "8            8      8  \n",
       "9          109      9  \n",
       "10          28     10  \n",
       "11          40     11  \n",
       "12          17     12  \n",
       "13           7     13  \n",
       "14          38     14  \n",
       "15          13     15  \n",
       "16           4     16  \n",
       "17          39     17  \n",
       "18           7     18  \n",
       "19           6     19  \n",
       "20          10     20  \n",
       "21           4     21  \n",
       "22           2     22  \n",
       "23          38     23  \n",
       "24          15     24  \n",
       "25          23     25  \n",
       "26           7     26  \n",
       "27           8     27  \n",
       "28          22     28  \n",
       "29           2     29  \n",
       "30          39     30  \n",
       "31          13     31  \n",
       "32          24     32  \n",
       "33          89     33  \n",
       "34           5     34  \n",
       "35          15     35  \n",
       "36         132     36  "
      ]
     },
     "execution_count": 67,
     "metadata": {},
     "output_type": "execute_result"
    }
   ],
   "source": [
    "sent_df['index'] = range(0,len(sent_df))\n",
    "sent_df"
   ]
  },
  {
   "cell_type": "markdown",
   "id": "8662ed6a",
   "metadata": {},
   "source": [
    "### STEP 9 = Plotting the sentiment value for whole review :"
   ]
  },
  {
   "cell_type": "code",
   "execution_count": 68,
   "id": "7f9fbab0",
   "metadata": {
    "ExecuteTime": {
     "end_time": "2022-12-12T10:06:01.052274Z",
     "start_time": "2022-12-12T10:06:01.044294Z"
    }
   },
   "outputs": [],
   "source": [
    "import seaborn as sns"
   ]
  },
  {
   "cell_type": "code",
   "execution_count": 69,
   "id": "e62edef5",
   "metadata": {
    "ExecuteTime": {
     "end_time": "2022-12-12T10:06:02.424173Z",
     "start_time": "2022-12-12T10:06:01.729849Z"
    }
   },
   "outputs": [
    {
     "data": {
      "image/png": "[encoded data removed]",
      "text/plain": [
       "<Figure size 864x576 with 1 Axes>"
      ]
     },
     "metadata": {
      "needs_background": "light"
     },
     "output_type": "display_data"
    }
   ],
   "source": [
    "plt.figure(figsize = (12,8))\n",
    "sns.distplot(sent_df['sentiment_value'])\n",
    "plt.title('Sentiment Value Plot')\n",
    "plt.show()"
   ]
  },
  {
   "cell_type": "markdown",
   "id": "669b0141",
   "metadata": {},
   "source": [
    "### STEP 10 =  Plotting the line plot for sentiment value of whole review :"
   ]
  },
  {
   "cell_type": "code",
   "execution_count": 70,
   "id": "9e529da2",
   "metadata": {
    "ExecuteTime": {
     "end_time": "2022-12-12T10:06:04.288688Z",
     "start_time": "2022-12-12T10:06:03.261975Z"
    }
   },
   "outputs": [
    {
     "data": {
      "image/png": "[encoded data removed]",
      "text/plain": [
       "<Figure size 1008x720 with 1 Axes>"
      ]
     },
     "metadata": {
      "needs_background": "light"
     },
     "output_type": "display_data"
    }
   ],
   "source": [
    "plt.figure(figsize = (14,10))\n",
    "sns.lineplot(y ='sentiment_value',x = 'index',data = sent_df)\n",
    "plt.title('Sentiment Line Plot')\n",
    "plt.show()"
   ]
  },
  {
   "cell_type": "markdown",
   "id": "76500ca0",
   "metadata": {},
   "source": [
    "### STEP 11 =  Correlation analysis:"
   ]
  },
  {
   "cell_type": "code",
   "execution_count": 71,
   "id": "d8f7d145",
   "metadata": {
    "ExecuteTime": {
     "end_time": "2022-12-12T10:06:06.032052Z",
     "start_time": "2022-12-12T10:06:05.081721Z"
    }
   },
   "outputs": [
    {
     "data": {
      "image/png": "[encoded data removed]",
      "text/plain": [
       "<Figure size 576x360 with 1 Axes>"
      ]
     },
     "metadata": {
      "needs_background": "light"
     },
     "output_type": "display_data"
    }
   ],
   "source": [
    "sent_df.plot.scatter(x = 'word_count',y = 'sentiment_value',\n",
    "                     figsize = (8,5),title = 'Sentence sentiment value to sentence word count Plot')\n",
    "plt.show()"
   ]
  },
  {
   "cell_type": "markdown",
   "id": "18d4d347",
   "metadata": {},
   "source": [
    "# Conclusion :\n",
    "    According to sentiment values from the above graphs we get to know that the positive tweets are more as compare to \n",
    "    negative tweets."
   ]
  },
  {
   "cell_type": "code",
   "execution_count": null,
   "id": "46875936",
   "metadata": {},
   "outputs": [],
   "source": []
  },
  {
   "cell_type": "code",
   "execution_count": null,
   "id": "8decf121",
   "metadata": {},
   "outputs": [],
   "source": []
  }
 ],
 "metadata": {
  "kernelspec": {
   "display_name": "Python 3",
   "language": "python",
   "name": "python3"
  },
  "language_info": {
   "codemirror_mode": {
    "name": "ipython",
    "version": 3
   },
   "file_extension": ".py",
   "mimetype": "text/x-python",
   "name": "python",
   "nbconvert_exporter": "python",
   "pygments_lexer": "ipython3",
   "version": "3.8.8"
  },
  "varInspector": {
   "cols": {
    "lenName": 16,
    "lenType": 16,
    "lenVar": 40
   },
   "kernels_config": {
    "python": {
     "delete_cmd_postfix": "",
     "delete_cmd_prefix": "del ",
     "library": "var_list.py",
     "varRefreshCmd": "print(var_dic_list())"
    },
    "r": {
     "delete_cmd_postfix": ") ",
     "delete_cmd_prefix": "rm(",
     "library": "var_list.r",
     "varRefreshCmd": "cat(var_dic_list()) "
    }
   },
   "types_to_exclude": [
    "module",
    "function",
    "builtin_function_or_method",
    "instance",
    "_Feature"
   ],
   "window_display": false
  }
 },
 "nbformat": 4,
 "nbformat_minor": 5
}
